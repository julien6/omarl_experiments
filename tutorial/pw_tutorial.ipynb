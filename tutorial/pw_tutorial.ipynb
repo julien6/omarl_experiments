{
 "cells": [
  {
   "cell_type": "markdown",
   "metadata": {
    "id": "pmDI-h7cI0tI"
   },
   "source": [
    "# Use PRAHOM Pettingzoo Wrapper"
   ]
  },
  {
   "cell_type": "markdown",
   "metadata": {
    "id": "lsaQlK8fFQqH"
   },
   "source": [
    "## Introducing PRAHOM"
   ]
  },
  {
   "cell_type": "markdown",
   "metadata": {
    "id": "cKOCZlhUgXVK"
   },
   "source": [
    "### PRAHOM context\n",
    "\n",
    "Given a Markovian model of an environment where agents have to collaborate to reach a common goal, solving it is just finding a right joint-policy (we can view as a set of rules for all agents) to achieve it.\n",
    "\n",
    "*Multi-Agent Reinforcement Learning* allows converging to a joint-policy that reach the common goal. Yet a regular MARL pipeline does not cover two main concerns:\n",
    " - The \"trained\" joint-policy is often difficult to understand raising explainability and safety issues\n",
    " - It is difficult to satisfy some extra constraints we want sometimes in order to meet some design requirements or to help agents to converge faster within a restricted search space."
   ]
  },
  {
   "cell_type": "markdown",
   "metadata": {},
   "source": [
    "### About PRAHOM\n",
    "The Partial *Relation between Agents' History and Organizational Model* (PRAHOM) is an algorithmic approach aiming to link MARL with the $\\mathcal{M}OISE^+$ Organizational Model. It seeks to explicating and handling the collective emergent behavior of a regular MARL pipeline by leveraging agents' histories as a common ground between MARL and Organizational Specifications (OS).\n",
    "\n",
    "Indeed, PRAHOM enables:\n",
    " - Training of a joint-policy under OS viewed as constraints.\n",
    " - Inferring organizational specifications from a \"trained\" joint-policies"
   ]
  },
  {
   "cell_type": "markdown",
   "metadata": {},
   "source": [
    "#### Typical use case\n",
    "For example, if you are given a set of agents acting for a football team that has to score a goal against an enemy team, you have several choices to implement the joint-policy depending on the level of constraining:\n",
    " - In the least constrained case, you may choose to let them learn the best way to organize themselves without any indication $\\rightarrow$ It is regular MARL where agents may find some very empiric over-fitted solution in the beginning, and it generally takes a lot of time for a joint-policy to become more general by training on differently generated environments. In that case, some collective structured patterns may appear that are naturally fitted on the long term: roles such as goalkeeper, defender, attacker... may appear in someway.\n",
    " - In the most constrained case, you may choose to tell what agents must do in every circumstances $\\rightarrow$ Indeed it is just creating a hand-crafted joint-policy and there is no learning.\n",
    " - Between these two ends, you may also choose agents to learn within a restricted search space you think to be relevant to speed up the converging towards a partially defined joint-policy $\\rightarrow$ Some agents may be forced to be close to the goal cages while other may be forced to go to the front or forcing: you can expect some roles to appear to attack and some other ones to defend.\n",
    "  "
   ]
  },
  {
   "cell_type": "markdown",
   "metadata": {},
   "source": [
    "## PRAHOM Pettingzoo wrapper"
   ]
  },
  {
   "cell_type": "markdown",
   "metadata": {},
   "source": [
    "*PRAHOM Pettingzoo Wrapper* is an additional layer to augment a Pettingzoo environment with functionalities to help a user apply PRAHOM.\n",
    "Its use can be summarized according to 4 main steps as follow:\n",
    "\n",
    "1) [optional: Determining some known OS and associate them some joint-histories]\n",
    "2) [optional: Constrain agent to some of the known OS]\n",
    "3) Proceed to the MARL pipeline under optionally defined constraints and avoiding over-fitting\n",
    "4) Inferring the refined OS after training"
   ]
  },
  {
   "cell_type": "markdown",
   "metadata": {},
   "source": [
    "**In this tutorial, we walk through these 4 steps:**\n",
    " - **In the simple *Moving Company* environment to highlight rather individual specifications**\n",
    " - **In the *Predators-preys* environment to highlight rather social and collective specifications**"
   ]
  },
  {
   "cell_type": "markdown",
   "metadata": {},
   "source": [
    "## Setup"
   ]
  },
  {
   "cell_type": "markdown",
   "metadata": {
    "id": "kNrNXKI7bINP"
   },
   "source": [
    "If you haven't installed the following dependencies, run:\n",
    "1) Launch \"create_venv.sh\": it will create a \"tuto_env\" virtual python environment and install it as a jupyter kernel\n",
    "2) Use the \"tuto_env\" kernel for the next steps"
   ]
  },
  {
   "cell_type": "code",
   "execution_count": 1,
   "metadata": {},
   "outputs": [],
   "source": [
    "# may be requird for virtual display\n",
    "# !sudo apt-get install xvfb"
   ]
  },
  {
   "cell_type": "code",
   "execution_count": 2,
   "metadata": {},
   "outputs": [
    {
     "name": "stdout",
     "output_type": "stream",
     "text": [
      "Requirement already satisfied: matplotlib in ./tuto_env/lib/python3.10/site-packages (3.8.4)\n",
      "Requirement already satisfied: SuperSuit in ./tuto_env/lib/python3.10/site-packages (3.9.2)\n",
      "Requirement already satisfied: numpy in ./tuto_env/lib/python3.10/site-packages (1.26.4)\n",
      "Requirement already satisfied: pettingzoo[butterfly,classic] in ./tuto_env/lib/python3.10/site-packages (1.24.3)\n",
      "Requirement already satisfied: PyQt5 in ./tuto_env/lib/python3.10/site-packages (5.15.10)\n",
      "Requirement already satisfied: stable-baselines3 in ./tuto_env/lib/python3.10/site-packages (2.3.2)\n",
      "Requirement already satisfied: torch in ./tuto_env/lib/python3.10/site-packages (2.3.0)\n",
      "Requirement already satisfied: tensorboard in ./tuto_env/lib/python3.10/site-packages (2.16.2)\n",
      "Requirement already satisfied: fonttools>=4.22.0 in ./tuto_env/lib/python3.10/site-packages (from matplotlib) (4.51.0)\n",
      "Requirement already satisfied: python-dateutil>=2.7 in ./tuto_env/lib/python3.10/site-packages (from matplotlib) (2.9.0.post0)\n",
      "Requirement already satisfied: pyparsing>=2.3.1 in ./tuto_env/lib/python3.10/site-packages (from matplotlib) (3.1.2)\n",
      "Requirement already satisfied: kiwisolver>=1.3.1 in ./tuto_env/lib/python3.10/site-packages (from matplotlib) (1.4.5)\n",
      "Requirement already satisfied: pillow>=8 in ./tuto_env/lib/python3.10/site-packages (from matplotlib) (10.3.0)\n",
      "Requirement already satisfied: cycler>=0.10 in ./tuto_env/lib/python3.10/site-packages (from matplotlib) (0.12.1)\n",
      "Requirement already satisfied: packaging>=20.0 in ./tuto_env/lib/python3.10/site-packages (from matplotlib) (24.0)\n",
      "Requirement already satisfied: contourpy>=1.0.1 in ./tuto_env/lib/python3.10/site-packages (from matplotlib) (1.2.1)\n",
      "Requirement already satisfied: gymnasium>=0.28.1 in ./tuto_env/lib/python3.10/site-packages (from SuperSuit) (0.29.1)\n",
      "Requirement already satisfied: tinyscaler>=1.2.6 in ./tuto_env/lib/python3.10/site-packages (from SuperSuit) (1.2.7)\n",
      "Requirement already satisfied: pygame==2.3.0 in ./tuto_env/lib/python3.10/site-packages (from pettingzoo[butterfly,classic]) (2.3.0)\n",
      "Requirement already satisfied: shimmy[openspiel]>=1.2.0 in ./tuto_env/lib/python3.10/site-packages (from pettingzoo[butterfly,classic]) (1.3.0)\n",
      "Requirement already satisfied: rlcard==1.0.5 in ./tuto_env/lib/python3.10/site-packages (from pettingzoo[butterfly,classic]) (1.0.5)\n",
      "Requirement already satisfied: chess==1.9.4 in ./tuto_env/lib/python3.10/site-packages (from pettingzoo[butterfly,classic]) (1.9.4)\n",
      "Requirement already satisfied: pymunk==6.2.0 in ./tuto_env/lib/python3.10/site-packages (from pettingzoo[butterfly,classic]) (6.2.0)\n",
      "Requirement already satisfied: cffi>1.14.0 in ./tuto_env/lib/python3.10/site-packages (from pymunk==6.2.0->pettingzoo[butterfly,classic]) (1.16.0)\n",
      "Requirement already satisfied: termcolor in ./tuto_env/lib/python3.10/site-packages (from rlcard==1.0.5->pettingzoo[butterfly,classic]) (2.4.0)\n",
      "Requirement already satisfied: PyQt5-sip<13,>=12.13 in ./tuto_env/lib/python3.10/site-packages (from PyQt5) (12.13.0)\n",
      "Requirement already satisfied: PyQt5-Qt5>=5.15.2 in ./tuto_env/lib/python3.10/site-packages (from PyQt5) (5.15.2)\n",
      "Requirement already satisfied: pandas in ./tuto_env/lib/python3.10/site-packages (from stable-baselines3) (2.2.2)\n",
      "Requirement already satisfied: cloudpickle in ./tuto_env/lib/python3.10/site-packages (from stable-baselines3) (3.0.0)\n",
      "Requirement already satisfied: nvidia-cudnn-cu12==8.9.2.26 in ./tuto_env/lib/python3.10/site-packages (from torch) (8.9.2.26)\n",
      "Requirement already satisfied: triton==2.3.0 in ./tuto_env/lib/python3.10/site-packages (from torch) (2.3.0)\n",
      "Requirement already satisfied: networkx in ./tuto_env/lib/python3.10/site-packages (from torch) (3.3)\n",
      "Requirement already satisfied: nvidia-nvtx-cu12==12.1.105 in ./tuto_env/lib/python3.10/site-packages (from torch) (12.1.105)\n",
      "Requirement already satisfied: nvidia-cuda-nvrtc-cu12==12.1.105 in ./tuto_env/lib/python3.10/site-packages (from torch) (12.1.105)\n",
      "Requirement already satisfied: nvidia-cuda-runtime-cu12==12.1.105 in ./tuto_env/lib/python3.10/site-packages (from torch) (12.1.105)\n",
      "Requirement already satisfied: nvidia-cufft-cu12==11.0.2.54 in ./tuto_env/lib/python3.10/site-packages (from torch) (11.0.2.54)\n",
      "Requirement already satisfied: typing-extensions>=4.8.0 in ./tuto_env/lib/python3.10/site-packages (from torch) (4.11.0)\n",
      "Requirement already satisfied: fsspec in ./tuto_env/lib/python3.10/site-packages (from torch) (2024.3.1)\n",
      "Requirement already satisfied: nvidia-cuda-cupti-cu12==12.1.105 in ./tuto_env/lib/python3.10/site-packages (from torch) (12.1.105)\n",
      "Requirement already satisfied: nvidia-cusparse-cu12==12.1.0.106 in ./tuto_env/lib/python3.10/site-packages (from torch) (12.1.0.106)\n",
      "Requirement already satisfied: nvidia-curand-cu12==10.3.2.106 in ./tuto_env/lib/python3.10/site-packages (from torch) (10.3.2.106)\n",
      "Requirement already satisfied: filelock in ./tuto_env/lib/python3.10/site-packages (from torch) (3.14.0)\n",
      "Requirement already satisfied: jinja2 in ./tuto_env/lib/python3.10/site-packages (from torch) (3.1.3)\n",
      "Requirement already satisfied: nvidia-nccl-cu12==2.20.5 in ./tuto_env/lib/python3.10/site-packages (from torch) (2.20.5)\n",
      "Requirement already satisfied: nvidia-cublas-cu12==12.1.3.1 in ./tuto_env/lib/python3.10/site-packages (from torch) (12.1.3.1)\n",
      "Requirement already satisfied: nvidia-cusolver-cu12==11.4.5.107 in ./tuto_env/lib/python3.10/site-packages (from torch) (11.4.5.107)\n",
      "Requirement already satisfied: sympy in ./tuto_env/lib/python3.10/site-packages (from torch) (1.12)\n",
      "Requirement already satisfied: nvidia-nvjitlink-cu12 in ./tuto_env/lib/python3.10/site-packages (from nvidia-cusolver-cu12==11.4.5.107->torch) (12.4.127)\n",
      "Requirement already satisfied: tensorboard-data-server<0.8.0,>=0.7.0 in ./tuto_env/lib/python3.10/site-packages (from tensorboard) (0.7.2)\n",
      "Requirement already satisfied: grpcio>=1.48.2 in ./tuto_env/lib/python3.10/site-packages (from tensorboard) (1.63.0)\n",
      "Requirement already satisfied: setuptools>=41.0.0 in ./tuto_env/lib/python3.10/site-packages (from tensorboard) (59.6.0)\n",
      "Requirement already satisfied: absl-py>=0.4 in ./tuto_env/lib/python3.10/site-packages (from tensorboard) (2.1.0)\n",
      "Requirement already satisfied: werkzeug>=1.0.1 in ./tuto_env/lib/python3.10/site-packages (from tensorboard) (3.0.2)\n",
      "Requirement already satisfied: protobuf!=4.24.0,>=3.19.6 in ./tuto_env/lib/python3.10/site-packages (from tensorboard) (5.26.1)\n",
      "Requirement already satisfied: six>1.9 in ./tuto_env/lib/python3.10/site-packages (from tensorboard) (1.16.0)\n",
      "Requirement already satisfied: markdown>=2.6.8 in ./tuto_env/lib/python3.10/site-packages (from tensorboard) (3.6)\n",
      "Requirement already satisfied: farama-notifications>=0.0.1 in ./tuto_env/lib/python3.10/site-packages (from gymnasium>=0.28.1->SuperSuit) (0.0.4)\n",
      "Requirement already satisfied: open-spiel>=1.2 in ./tuto_env/lib/python3.10/site-packages (from shimmy[openspiel]>=1.2.0->pettingzoo[butterfly,classic]) (1.4)\n",
      "Requirement already satisfied: MarkupSafe>=2.1.1 in ./tuto_env/lib/python3.10/site-packages (from werkzeug>=1.0.1->tensorboard) (2.1.5)\n",
      "Requirement already satisfied: tzdata>=2022.7 in ./tuto_env/lib/python3.10/site-packages (from pandas->stable-baselines3) (2024.1)\n",
      "Requirement already satisfied: pytz>=2020.1 in ./tuto_env/lib/python3.10/site-packages (from pandas->stable-baselines3) (2024.1)\n",
      "Requirement already satisfied: mpmath>=0.19 in ./tuto_env/lib/python3.10/site-packages (from sympy->torch) (1.3.0)\n",
      "Requirement already satisfied: pycparser in ./tuto_env/lib/python3.10/site-packages (from cffi>1.14.0->pymunk==6.2.0->pettingzoo[butterfly,classic]) (2.22)\n",
      "Requirement already satisfied: scipy>=1.10.1 in ./tuto_env/lib/python3.10/site-packages (from open-spiel>=1.2->shimmy[openspiel]>=1.2.0->pettingzoo[butterfly,classic]) (1.13.0)\n",
      "Requirement already satisfied: pip>=20.0.2 in ./tuto_env/lib/python3.10/site-packages (from open-spiel>=1.2->shimmy[openspiel]>=1.2.0->pettingzoo[butterfly,classic]) (22.0.2)\n",
      "Requirement already satisfied: attrs>=19.3.0 in ./tuto_env/lib/python3.10/site-packages (from open-spiel>=1.2->shimmy[openspiel]>=1.2.0->pettingzoo[butterfly,classic]) (23.2.0)\n",
      "Requirement already satisfied: ml-collections>=0.1.1 in ./tuto_env/lib/python3.10/site-packages (from open-spiel>=1.2->shimmy[openspiel]>=1.2.0->pettingzoo[butterfly,classic]) (0.1.1)\n",
      "Requirement already satisfied: PyYAML in ./tuto_env/lib/python3.10/site-packages (from ml-collections>=0.1.1->open-spiel>=1.2->shimmy[openspiel]>=1.2.0->pettingzoo[butterfly,classic]) (6.0.1)\n",
      "Requirement already satisfied: contextlib2 in ./tuto_env/lib/python3.10/site-packages (from ml-collections>=0.1.1->open-spiel>=1.2->shimmy[openspiel]>=1.2.0->pettingzoo[butterfly,classic]) (21.6.0)\n",
      "Note: you may need to restart the kernel to use updated packages.\n",
      "Requirement already satisfied: stable-baselines3[extra] in ./tuto_env/lib/python3.10/site-packages (2.3.2)\n",
      "Requirement already satisfied: numpy>=1.20 in ./tuto_env/lib/python3.10/site-packages (from stable-baselines3[extra]) (1.26.4)\n",
      "Requirement already satisfied: cloudpickle in ./tuto_env/lib/python3.10/site-packages (from stable-baselines3[extra]) (3.0.0)\n",
      "Requirement already satisfied: pandas in ./tuto_env/lib/python3.10/site-packages (from stable-baselines3[extra]) (2.2.2)\n",
      "Requirement already satisfied: gymnasium<0.30,>=0.28.1 in ./tuto_env/lib/python3.10/site-packages (from stable-baselines3[extra]) (0.29.1)\n",
      "Requirement already satisfied: torch>=1.13 in ./tuto_env/lib/python3.10/site-packages (from stable-baselines3[extra]) (2.3.0)\n",
      "Requirement already satisfied: matplotlib in ./tuto_env/lib/python3.10/site-packages (from stable-baselines3[extra]) (3.8.4)\n",
      "Requirement already satisfied: tensorboard>=2.9.1 in ./tuto_env/lib/python3.10/site-packages (from stable-baselines3[extra]) (2.16.2)\n",
      "Requirement already satisfied: psutil in ./tuto_env/lib/python3.10/site-packages (from stable-baselines3[extra]) (5.9.8)\n",
      "Requirement already satisfied: autorom[accept-rom-license]~=0.6.1 in ./tuto_env/lib/python3.10/site-packages (from stable-baselines3[extra]) (0.6.1)\n",
      "Requirement already satisfied: pillow in ./tuto_env/lib/python3.10/site-packages (from stable-baselines3[extra]) (10.3.0)\n",
      "Requirement already satisfied: pygame in ./tuto_env/lib/python3.10/site-packages (from stable-baselines3[extra]) (2.3.0)\n",
      "Requirement already satisfied: shimmy[atari]~=1.3.0 in ./tuto_env/lib/python3.10/site-packages (from stable-baselines3[extra]) (1.3.0)\n",
      "Requirement already satisfied: opencv-python in ./tuto_env/lib/python3.10/site-packages (from stable-baselines3[extra]) (4.9.0.80)\n",
      "Requirement already satisfied: tqdm in ./tuto_env/lib/python3.10/site-packages (from stable-baselines3[extra]) (4.66.2)\n",
      "Requirement already satisfied: rich in ./tuto_env/lib/python3.10/site-packages (from stable-baselines3[extra]) (13.7.1)\n",
      "Requirement already satisfied: click in ./tuto_env/lib/python3.10/site-packages (from autorom[accept-rom-license]~=0.6.1->stable-baselines3[extra]) (8.1.7)\n",
      "Requirement already satisfied: requests in ./tuto_env/lib/python3.10/site-packages (from autorom[accept-rom-license]~=0.6.1->stable-baselines3[extra]) (2.31.0)\n",
      "Requirement already satisfied: AutoROM.accept-rom-license in ./tuto_env/lib/python3.10/site-packages (from autorom[accept-rom-license]~=0.6.1->stable-baselines3[extra]) (0.6.1)\n",
      "Requirement already satisfied: farama-notifications>=0.0.1 in ./tuto_env/lib/python3.10/site-packages (from gymnasium<0.30,>=0.28.1->stable-baselines3[extra]) (0.0.4)\n",
      "Requirement already satisfied: typing-extensions>=4.3.0 in ./tuto_env/lib/python3.10/site-packages (from gymnasium<0.30,>=0.28.1->stable-baselines3[extra]) (4.11.0)\n",
      "Requirement already satisfied: ale-py~=0.8.1 in ./tuto_env/lib/python3.10/site-packages (from shimmy[atari]~=1.3.0->stable-baselines3[extra]) (0.8.1)\n",
      "Requirement already satisfied: grpcio>=1.48.2 in ./tuto_env/lib/python3.10/site-packages (from tensorboard>=2.9.1->stable-baselines3[extra]) (1.63.0)\n",
      "Requirement already satisfied: werkzeug>=1.0.1 in ./tuto_env/lib/python3.10/site-packages (from tensorboard>=2.9.1->stable-baselines3[extra]) (3.0.2)\n",
      "Requirement already satisfied: protobuf!=4.24.0,>=3.19.6 in ./tuto_env/lib/python3.10/site-packages (from tensorboard>=2.9.1->stable-baselines3[extra]) (5.26.1)\n",
      "Requirement already satisfied: absl-py>=0.4 in ./tuto_env/lib/python3.10/site-packages (from tensorboard>=2.9.1->stable-baselines3[extra]) (2.1.0)\n",
      "Requirement already satisfied: six>1.9 in ./tuto_env/lib/python3.10/site-packages (from tensorboard>=2.9.1->stable-baselines3[extra]) (1.16.0)\n",
      "Requirement already satisfied: markdown>=2.6.8 in ./tuto_env/lib/python3.10/site-packages (from tensorboard>=2.9.1->stable-baselines3[extra]) (3.6)\n",
      "Requirement already satisfied: tensorboard-data-server<0.8.0,>=0.7.0 in ./tuto_env/lib/python3.10/site-packages (from tensorboard>=2.9.1->stable-baselines3[extra]) (0.7.2)\n",
      "Requirement already satisfied: setuptools>=41.0.0 in ./tuto_env/lib/python3.10/site-packages (from tensorboard>=2.9.1->stable-baselines3[extra]) (59.6.0)\n",
      "Requirement already satisfied: nvidia-cusparse-cu12==12.1.0.106 in ./tuto_env/lib/python3.10/site-packages (from torch>=1.13->stable-baselines3[extra]) (12.1.0.106)\n",
      "Requirement already satisfied: triton==2.3.0 in ./tuto_env/lib/python3.10/site-packages (from torch>=1.13->stable-baselines3[extra]) (2.3.0)\n",
      "Requirement already satisfied: fsspec in ./tuto_env/lib/python3.10/site-packages (from torch>=1.13->stable-baselines3[extra]) (2024.3.1)\n",
      "Requirement already satisfied: networkx in ./tuto_env/lib/python3.10/site-packages (from torch>=1.13->stable-baselines3[extra]) (3.3)\n",
      "Requirement already satisfied: sympy in ./tuto_env/lib/python3.10/site-packages (from torch>=1.13->stable-baselines3[extra]) (1.12)\n",
      "Requirement already satisfied: nvidia-curand-cu12==10.3.2.106 in ./tuto_env/lib/python3.10/site-packages (from torch>=1.13->stable-baselines3[extra]) (10.3.2.106)\n",
      "Requirement already satisfied: nvidia-cuda-nvrtc-cu12==12.1.105 in ./tuto_env/lib/python3.10/site-packages (from torch>=1.13->stable-baselines3[extra]) (12.1.105)\n",
      "Requirement already satisfied: nvidia-cudnn-cu12==8.9.2.26 in ./tuto_env/lib/python3.10/site-packages (from torch>=1.13->stable-baselines3[extra]) (8.9.2.26)\n",
      "Requirement already satisfied: nvidia-cuda-cupti-cu12==12.1.105 in ./tuto_env/lib/python3.10/site-packages (from torch>=1.13->stable-baselines3[extra]) (12.1.105)\n",
      "Requirement already satisfied: nvidia-cublas-cu12==12.1.3.1 in ./tuto_env/lib/python3.10/site-packages (from torch>=1.13->stable-baselines3[extra]) (12.1.3.1)\n",
      "Requirement already satisfied: nvidia-nccl-cu12==2.20.5 in ./tuto_env/lib/python3.10/site-packages (from torch>=1.13->stable-baselines3[extra]) (2.20.5)\n",
      "Requirement already satisfied: jinja2 in ./tuto_env/lib/python3.10/site-packages (from torch>=1.13->stable-baselines3[extra]) (3.1.3)\n",
      "Requirement already satisfied: nvidia-cufft-cu12==11.0.2.54 in ./tuto_env/lib/python3.10/site-packages (from torch>=1.13->stable-baselines3[extra]) (11.0.2.54)\n",
      "Requirement already satisfied: nvidia-nvtx-cu12==12.1.105 in ./tuto_env/lib/python3.10/site-packages (from torch>=1.13->stable-baselines3[extra]) (12.1.105)\n",
      "Requirement already satisfied: nvidia-cuda-runtime-cu12==12.1.105 in ./tuto_env/lib/python3.10/site-packages (from torch>=1.13->stable-baselines3[extra]) (12.1.105)\n",
      "Requirement already satisfied: filelock in ./tuto_env/lib/python3.10/site-packages (from torch>=1.13->stable-baselines3[extra]) (3.14.0)\n",
      "Requirement already satisfied: nvidia-cusolver-cu12==11.4.5.107 in ./tuto_env/lib/python3.10/site-packages (from torch>=1.13->stable-baselines3[extra]) (11.4.5.107)\n",
      "Requirement already satisfied: nvidia-nvjitlink-cu12 in ./tuto_env/lib/python3.10/site-packages (from nvidia-cusolver-cu12==11.4.5.107->torch>=1.13->stable-baselines3[extra]) (12.4.127)\n",
      "Requirement already satisfied: cycler>=0.10 in ./tuto_env/lib/python3.10/site-packages (from matplotlib->stable-baselines3[extra]) (0.12.1)\n",
      "Requirement already satisfied: kiwisolver>=1.3.1 in ./tuto_env/lib/python3.10/site-packages (from matplotlib->stable-baselines3[extra]) (1.4.5)\n",
      "Requirement already satisfied: packaging>=20.0 in ./tuto_env/lib/python3.10/site-packages (from matplotlib->stable-baselines3[extra]) (24.0)\n",
      "Requirement already satisfied: fonttools>=4.22.0 in ./tuto_env/lib/python3.10/site-packages (from matplotlib->stable-baselines3[extra]) (4.51.0)\n",
      "Requirement already satisfied: contourpy>=1.0.1 in ./tuto_env/lib/python3.10/site-packages (from matplotlib->stable-baselines3[extra]) (1.2.1)\n",
      "Requirement already satisfied: pyparsing>=2.3.1 in ./tuto_env/lib/python3.10/site-packages (from matplotlib->stable-baselines3[extra]) (3.1.2)\n",
      "Requirement already satisfied: python-dateutil>=2.7 in ./tuto_env/lib/python3.10/site-packages (from matplotlib->stable-baselines3[extra]) (2.9.0.post0)\n",
      "Requirement already satisfied: pytz>=2020.1 in ./tuto_env/lib/python3.10/site-packages (from pandas->stable-baselines3[extra]) (2024.1)\n",
      "Requirement already satisfied: tzdata>=2022.7 in ./tuto_env/lib/python3.10/site-packages (from pandas->stable-baselines3[extra]) (2024.1)\n",
      "Requirement already satisfied: markdown-it-py>=2.2.0 in ./tuto_env/lib/python3.10/site-packages (from rich->stable-baselines3[extra]) (3.0.0)\n",
      "Requirement already satisfied: pygments<3.0.0,>=2.13.0 in ./tuto_env/lib/python3.10/site-packages (from rich->stable-baselines3[extra]) (2.17.2)\n",
      "Requirement already satisfied: importlib-resources in ./tuto_env/lib/python3.10/site-packages (from ale-py~=0.8.1->shimmy[atari]~=1.3.0->stable-baselines3[extra]) (6.4.0)\n",
      "Requirement already satisfied: mdurl~=0.1 in ./tuto_env/lib/python3.10/site-packages (from markdown-it-py>=2.2.0->rich->stable-baselines3[extra]) (0.1.2)\n",
      "Requirement already satisfied: MarkupSafe>=2.1.1 in ./tuto_env/lib/python3.10/site-packages (from werkzeug>=1.0.1->tensorboard>=2.9.1->stable-baselines3[extra]) (2.1.5)\n",
      "Requirement already satisfied: idna<4,>=2.5 in ./tuto_env/lib/python3.10/site-packages (from requests->autorom[accept-rom-license]~=0.6.1->stable-baselines3[extra]) (3.7)\n",
      "Requirement already satisfied: certifi>=2017.4.17 in ./tuto_env/lib/python3.10/site-packages (from requests->autorom[accept-rom-license]~=0.6.1->stable-baselines3[extra]) (2024.2.2)\n",
      "Requirement already satisfied: charset-normalizer<4,>=2 in ./tuto_env/lib/python3.10/site-packages (from requests->autorom[accept-rom-license]~=0.6.1->stable-baselines3[extra]) (3.3.2)\n",
      "Requirement already satisfied: urllib3<3,>=1.21.1 in ./tuto_env/lib/python3.10/site-packages (from requests->autorom[accept-rom-license]~=0.6.1->stable-baselines3[extra]) (2.2.1)\n",
      "Requirement already satisfied: mpmath>=0.19 in ./tuto_env/lib/python3.10/site-packages (from sympy->torch>=1.13->stable-baselines3[extra]) (1.3.0)\n",
      "Note: you may need to restart the kernel to use updated packages.\n",
      "Requirement already satisfied: tensorboard in ./tuto_env/lib/python3.10/site-packages (2.16.2)\n",
      "Requirement already satisfied: grpcio>=1.48.2 in ./tuto_env/lib/python3.10/site-packages (from tensorboard) (1.63.0)\n",
      "Requirement already satisfied: markdown>=2.6.8 in ./tuto_env/lib/python3.10/site-packages (from tensorboard) (3.6)\n",
      "Requirement already satisfied: absl-py>=0.4 in ./tuto_env/lib/python3.10/site-packages (from tensorboard) (2.1.0)\n",
      "Requirement already satisfied: tensorboard-data-server<0.8.0,>=0.7.0 in ./tuto_env/lib/python3.10/site-packages (from tensorboard) (0.7.2)\n",
      "Requirement already satisfied: six>1.9 in ./tuto_env/lib/python3.10/site-packages (from tensorboard) (1.16.0)\n",
      "Requirement already satisfied: setuptools>=41.0.0 in ./tuto_env/lib/python3.10/site-packages (from tensorboard) (59.6.0)\n",
      "Requirement already satisfied: numpy>=1.12.0 in ./tuto_env/lib/python3.10/site-packages (from tensorboard) (1.26.4)\n",
      "Requirement already satisfied: protobuf!=4.24.0,>=3.19.6 in ./tuto_env/lib/python3.10/site-packages (from tensorboard) (5.26.1)\n",
      "Requirement already satisfied: werkzeug>=1.0.1 in ./tuto_env/lib/python3.10/site-packages (from tensorboard) (3.0.2)\n",
      "Requirement already satisfied: MarkupSafe>=2.1.1 in ./tuto_env/lib/python3.10/site-packages (from werkzeug>=1.0.1->tensorboard) (2.1.5)\n",
      "Note: you may need to restart the kernel to use updated packages.\n",
      "Requirement already satisfied: pyvirtualdisplay in ./tuto_env/lib/python3.10/site-packages (3.0)\n",
      "Note: you may need to restart the kernel to use updated packages.\n",
      "Processing /home/julien/Documents/Thèse/omarl_experiments/custom_envs/dist/custom_envs-0.1.tar.gz\n",
      "  Preparing metadata (setup.py) ... \u001b[?25ldone\n",
      "\u001b[?25hRequirement already satisfied: gymnasium in ./tuto_env/lib/python3.10/site-packages (from custom-envs==0.1) (0.29.1)\n",
      "Requirement already satisfied: matplotlib in ./tuto_env/lib/python3.10/site-packages (from custom-envs==0.1) (3.8.4)\n",
      "Requirement already satisfied: numpy in ./tuto_env/lib/python3.10/site-packages (from custom-envs==0.1) (1.26.4)\n",
      "Requirement already satisfied: pettingzoo in ./tuto_env/lib/python3.10/site-packages (from custom-envs==0.1) (1.24.3)\n",
      "Requirement already satisfied: pillow in ./tuto_env/lib/python3.10/site-packages (from custom-envs==0.1) (10.3.0)\n",
      "Requirement already satisfied: pygame in ./tuto_env/lib/python3.10/site-packages (from custom-envs==0.1) (2.3.0)\n",
      "Requirement already satisfied: farama-notifications>=0.0.1 in ./tuto_env/lib/python3.10/site-packages (from gymnasium->custom-envs==0.1) (0.0.4)\n",
      "Requirement already satisfied: typing-extensions>=4.3.0 in ./tuto_env/lib/python3.10/site-packages (from gymnasium->custom-envs==0.1) (4.11.0)\n",
      "Requirement already satisfied: cloudpickle>=1.2.0 in ./tuto_env/lib/python3.10/site-packages (from gymnasium->custom-envs==0.1) (3.0.0)\n",
      "Requirement already satisfied: pyparsing>=2.3.1 in ./tuto_env/lib/python3.10/site-packages (from matplotlib->custom-envs==0.1) (3.1.2)\n",
      "Requirement already satisfied: packaging>=20.0 in ./tuto_env/lib/python3.10/site-packages (from matplotlib->custom-envs==0.1) (24.0)\n",
      "Requirement already satisfied: contourpy>=1.0.1 in ./tuto_env/lib/python3.10/site-packages (from matplotlib->custom-envs==0.1) (1.2.1)\n",
      "Requirement already satisfied: python-dateutil>=2.7 in ./tuto_env/lib/python3.10/site-packages (from matplotlib->custom-envs==0.1) (2.9.0.post0)\n",
      "Requirement already satisfied: cycler>=0.10 in ./tuto_env/lib/python3.10/site-packages (from matplotlib->custom-envs==0.1) (0.12.1)\n",
      "Requirement already satisfied: kiwisolver>=1.3.1 in ./tuto_env/lib/python3.10/site-packages (from matplotlib->custom-envs==0.1) (1.4.5)\n",
      "Requirement already satisfied: fonttools>=4.22.0 in ./tuto_env/lib/python3.10/site-packages (from matplotlib->custom-envs==0.1) (4.51.0)\n",
      "Requirement already satisfied: six>=1.5 in ./tuto_env/lib/python3.10/site-packages (from python-dateutil>=2.7->matplotlib->custom-envs==0.1) (1.16.0)\n",
      "Using legacy 'setup.py install' for custom-envs, since package 'wheel' is not installed.\n",
      "Installing collected packages: custom-envs\n",
      "  Attempting uninstall: custom-envs\n",
      "    Found existing installation: custom-envs 0.1\n",
      "    Uninstalling custom-envs-0.1:\n",
      "      Successfully uninstalled custom-envs-0.1\n",
      "  Running setup.py install for custom-envs ... \u001b[?25ldone\n",
      "\u001b[?25hSuccessfully installed custom-envs-0.1\n",
      "Note: you may need to restart the kernel to use updated packages.\n"
     ]
    }
   ],
   "source": [
    "!source tuto_env/bin/activate\n",
    "%pip install matplotlib SuperSuit numpy pettingzoo[classic,butterfly] PyQt5 stable-baselines3 torch tensorboard --timeout 86400;\n",
    "%pip install stable-baselines3[extra] --timeout 86400;\n",
    "%pip install tensorboard --timeout 86400;\n",
    "%pip install pyvirtualdisplay --timeout 86400;\n",
    "%pip install ./../custom_envs/dist/*.tar.gz;"
   ]
  },
  {
   "cell_type": "markdown",
   "metadata": {},
   "source": [
    "Import the basic packages"
   ]
  },
  {
   "cell_type": "code",
   "execution_count": 3,
   "metadata": {
    "execution": {
     "iopub.execute_input": "2023-12-22T13:55:17.447507Z",
     "iopub.status.busy": "2023-12-22T13:55:17.447082Z",
     "iopub.status.idle": "2023-12-22T13:55:20.751418Z",
     "shell.execute_reply": "2023-12-22T13:55:20.750703Z"
    },
    "id": "sMitx5qSgJk1"
   },
   "outputs": [],
   "source": [
    "import copy\n",
    "import json\n",
    "import numpy as np\n",
    "import gymnasium\n",
    "import pyvirtualdisplay\n",
    "\n",
    "from dataclasses import dataclass\n",
    "from enum import Enum\n",
    "from pprint import pprint\n",
    "from typing import Any, Callable, Dict, List, Set, Tuple\n",
    "from pettingzoo.utils.wrappers import BaseWrapper\n",
    "from pettingzoo.utils.env import ActionType, AECEnv, AgentID, ObsType\n",
    "from PIL import Image"
   ]
  },
  {
   "cell_type": "code",
   "execution_count": 4,
   "metadata": {},
   "outputs": [],
   "source": [
    "# Set up a virtual display for rendering OpenAI gym / PettingZoo environments.\n",
    "display = pyvirtualdisplay.Display(visible=0, size=(1400, 900)).start()"
   ]
  },
  {
   "cell_type": "markdown",
   "metadata": {
    "id": "VMsJC3DEgI0x"
   },
   "source": [
    "## Showcase environment : *Moving Company*"
   ]
  },
  {
   "cell_type": "markdown",
   "metadata": {},
   "source": [
    "### About *Moving Company* within PettingZoo"
   ]
  },
  {
   "cell_type": "markdown",
   "metadata": {},
   "source": [
    "\n",
    "In RL/MARL, an environment represents the task or problem to be solved.\n",
    "\n",
    "Moving Company (MCY) is a two-dimensional grid game where mover employees have to bring a package from a cell to a final cell. They are free to move up, left, down, and right in the white cells. They can pick up or drop down the package in the drop zone (yellow cells). The white cells are empty and the grey cells represent walls. The game ends when the package is dropped in the final cell. The environment is fully discrete, vectorized. Agents' observations are the 3x3 grid cells surrounding an agent."
   ]
  },
  {
   "cell_type": "markdown",
   "metadata": {},
   "source": [
    "Here, we instantiate a \"turn-based\" (aka Agent Environment Cycle - AEC) environment with 9 x 9 grid cells and `'rgb_aray'` mode.\n",
    "\n",
    "We also instantiate a parallel environment with the same configuration."
   ]
  },
  {
   "cell_type": "code",
   "execution_count": 5,
   "metadata": {
    "execution": {
     "iopub.execute_input": "2023-12-22T13:55:20.865902Z",
     "iopub.status.busy": "2023-12-22T13:55:20.865429Z",
     "iopub.status.idle": "2023-12-22T13:55:20.896073Z",
     "shell.execute_reply": "2023-12-22T13:55:20.895421Z"
    },
    "id": "pYEz-S9gEv2-"
   },
   "outputs": [],
   "source": [
    "from custom_envs.movingcompany import moving_company_v0\n",
    "\n",
    "aec_env = moving_company_v0.env(size=9, render_mode=\"rgb_array\")\n",
    "\n",
    "parallel_env = moving_company_v0.parallel_env(size=9, render_mode=\"rgb_array\")"
   ]
  },
  {
   "cell_type": "markdown",
   "metadata": {
    "id": "IIHYVBkuvPNw"
   },
   "source": [
    "You can render this AEC environment to see how it looks."
   ]
  },
  {
   "cell_type": "code",
   "execution_count": 6,
   "metadata": {},
   "outputs": [
    {
     "data": {
      "image/jpeg": "[encoded data removed]",
      "image/png": "[encoded data removed]",
      "text/plain": [
       "<PIL.Image.Image image mode=RGB size=368x368>"
      ]
     },
     "execution_count": 6,
     "metadata": {},
     "output_type": "execute_result"
    }
   ],
   "source": [
    "aec_env.reset()\n",
    "Image.fromarray(aec_env.render())"
   ]
  },
  {
   "cell_type": "markdown",
   "metadata": {},
   "source": [
    "Same result with parallel env"
   ]
  },
  {
   "cell_type": "code",
   "execution_count": 7,
   "metadata": {},
   "outputs": [
    {
     "data": {
      "image/jpeg": "[encoded data removed]",
      "image/png": "[encoded data removed]",
      "text/plain": [
       "<PIL.Image.Image image mode=RGB size=368x368>"
      ]
     },
     "execution_count": 7,
     "metadata": {},
     "output_type": "execute_result"
    }
   ],
   "source": [
    "parallel_env.reset()\n",
    "Image.fromarray(parallel_env.render())"
   ]
  },
  {
   "cell_type": "markdown",
   "metadata": {},
   "source": [
    "We can list the instantiated agents in the environment (same in AEC and parallel environment)"
   ]
  },
  {
   "cell_type": "code",
   "execution_count": 8,
   "metadata": {},
   "outputs": [
    {
     "name": "stdout",
     "output_type": "stream",
     "text": [
      "['agent_0', 'agent_1', 'agent_2']\n"
     ]
    },
    {
     "data": {
      "text/plain": [
       "['agent_0', 'agent_1', 'agent_2']"
      ]
     },
     "execution_count": 8,
     "metadata": {},
     "output_type": "execute_result"
    }
   ],
   "source": [
    "print(parallel_env.agents)\n",
    "aec_env.agents"
   ]
  },
  {
   "cell_type": "markdown",
   "metadata": {},
   "source": [
    "Here, actions space is a 0 to 7 discrete space, one-hot encoding is the following:\n",
    " - 0: do nothing\n",
    " - 1: go up\n",
    " - 2: go down\n",
    " - 3: go left\n",
    " - 4: go right\n",
    " - 5: take\n",
    " - 6: drop\n",
    "\n",
    "We can print the action space for `'agent_0'`"
   ]
  },
  {
   "cell_type": "code",
   "execution_count": 9,
   "metadata": {},
   "outputs": [
    {
     "name": "stdout",
     "output_type": "stream",
     "text": [
      "Discrete(7)\n"
     ]
    },
    {
     "data": {
      "text/plain": [
       "Discrete(7)"
      ]
     },
     "execution_count": 9,
     "metadata": {},
     "output_type": "execute_result"
    }
   ],
   "source": [
    "print(aec_env.action_space(\"agent_0\"))\n",
    "parallel_env.action_space(\"agent_0\")"
   ]
  },
  {
   "cell_type": "markdown",
   "metadata": {},
   "source": [
    "Here, observations space is a 3 x 3 grid (flattened) surrounding an agent, one-hot encoding for each cell is the following:\n",
    " - 0: wall\n",
    " - 1: air\n",
    " - 2: agent\n",
    " - 3: agent carrying a box\n",
    " - 4: drop zone\n",
    " - 5: box\n",
    "\n",
    "We can print the observation space for `'agent_0'`"
   ]
  },
  {
   "cell_type": "code",
   "execution_count": 10,
   "metadata": {},
   "outputs": [
    {
     "name": "stdout",
     "output_type": "stream",
     "text": [
      "MultiDiscrete([6 6 6 6 6 6 6 6 6])\n",
      "MultiDiscrete([6 6 6 6 6 6 6 6 6])\n"
     ]
    }
   ],
   "source": [
    "print(parallel_env.observation_space(\"agent_0\"))\n",
    "print(aec_env.observation_space(\"agent_0\"))"
   ]
  },
  {
   "cell_type": "markdown",
   "metadata": {},
   "source": [
    "In the AEC environment, agents apply their actions one after one in a cyclic way"
   ]
  },
  {
   "cell_type": "code",
   "execution_count": 11,
   "metadata": {},
   "outputs": [
    {
     "data": {
      "image/jpeg": "[encoded data removed]",
      "image/png": "[encoded data removed]",
      "text/plain": [
       "<PIL.Image.Image image mode=RGB size=368x368>"
      ]
     },
     "execution_count": 11,
     "metadata": {},
     "output_type": "execute_result"
    }
   ],
   "source": [
    "aec_env.reset()\n",
    "\n",
    "# First step\n",
    "aec_env.step(5) # 'agent_0' takes the box\n",
    "aec_env.step(4) # 'agent_1' goes right\n",
    "aec_env.step(2) # 'agent_2' goes down\n",
    "\n",
    "# Second step\n",
    "aec_env.step(2) # 'agent_0' goes down\n",
    "aec_env.step(0) # 'agent_1' does nothing\n",
    "aec_env.step(0) # 'agent_2' does nothing\n",
    "\n",
    "Image.fromarray(aec_env.render())"
   ]
  },
  {
   "cell_type": "markdown",
   "metadata": {},
   "source": [
    "In AEC environment, for a given agent the `last()` methods return a 5-tuple for its turn. It is composed of:\n",
    " - the current observation\n",
    " - the reward according to its last action\n",
    " - the truncation (max iteration reached for instance)\n",
    " - the done (has the game finished?)\n",
    " - the info (here contains action masks: here `'agent_0'` cannot go left, go right, take nor drop)"
   ]
  },
  {
   "cell_type": "code",
   "execution_count": 12,
   "metadata": {},
   "outputs": [
    {
     "name": "stdout",
     "output_type": "stream",
     "text": [
      "agent_0 receives data for its turn:\n",
      "(array([0, 1, 0, 0, 3, 0, 0, 1, 0]),\n",
      " 5,\n",
      " False,\n",
      " False,\n",
      " {'action_masks': array([1, 1, 1, 0, 0, 0, 0], dtype=int8)})\n"
     ]
    }
   ],
   "source": [
    "# observation, reward, termination, truncation, info = env.last()\n",
    "print(aec_env.agent_selection, \"receives data for its turn:\")\n",
    "pprint(aec_env.last())"
   ]
  },
  {
   "cell_type": "markdown",
   "metadata": {},
   "source": [
    "In parallel environment, agents apply their action simultaneously at each step"
   ]
  },
  {
   "cell_type": "code",
   "execution_count": 13,
   "metadata": {},
   "outputs": [
    {
     "data": {
      "image/jpeg": "[encoded data removed]",
      "image/png": "[encoded data removed]",
      "text/plain": [
       "<PIL.Image.Image image mode=RGB size=368x368>"
      ]
     },
     "execution_count": 13,
     "metadata": {},
     "output_type": "execute_result"
    }
   ],
   "source": [
    "parallel_env.reset()\n",
    "\n",
    "# First step\n",
    "parallel_env.step({\"agent_0\": 5, \"agent_1\": 4, \"agent_2\": 2})\n",
    "\n",
    "# Second step\n",
    "parallel_env.step({\"agent_0\": 2, \"agent_1\": 0, \"agent_2\": 0})\n",
    "\n",
    "Image.fromarray(aec_env.render())"
   ]
  },
  {
   "cell_type": "markdown",
   "metadata": {},
   "source": [
    "In parallel environment, the `step()` method returns a 5-tuple composed of the data for all agent for the next step. It is composed of:\n",
    " - next observation for all agent\n",
    " - the reward for all agent\n",
    " - truncations for all agent\n",
    " - the dones for all agent\n",
    " - the infos for all agent (that may contain action masks)"
   ]
  },
  {
   "cell_type": "code",
   "execution_count": 14,
   "metadata": {},
   "outputs": [
    {
     "name": "stdout",
     "output_type": "stream",
     "text": [
      "({'agent_0': array([0, 1, 0, 0, 3, 0, 0, 1, 0]),\n",
      "  'agent_1': array([1, 0, 0, 4, 2, 1, 0, 0, 0]),\n",
      "  'agent_2': array([0, 1, 0, 0, 2, 0, 0, 1, 0])},\n",
      " defaultdict(<class 'int'>, {'agent_0': 9, 'agent_1': 9, 'agent_2': 9}),\n",
      " {'agent_0': False, 'agent_1': False, 'agent_2': False},\n",
      " {'agent_0': False, 'agent_1': False, 'agent_2': False},\n",
      " {'agent_0': {'action_masks': array([1, 1, 1, 0, 0, 0, 0], dtype=int8)},\n",
      "  'agent_1': {'action_masks': array([1, 0, 0, 0, 0, 0, 0], dtype=int8)},\n",
      "  'agent_2': {'action_masks': array([1, 1, 1, 0, 0, 0, 0], dtype=int8)}})\n"
     ]
    }
   ],
   "source": [
    "pprint(parallel_env.step({\"agent_0\": 2, \"agent_1\": 3, \"agent_2\": 2}))"
   ]
  },
  {
   "cell_type": "markdown",
   "metadata": {},
   "source": [
    "### Optional: 1) Defining some OS and linking them to histories"
   ]
  },
  {
   "cell_type": "markdown",
   "metadata": {},
   "source": [
    "First, we may already have some known information as for what the resulting joint-policy should look like.\n",
    "For instance, we may want some agents not to play some dangerous actions at some point, or we may already\n",
    "known a promising organizational form to reach the goal even though it is not yet precisely defined.\n",
    "\n",
    "This what we are going to do leveraging links between a formal description of the organization and the\n",
    "expected behavior."
   ]
  },
  {
   "cell_type": "markdown",
   "metadata": {},
   "source": [
    "#### Defining some OS"
   ]
  },
  {
   "cell_type": "markdown",
   "metadata": {},
   "source": [
    "The first key concept is the Organizational Specification (OS) which represents a particular expected individual,\n",
    "social or collective aspect. Organizational specifications comprise roles, links, compatibilities, goals, plans, missions, etc.\n",
    "\n",
    "An OS is a component of the organizational model among these:\n",
    "- {SS: roles, links, compatibilities, {sub-groups: SS}, role_cardinality, sub-group_cardinality}\n",
    "- FS: {SCH:{goals, plans, missions, mission_to_goals, mission_to_agent_cardinality}, social_preference_order}\n",
    "- DS: permissions, obligations\n",
    "\n",
    "A single OS can be described within the organizational model with optional empty components"
   ]
  },
  {
   "cell_type": "code",
   "execution_count": 15,
   "metadata": {},
   "outputs": [
    {
     "name": "stdout",
     "output_type": "stream",
     "text": [
      "organizational_model(structural_specifications=structural_specifications(roles=['role_0'],\n",
      "                                                                         role_inheritance_relations=None,\n",
      "                                                                         root_groups=None),\n",
      "                     functional_specifications=None,\n",
      "                     deontic_specifications=None)\n"
     ]
    }
   ],
   "source": [
    "# TODO: Remove after finalizing PRAHOM package #############################\n",
    "import os\n",
    "import sys\n",
    "module_path = os.path.abspath(os.path.join('..'))\n",
    "sys.path.append(module_path + \"/prahom_wrapper\")\n",
    "sys.path.append(module_path)\n",
    "############################################################################\n",
    "\n",
    "from organizational_model import organizational_model, structural_specifications\n",
    "\n",
    "role_0_os = organizational_model(\n",
    "    structural_specifications=structural_specifications(roles=[\"role_0\"], role_inheritance_relations=None, root_groups=None), functional_specifications=None, deontic_specifications=None)\n",
    "\n",
    "pprint(role_0_os)"
   ]
  },
  {
   "cell_type": "markdown",
   "metadata": {},
   "source": [
    "Here `role_0_os` defines any organization where \"role_0\" is available for agents.\n",
    "Consequently, `role_0_os` only deals with a role so it is just a singe OS.\n",
    "\n",
    "Note:\n",
    " - \"None\" value indicate any value can be accepted. It can be used if you do not know additional information regarding the ones you already provided\n",
    " - If you want to express no value, you must choose {} or [] depending on the expected value format."
   ]
  },
  {
   "cell_type": "code",
   "execution_count": 16,
   "metadata": {},
   "outputs": [
    {
     "name": "stdout",
     "output_type": "stream",
     "text": [
      "organizational_model(structural_specifications=structural_specifications(roles=['role_0',\n",
      "                                                                                'role_1'],\n",
      "                                                                         role_inheritance_relations={'role_1': ['role_0']},\n",
      "                                                                         root_groups=None),\n",
      "                     functional_specifications=None,\n",
      "                     deontic_specifications=None)\n"
     ]
    }
   ],
   "source": [
    "role_01_os = organizational_model(\n",
    "    structural_specifications=structural_specifications(roles=[\"role_0\", \"role_1\"], role_inheritance_relations={\"role_1\": [\"role_0\"]}, root_groups=None), functional_specifications=None, deontic_specifications=None)\n",
    "pprint(role_01_os)"
   ]
  },
  {
   "cell_type": "markdown",
   "metadata": {},
   "source": [
    "Here `role_01_os` defines any organization where \"role_0\" and \"role_1\" are available for agents and we provide a known information\n",
    "about these roles which is \"role_1\" inherits from \"role_0\".\n",
    "If you had not do it, you could have let it to \"None\" and it would be then possible to infer it later."
   ]
  },
  {
   "cell_type": "markdown",
   "metadata": {},
   "source": [
    "#### Linking OS to joint-histories"
   ]
  },
  {
   "cell_type": "markdown",
   "metadata": {},
   "source": [
    "The second key concept is the joint-history...\n",
    "Let's recap:\n",
    "- for an agent, a policy associates an observation to an action for an agent to reach a goal.\n",
    "- for an agent, a history is a tuple describing sequentially all the observation-action at each step until the end of an episode\n",
    "- for several agents, a joint-policy associates all the agents' observation to the agents' actions at each step enabling them to\n",
    "    collectively reach their goal. It can be seen as a tuple of policies or a relation taking a vector of observation and associating\n",
    "    a vector of actions.\n",
    "- for several agents, a joint-history is a tuple of the agents' histories.\n",
    "\n",
    "The underlying PRAHOM's idea, is to hypothesize if there is a specific OS among the agents' implicit organization, then their\n",
    "joint-histories (obtained from a same joint-policy) should  match a specific pattern accordingly. Reversely, if some joint-histories\n",
    "obtained from a same joint-policy share some common features, then the agents' implicit organization should be described into OS\n",
    "defined according to these common features.\n",
    "\n",
    "Therefore, as we may already known some OS and their expected associated behaviors, we must define all of the possible joint-histories\n",
    "to describe the impact of an OS.\n",
    "It is important to note, the number of agent is undefined and we do not known what OS are associated to what agent.\n",
    "So, when defining associated joint-histories associated to an OS, we must be careful to keep it general.\n"
   ]
  },
  {
   "cell_type": "markdown",
   "metadata": {},
   "source": [
    "An observation and an action are simple object whose type is user's responsibility"
   ]
  },
  {
   "cell_type": "code",
   "execution_count": 17,
   "metadata": {},
   "outputs": [],
   "source": [
    "from history_model import observation, action\n",
    "\n",
    "obs1: observation = np.array([1, 0, 0, 4, 2, 1, 0, 0, 0])\n",
    "act1: action = 4"
   ]
  },
  {
   "cell_type": "markdown",
   "metadata": {},
   "source": [
    "Due to some complex observation or action types, we also define associated string shortcuts `action_label` and `observation_label`"
   ]
  },
  {
   "cell_type": "code",
   "execution_count": 18,
   "metadata": {},
   "outputs": [],
   "source": [
    "from history_model import observation_label, action_label\n",
    "\n",
    "obs_label1: observation_label = \"o1\"\n",
    "act_label1: action_label = \"4\""
   ]
  },
  {
   "cell_type": "markdown",
   "metadata": {},
   "source": [
    "An history is just a list of alternating obs_label and act_label"
   ]
  },
  {
   "cell_type": "code",
   "execution_count": 19,
   "metadata": {},
   "outputs": [],
   "source": [
    "from history_model import history\n",
    "\n",
    "h1: history = [\"o1\", \"a1\", \"o2\", \"a2\", \"o3\", \"a3\", \"o4\", \"a4\"]"
   ]
  },
  {
   "cell_type": "markdown",
   "metadata": {},
   "source": [
    "Users can define a set of histories using the `histories` class. It gathers several histories under the form of a specific oriented graph in a compact way. It is a convenient structure to be used for training and OS inferring.\n",
    "\n",
    "Users can create an empty `histories` as follows:"
   ]
  },
  {
   "cell_type": "code",
   "execution_count": 20,
   "metadata": {},
   "outputs": [],
   "source": [
    "from history_model import histories\n",
    "\n",
    "hg = histories()"
   ]
  },
  {
   "cell_type": "markdown",
   "metadata": {},
   "source": [
    "We can add a `history` or several ones as follows"
   ]
  },
  {
   "cell_type": "code",
   "execution_count": 21,
   "metadata": {},
   "outputs": [],
   "source": [
    "hg = histories()\n",
    "hg.add_history([\"o0\", \"a0\", \"o1\", \"a1\", \"o1\", \"a1\", \"o1\", \"a1\", \"o2\", \"a2\"])\n",
    "hg.add_histories([[\"o0\", \"a0\", \"o1\"], [\"o2\", \"a1\", \"o3\"]])"
   ]
  },
  {
   "cell_type": "markdown",
   "metadata": {},
   "source": [
    "We"
   ]
  },
  {
   "cell_type": "markdown",
   "metadata": {},
   "source": [
    " - with another `histories_graph` object"
   ]
  },
  {
   "cell_type": "markdown",
   "metadata": {},
   "source": [
    " - with a list of `history` objects"
   ]
  },
  {
   "cell_type": "markdown",
   "metadata": {},
   "source": [
    "\n",
    "\n",
    "Many configuration are to be taken into account:\n",
    "\n",
    "joint_histories_manager is a singleton\n",
    "\n",
    "Create joint-histories where only one agent has role0\n"
   ]
  },
  {
   "cell_type": "code",
   "execution_count": 22,
   "metadata": {},
   "outputs": [
    {
     "ename": "SyntaxError",
     "evalue": "invalid syntax (2574028037.py, line 1)",
     "output_type": "error",
     "traceback": [
      "\u001b[0;36m  Cell \u001b[0;32mIn[22], line 1\u001b[0;36m\u001b[0m\n\u001b[0;31m    jth_r1 = joint_histories_manager.create_joint_histories().with()\u001b[0m\n\u001b[0m                                                              ^\u001b[0m\n\u001b[0;31mSyntaxError\u001b[0m\u001b[0;31m:\u001b[0m invalid syntax\n"
     ]
    }
   ],
   "source": [
    "jth_r1 = joint_histories_manager.create_joint_histories().with()\n",
    "    .agents(max=3).have_histories(history())\n",
    "    .agents(min=0,max=1).have_histories(history())\n",
    "    .agents(min=0,max=1).have_histories(history())"
   ]
  },
  {
   "cell_type": "markdown",
   "metadata": {},
   "source": [
    "Creating a history exhaustively can be difficult. Especially, if we just have a general form with many undefined subsequences.\n",
    "Indeed, we should envision all combination.\n",
    "So, we can use many short-ways to define an history"
   ]
  },
  {
   "cell_type": "code",
   "execution_count": null,
   "metadata": {},
   "outputs": [],
   "source": [
    "h_r0 = history_manager.create_histories().with()\n",
    "    .histories().match_sequence(f'^[({o1},{a1}),({o1},{None}),.*?,[({o2},{a2})]{1,4})') # create a pattern\n",
    "    .histories().match_sequence('\\[.*?((?:[,\\[]\\(o1,(?:a1|a2)\\)){1,5}).*\\]')\n",
    "    .histories().match_decision_tree()\n",
    "    .histories(min=1,max=2).contains([])"
   ]
  },
  {
   "cell_type": "markdown",
   "metadata": {},
   "source": [
    "Create a general probabilistic tree to gather all input data as several branches"
   ]
  },
  {
   "cell_type": "code",
   "execution_count": null,
   "metadata": {},
   "outputs": [],
   "source": [
    "seq = [([o1], [a4,a6]), ((None,None), (1,INF)), ()]"
   ]
  },
  {
   "cell_type": "markdown",
   "metadata": {},
   "source": [
    "The general pattern is:"
   ]
  },
  {
   "cell_type": "code",
   "execution_count": null,
   "metadata": {},
   "outputs": [],
   "source": [
    "seq = [\"([obs1,obs2...], [act1,act2...]){min,max},(Any, Any)*,(ob3,act4){min,max}]"
   ]
  },
  {
   "cell_type": "markdown",
   "metadata": {},
   "source": [
    "To link joint-histories to OS, we create an Organizational Specification to Histories (OSH) manager\n",
    "We can link these joint-histories to OS this way:"
   ]
  },
  {
   "cell_type": "code",
   "execution_count": null,
   "metadata": {},
   "outputs": [],
   "source": [
    "osh_mngr = osh_manager()\n",
    "osh_mngr.add(role_01_os, jth_r0)"
   ]
  },
  {
   "cell_type": "markdown",
   "metadata": {},
   "source": [
    "### Optional: 2) Constraining agents to some OS"
   ]
  },
  {
   "cell_type": "markdown",
   "metadata": {},
   "source": []
  },
  {
   "cell_type": "markdown",
   "metadata": {},
   "source": [
    "### 3) Training under some constraints"
   ]
  },
  {
   "cell_type": "markdown",
   "metadata": {},
   "source": []
  },
  {
   "cell_type": "markdown",
   "metadata": {},
   "source": [
    "### 4) Inferring the refined OS"
   ]
  },
  {
   "cell_type": "markdown",
   "metadata": {},
   "source": []
  }
 ],
 "metadata": {
  "colab": {
   "name": "DQN Tutorial.ipynb",
   "private_outputs": true,
   "provenance": [],
   "toc_visible": true
  },
  "kernelspec": {
   "display_name": "tuto_env",
   "language": "python",
   "name": "tuto_env"
  },
  "language_info": {
   "codemirror_mode": {
    "name": "ipython",
    "version": 3
   },
   "file_extension": ".py",
   "mimetype": "text/x-python",
   "name": "python",
   "nbconvert_exporter": "python",
   "pygments_lexer": "ipython3",
   "version": "3.10.12"
  },
  "pycharm": {
   "stem_cell": {
    "cell_type": "raw",
    "metadata": {
     "collapsed": false
    },
    "source": []
   }
  }
 },
 "nbformat": 4,
 "nbformat_minor": 0
}
