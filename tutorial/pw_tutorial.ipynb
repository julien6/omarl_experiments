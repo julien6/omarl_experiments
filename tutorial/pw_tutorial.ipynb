{
 "cells": [
  {
   "cell_type": "markdown",
   "metadata": {
    "id": "pmDI-h7cI0tI"
   },
   "source": [
    "# Use PRAHOM Pettingzoo Wrapper"
   ]
  },
  {
   "cell_type": "markdown",
   "metadata": {
    "id": "lsaQlK8fFQqH"
   },
   "source": [
    "## Introduction\n"
   ]
  },
  {
   "cell_type": "markdown",
   "metadata": {
    "id": "cKOCZlhUgXVK"
   },
   "source": [
    "### PRAHOM context\n",
    "\n",
    "Given a Markovian model of an environment where agents have to collaborate to reach a common goal, solving it is just finding a right joint-policy (we can view as a set of rules for all agents) to achieve it.\n",
    "\n",
    "*Multi-Agent Reinforcement Learning* allows converging to a joint-policy that reach the common goal. Yet a regular MARL pipeline does not cover two main concerns:\n",
    " - The \"trained\" joint-policy is often difficult to understand raising explainability and safety issues\n",
    " - It is difficult to satisfy some extra constraints we want sometimes in order to meet some design requirements or to help agents to converge faster within a restricted search space.\n",
    "\n",
    "The Partial *Relation between Agents' History and Organizational Model* (PRAHOM) is an algorithmic approach aiming to link MARL with the $\\mathcal{M}OISE^+$ Organizational Model. It seeks to explicating and handling the collective emergent behavior of a regular MARL pipeline by leveraging agents' histories as a common ground between MARL and Organizational Specifications (OS).\n",
    "\n",
    "Indeed, PRAHOM enables:\n",
    " - Training of a joint-policy under OS viewed as constraints.\n",
    " - Inferring organizational specifications from a \"trained\" joint-policies\n",
    "\n",
    "For example, if you are given a set of agents acting for a football team that has to score a goal against an enemy team, you have several choices to implement the joint-policy depending on the level of constraining:\n",
    " - In the least constrained case, you may choose to let them learn the best way to organize themselves without any indication $\\rightarrow$ It is regular MARL where agents may find some very empiric over-fitted solution in the beginning, and it generally takes a lot of time for a joint-policy to become more general by training on differently generated environments. In that case, some collective structured patterns may appear that are naturally fitted on the long term: roles such as goalkeeper, defender, attacker... may appear in someway.\n",
    " - In the most constrained case, you may choose to tell what agents must do in every circumstances $\\rightarrow$ Indeed it is just creating a hand-crafted joint-policy and there is no learning.\n",
    " - Between these two ends, you may also choose agents to learn within a restricted search space you think to be relevant to speed up the converging towards a partially defined joint-policy $\\rightarrow$ Some agents may be forced to be close to the goal cages while other may be forced to go to the front or forcing: you can expect some roles to appear to attack and some other ones to defend.\n",
    "  "
   ]
  },
  {
   "cell_type": "markdown",
   "metadata": {},
   "source": [
    "### PRAHOM Pettingzoo wrapper\n",
    "\n",
    "*PRAHOM Pettingzoo Wrapper* is an additional layer to augment a Pettingzoo environment with functionalities to help a user apply PRAHOM.\n",
    "Its use can be summarized according to 4 main steps as follow:\n",
    "\n",
    "Optional:\n",
    "\n",
    "1) Determining some known OS and associate them some joint-histories\n",
    "2) Constrain agent to some of the known OS\n",
    "\n",
    "Minimal use:\n",
    "1) Proceed to the MARL pipeline under defined constraints and avoiding over-fitting\n",
    "2) Inferring the refined OS after training\n",
    "\n",
    "**In this tutorial, we walk through these 4 steps:**\n",
    " - **In the simple *Moving Company* environment to highlight rather individual specifications**\n",
    " - **In the *Predators-preys* environment to highlight rather social and collective specifications**"
   ]
  },
  {
   "cell_type": "markdown",
   "metadata": {},
   "source": [
    "## Setup"
   ]
  },
  {
   "cell_type": "markdown",
   "metadata": {
    "id": "kNrNXKI7bINP"
   },
   "source": [
    "If you haven't installed the following dependencies, run:\n",
    "1) Launch \"create_venv.sh\": it will create a \"tuto_env\" virtual python environment and install it as a jupyter kernel\n",
    "2) Use the \"tuto_env\" kernel for the next steps"
   ]
  },
  {
   "cell_type": "code",
   "execution_count": 1,
   "metadata": {},
   "outputs": [
    {
     "name": "stdout",
     "output_type": "stream",
     "text": [
      "Requirement already satisfied: matplotlib in ./tuto_env/lib/python3.10/site-packages (3.8.4)\n",
      "Requirement already satisfied: SuperSuit in ./tuto_env/lib/python3.10/site-packages (3.9.2)\n",
      "Requirement already satisfied: numpy in ./tuto_env/lib/python3.10/site-packages (1.26.4)\n",
      "Requirement already satisfied: pettingzoo[butterfly,classic] in ./tuto_env/lib/python3.10/site-packages (1.24.3)\n",
      "Collecting PyQt5\n",
      "  Downloading PyQt5-5.15.10-cp37-abi3-manylinux_2_17_x86_64.whl (8.2 MB)\n",
      "\u001b[2K     \u001b[90m━━━━━━━━━━━━━━━━━━━━━━━━━━━━━━━━━━━━━━━━\u001b[0m \u001b[32m8.2/8.2 MB\u001b[0m \u001b[31m25.7 MB/s\u001b[0m eta \u001b[36m0:00:00\u001b[0m00:01\u001b[0m00:01\u001b[0m\n",
      "\u001b[?25hRequirement already satisfied: stable-baselines3 in ./tuto_env/lib/python3.10/site-packages (2.3.2)\n",
      "Requirement already satisfied: torch in ./tuto_env/lib/python3.10/site-packages (2.3.0)\n",
      "Requirement already satisfied: tensorboard in ./tuto_env/lib/python3.10/site-packages (2.16.2)\n",
      "Requirement already satisfied: cycler>=0.10 in ./tuto_env/lib/python3.10/site-packages (from matplotlib) (0.12.1)\n",
      "Requirement already satisfied: pillow>=8 in ./tuto_env/lib/python3.10/site-packages (from matplotlib) (10.3.0)\n",
      "Requirement already satisfied: packaging>=20.0 in ./tuto_env/lib/python3.10/site-packages (from matplotlib) (24.0)\n",
      "Requirement already satisfied: fonttools>=4.22.0 in ./tuto_env/lib/python3.10/site-packages (from matplotlib) (4.51.0)\n",
      "Requirement already satisfied: kiwisolver>=1.3.1 in ./tuto_env/lib/python3.10/site-packages (from matplotlib) (1.4.5)\n",
      "Requirement already satisfied: python-dateutil>=2.7 in ./tuto_env/lib/python3.10/site-packages (from matplotlib) (2.9.0.post0)\n",
      "Requirement already satisfied: pyparsing>=2.3.1 in ./tuto_env/lib/python3.10/site-packages (from matplotlib) (3.1.2)\n",
      "Requirement already satisfied: contourpy>=1.0.1 in ./tuto_env/lib/python3.10/site-packages (from matplotlib) (1.2.1)\n",
      "Requirement already satisfied: tinyscaler>=1.2.6 in ./tuto_env/lib/python3.10/site-packages (from SuperSuit) (1.2.7)\n",
      "Requirement already satisfied: gymnasium>=0.28.1 in ./tuto_env/lib/python3.10/site-packages (from SuperSuit) (0.29.1)\n",
      "Requirement already satisfied: pymunk==6.2.0 in ./tuto_env/lib/python3.10/site-packages (from pettingzoo[butterfly,classic]) (6.2.0)\n",
      "Requirement already satisfied: pygame==2.3.0 in ./tuto_env/lib/python3.10/site-packages (from pettingzoo[butterfly,classic]) (2.3.0)\n",
      "Requirement already satisfied: chess==1.9.4 in ./tuto_env/lib/python3.10/site-packages (from pettingzoo[butterfly,classic]) (1.9.4)\n",
      "Requirement already satisfied: rlcard==1.0.5 in ./tuto_env/lib/python3.10/site-packages (from pettingzoo[butterfly,classic]) (1.0.5)\n",
      "Requirement already satisfied: shimmy[openspiel]>=1.2.0 in ./tuto_env/lib/python3.10/site-packages (from pettingzoo[butterfly,classic]) (1.3.0)\n",
      "Requirement already satisfied: cffi>1.14.0 in ./tuto_env/lib/python3.10/site-packages (from pymunk==6.2.0->pettingzoo[butterfly,classic]) (1.16.0)\n",
      "Requirement already satisfied: termcolor in ./tuto_env/lib/python3.10/site-packages (from rlcard==1.0.5->pettingzoo[butterfly,classic]) (2.4.0)\n",
      "Collecting PyQt5-sip<13,>=12.13\n",
      "  Downloading PyQt5_sip-12.13.0-cp310-cp310-manylinux_2_5_x86_64.manylinux1_x86_64.whl (338 kB)\n",
      "\u001b[2K     \u001b[90m━━━━━━━━━━━━━━━━━━━━━━━━━━━━━━━━━━━━━━\u001b[0m \u001b[32m338.1/338.1 KB\u001b[0m \u001b[31m22.7 MB/s\u001b[0m eta \u001b[36m0:00:00\u001b[0m\n",
      "\u001b[?25hCollecting PyQt5-Qt5>=5.15.2\n",
      "  Downloading PyQt5_Qt5-5.15.2-py3-none-manylinux2014_x86_64.whl (59.9 MB)\n",
      "\u001b[2K     \u001b[90m━━━━━━━━━━━━━━━━━━━━━━━━━━━━━━━━━━━━━━━━\u001b[0m \u001b[32m59.9/59.9 MB\u001b[0m \u001b[31m23.5 MB/s\u001b[0m eta \u001b[36m0:00:00\u001b[0m00:01\u001b[0m00:01\u001b[0m\n",
      "\u001b[?25hRequirement already satisfied: cloudpickle in ./tuto_env/lib/python3.10/site-packages (from stable-baselines3) (3.0.0)\n",
      "Requirement already satisfied: pandas in ./tuto_env/lib/python3.10/site-packages (from stable-baselines3) (2.2.2)\n",
      "Requirement already satisfied: jinja2 in ./tuto_env/lib/python3.10/site-packages (from torch) (3.1.3)\n",
      "Requirement already satisfied: nvidia-cudnn-cu12==8.9.2.26 in ./tuto_env/lib/python3.10/site-packages (from torch) (8.9.2.26)\n",
      "Requirement already satisfied: networkx in ./tuto_env/lib/python3.10/site-packages (from torch) (3.3)\n",
      "Requirement already satisfied: nvidia-curand-cu12==10.3.2.106 in ./tuto_env/lib/python3.10/site-packages (from torch) (10.3.2.106)\n",
      "Requirement already satisfied: nvidia-cuda-cupti-cu12==12.1.105 in ./tuto_env/lib/python3.10/site-packages (from torch) (12.1.105)\n",
      "Requirement already satisfied: nvidia-cufft-cu12==11.0.2.54 in ./tuto_env/lib/python3.10/site-packages (from torch) (11.0.2.54)\n",
      "Requirement already satisfied: nvidia-cuda-runtime-cu12==12.1.105 in ./tuto_env/lib/python3.10/site-packages (from torch) (12.1.105)\n",
      "Requirement already satisfied: filelock in ./tuto_env/lib/python3.10/site-packages (from torch) (3.14.0)\n",
      "Requirement already satisfied: sympy in ./tuto_env/lib/python3.10/site-packages (from torch) (1.12)\n",
      "Requirement already satisfied: nvidia-cuda-nvrtc-cu12==12.1.105 in ./tuto_env/lib/python3.10/site-packages (from torch) (12.1.105)\n",
      "Requirement already satisfied: triton==2.3.0 in ./tuto_env/lib/python3.10/site-packages (from torch) (2.3.0)\n",
      "Requirement already satisfied: nvidia-cusparse-cu12==12.1.0.106 in ./tuto_env/lib/python3.10/site-packages (from torch) (12.1.0.106)\n",
      "Requirement already satisfied: typing-extensions>=4.8.0 in ./tuto_env/lib/python3.10/site-packages (from torch) (4.11.0)\n",
      "Requirement already satisfied: nvidia-cusolver-cu12==11.4.5.107 in ./tuto_env/lib/python3.10/site-packages (from torch) (11.4.5.107)\n",
      "Requirement already satisfied: fsspec in ./tuto_env/lib/python3.10/site-packages (from torch) (2024.3.1)\n",
      "Requirement already satisfied: nvidia-nvtx-cu12==12.1.105 in ./tuto_env/lib/python3.10/site-packages (from torch) (12.1.105)\n",
      "Requirement already satisfied: nvidia-cublas-cu12==12.1.3.1 in ./tuto_env/lib/python3.10/site-packages (from torch) (12.1.3.1)\n",
      "Requirement already satisfied: nvidia-nccl-cu12==2.20.5 in ./tuto_env/lib/python3.10/site-packages (from torch) (2.20.5)\n",
      "Requirement already satisfied: nvidia-nvjitlink-cu12 in ./tuto_env/lib/python3.10/site-packages (from nvidia-cusolver-cu12==11.4.5.107->torch) (12.4.127)\n",
      "Requirement already satisfied: absl-py>=0.4 in ./tuto_env/lib/python3.10/site-packages (from tensorboard) (2.1.0)\n",
      "Requirement already satisfied: tensorboard-data-server<0.8.0,>=0.7.0 in ./tuto_env/lib/python3.10/site-packages (from tensorboard) (0.7.2)\n",
      "Requirement already satisfied: six>1.9 in ./tuto_env/lib/python3.10/site-packages (from tensorboard) (1.16.0)\n",
      "Requirement already satisfied: markdown>=2.6.8 in ./tuto_env/lib/python3.10/site-packages (from tensorboard) (3.6)\n",
      "Requirement already satisfied: setuptools>=41.0.0 in ./tuto_env/lib/python3.10/site-packages (from tensorboard) (59.6.0)\n",
      "Requirement already satisfied: protobuf!=4.24.0,>=3.19.6 in ./tuto_env/lib/python3.10/site-packages (from tensorboard) (5.26.1)\n",
      "Requirement already satisfied: werkzeug>=1.0.1 in ./tuto_env/lib/python3.10/site-packages (from tensorboard) (3.0.2)\n",
      "Requirement already satisfied: grpcio>=1.48.2 in ./tuto_env/lib/python3.10/site-packages (from tensorboard) (1.62.2)\n",
      "Requirement already satisfied: farama-notifications>=0.0.1 in ./tuto_env/lib/python3.10/site-packages (from gymnasium>=0.28.1->SuperSuit) (0.0.4)\n",
      "Requirement already satisfied: open-spiel>=1.2 in ./tuto_env/lib/python3.10/site-packages (from shimmy[openspiel]>=1.2.0->pettingzoo[butterfly,classic]) (1.4)\n",
      "Requirement already satisfied: MarkupSafe>=2.1.1 in ./tuto_env/lib/python3.10/site-packages (from werkzeug>=1.0.1->tensorboard) (2.1.5)\n",
      "Requirement already satisfied: tzdata>=2022.7 in ./tuto_env/lib/python3.10/site-packages (from pandas->stable-baselines3) (2024.1)\n",
      "Requirement already satisfied: pytz>=2020.1 in ./tuto_env/lib/python3.10/site-packages (from pandas->stable-baselines3) (2024.1)\n",
      "Requirement already satisfied: mpmath>=0.19 in ./tuto_env/lib/python3.10/site-packages (from sympy->torch) (1.3.0)\n",
      "Requirement already satisfied: pycparser in ./tuto_env/lib/python3.10/site-packages (from cffi>1.14.0->pymunk==6.2.0->pettingzoo[butterfly,classic]) (2.22)\n",
      "Requirement already satisfied: scipy>=1.10.1 in ./tuto_env/lib/python3.10/site-packages (from open-spiel>=1.2->shimmy[openspiel]>=1.2.0->pettingzoo[butterfly,classic]) (1.13.0)\n",
      "Requirement already satisfied: attrs>=19.3.0 in ./tuto_env/lib/python3.10/site-packages (from open-spiel>=1.2->shimmy[openspiel]>=1.2.0->pettingzoo[butterfly,classic]) (23.2.0)\n",
      "Requirement already satisfied: ml-collections>=0.1.1 in ./tuto_env/lib/python3.10/site-packages (from open-spiel>=1.2->shimmy[openspiel]>=1.2.0->pettingzoo[butterfly,classic]) (0.1.1)\n",
      "Requirement already satisfied: pip>=20.0.2 in ./tuto_env/lib/python3.10/site-packages (from open-spiel>=1.2->shimmy[openspiel]>=1.2.0->pettingzoo[butterfly,classic]) (22.0.2)\n",
      "Requirement already satisfied: PyYAML in ./tuto_env/lib/python3.10/site-packages (from ml-collections>=0.1.1->open-spiel>=1.2->shimmy[openspiel]>=1.2.0->pettingzoo[butterfly,classic]) (6.0.1)\n",
      "Requirement already satisfied: contextlib2 in ./tuto_env/lib/python3.10/site-packages (from ml-collections>=0.1.1->open-spiel>=1.2->shimmy[openspiel]>=1.2.0->pettingzoo[butterfly,classic]) (21.6.0)\n",
      "Installing collected packages: PyQt5-Qt5, PyQt5-sip, PyQt5\n",
      "Successfully installed PyQt5-5.15.10 PyQt5-Qt5-5.15.2 PyQt5-sip-12.13.0\n",
      "Note: you may need to restart the kernel to use updated packages.\n",
      "Requirement already satisfied: stable-baselines3[extra] in ./tuto_env/lib/python3.10/site-packages (2.3.2)\n",
      "Requirement already satisfied: torch>=1.13 in ./tuto_env/lib/python3.10/site-packages (from stable-baselines3[extra]) (2.3.0)\n",
      "Requirement already satisfied: numpy>=1.20 in ./tuto_env/lib/python3.10/site-packages (from stable-baselines3[extra]) (1.26.4)\n",
      "Requirement already satisfied: matplotlib in ./tuto_env/lib/python3.10/site-packages (from stable-baselines3[extra]) (3.8.4)\n",
      "Requirement already satisfied: pandas in ./tuto_env/lib/python3.10/site-packages (from stable-baselines3[extra]) (2.2.2)\n",
      "Requirement already satisfied: cloudpickle in ./tuto_env/lib/python3.10/site-packages (from stable-baselines3[extra]) (3.0.0)\n",
      "Requirement already satisfied: gymnasium<0.30,>=0.28.1 in ./tuto_env/lib/python3.10/site-packages (from stable-baselines3[extra]) (0.29.1)\n",
      "Requirement already satisfied: pillow in ./tuto_env/lib/python3.10/site-packages (from stable-baselines3[extra]) (10.3.0)\n",
      "Requirement already satisfied: shimmy[atari]~=1.3.0 in ./tuto_env/lib/python3.10/site-packages (from stable-baselines3[extra]) (1.3.0)\n",
      "Requirement already satisfied: psutil in ./tuto_env/lib/python3.10/site-packages (from stable-baselines3[extra]) (5.9.8)\n",
      "Requirement already satisfied: opencv-python in ./tuto_env/lib/python3.10/site-packages (from stable-baselines3[extra]) (4.9.0.80)\n",
      "Requirement already satisfied: pygame in ./tuto_env/lib/python3.10/site-packages (from stable-baselines3[extra]) (2.3.0)\n",
      "Requirement already satisfied: rich in ./tuto_env/lib/python3.10/site-packages (from stable-baselines3[extra]) (13.7.1)\n",
      "Requirement already satisfied: tensorboard>=2.9.1 in ./tuto_env/lib/python3.10/site-packages (from stable-baselines3[extra]) (2.16.2)\n",
      "Requirement already satisfied: tqdm in ./tuto_env/lib/python3.10/site-packages (from stable-baselines3[extra]) (4.66.2)\n",
      "Requirement already satisfied: autorom[accept-rom-license]~=0.6.1 in ./tuto_env/lib/python3.10/site-packages (from stable-baselines3[extra]) (0.6.1)\n",
      "Requirement already satisfied: requests in ./tuto_env/lib/python3.10/site-packages (from autorom[accept-rom-license]~=0.6.1->stable-baselines3[extra]) (2.31.0)\n",
      "Requirement already satisfied: click in ./tuto_env/lib/python3.10/site-packages (from autorom[accept-rom-license]~=0.6.1->stable-baselines3[extra]) (8.1.7)\n",
      "Requirement already satisfied: AutoROM.accept-rom-license in ./tuto_env/lib/python3.10/site-packages (from autorom[accept-rom-license]~=0.6.1->stable-baselines3[extra]) (0.6.1)\n",
      "Requirement already satisfied: typing-extensions>=4.3.0 in ./tuto_env/lib/python3.10/site-packages (from gymnasium<0.30,>=0.28.1->stable-baselines3[extra]) (4.11.0)\n",
      "Requirement already satisfied: farama-notifications>=0.0.1 in ./tuto_env/lib/python3.10/site-packages (from gymnasium<0.30,>=0.28.1->stable-baselines3[extra]) (0.0.4)\n",
      "Requirement already satisfied: ale-py~=0.8.1 in ./tuto_env/lib/python3.10/site-packages (from shimmy[atari]~=1.3.0->stable-baselines3[extra]) (0.8.1)\n",
      "Requirement already satisfied: setuptools>=41.0.0 in ./tuto_env/lib/python3.10/site-packages (from tensorboard>=2.9.1->stable-baselines3[extra]) (59.6.0)\n",
      "Requirement already satisfied: werkzeug>=1.0.1 in ./tuto_env/lib/python3.10/site-packages (from tensorboard>=2.9.1->stable-baselines3[extra]) (3.0.2)\n",
      "Requirement already satisfied: markdown>=2.6.8 in ./tuto_env/lib/python3.10/site-packages (from tensorboard>=2.9.1->stable-baselines3[extra]) (3.6)\n",
      "Requirement already satisfied: grpcio>=1.48.2 in ./tuto_env/lib/python3.10/site-packages (from tensorboard>=2.9.1->stable-baselines3[extra]) (1.62.2)\n",
      "Requirement already satisfied: tensorboard-data-server<0.8.0,>=0.7.0 in ./tuto_env/lib/python3.10/site-packages (from tensorboard>=2.9.1->stable-baselines3[extra]) (0.7.2)\n",
      "Requirement already satisfied: absl-py>=0.4 in ./tuto_env/lib/python3.10/site-packages (from tensorboard>=2.9.1->stable-baselines3[extra]) (2.1.0)\n",
      "Requirement already satisfied: six>1.9 in ./tuto_env/lib/python3.10/site-packages (from tensorboard>=2.9.1->stable-baselines3[extra]) (1.16.0)\n",
      "Requirement already satisfied: protobuf!=4.24.0,>=3.19.6 in ./tuto_env/lib/python3.10/site-packages (from tensorboard>=2.9.1->stable-baselines3[extra]) (5.26.1)\n",
      "Requirement already satisfied: nvidia-cusolver-cu12==11.4.5.107 in ./tuto_env/lib/python3.10/site-packages (from torch>=1.13->stable-baselines3[extra]) (11.4.5.107)\n",
      "Requirement already satisfied: filelock in ./tuto_env/lib/python3.10/site-packages (from torch>=1.13->stable-baselines3[extra]) (3.14.0)\n",
      "Requirement already satisfied: fsspec in ./tuto_env/lib/python3.10/site-packages (from torch>=1.13->stable-baselines3[extra]) (2024.3.1)\n",
      "Requirement already satisfied: nvidia-cusparse-cu12==12.1.0.106 in ./tuto_env/lib/python3.10/site-packages (from torch>=1.13->stable-baselines3[extra]) (12.1.0.106)\n",
      "Requirement already satisfied: sympy in ./tuto_env/lib/python3.10/site-packages (from torch>=1.13->stable-baselines3[extra]) (1.12)\n",
      "Requirement already satisfied: jinja2 in ./tuto_env/lib/python3.10/site-packages (from torch>=1.13->stable-baselines3[extra]) (3.1.3)\n",
      "Requirement already satisfied: networkx in ./tuto_env/lib/python3.10/site-packages (from torch>=1.13->stable-baselines3[extra]) (3.3)\n",
      "Requirement already satisfied: triton==2.3.0 in ./tuto_env/lib/python3.10/site-packages (from torch>=1.13->stable-baselines3[extra]) (2.3.0)\n",
      "Requirement already satisfied: nvidia-cuda-cupti-cu12==12.1.105 in ./tuto_env/lib/python3.10/site-packages (from torch>=1.13->stable-baselines3[extra]) (12.1.105)\n",
      "Requirement already satisfied: nvidia-cuda-runtime-cu12==12.1.105 in ./tuto_env/lib/python3.10/site-packages (from torch>=1.13->stable-baselines3[extra]) (12.1.105)\n",
      "Requirement already satisfied: nvidia-curand-cu12==10.3.2.106 in ./tuto_env/lib/python3.10/site-packages (from torch>=1.13->stable-baselines3[extra]) (10.3.2.106)\n",
      "Requirement already satisfied: nvidia-cudnn-cu12==8.9.2.26 in ./tuto_env/lib/python3.10/site-packages (from torch>=1.13->stable-baselines3[extra]) (8.9.2.26)\n",
      "Requirement already satisfied: nvidia-cublas-cu12==12.1.3.1 in ./tuto_env/lib/python3.10/site-packages (from torch>=1.13->stable-baselines3[extra]) (12.1.3.1)\n",
      "Requirement already satisfied: nvidia-cufft-cu12==11.0.2.54 in ./tuto_env/lib/python3.10/site-packages (from torch>=1.13->stable-baselines3[extra]) (11.0.2.54)\n",
      "Requirement already satisfied: nvidia-nvtx-cu12==12.1.105 in ./tuto_env/lib/python3.10/site-packages (from torch>=1.13->stable-baselines3[extra]) (12.1.105)\n",
      "Requirement already satisfied: nvidia-cuda-nvrtc-cu12==12.1.105 in ./tuto_env/lib/python3.10/site-packages (from torch>=1.13->stable-baselines3[extra]) (12.1.105)\n",
      "Requirement already satisfied: nvidia-nccl-cu12==2.20.5 in ./tuto_env/lib/python3.10/site-packages (from torch>=1.13->stable-baselines3[extra]) (2.20.5)\n",
      "Requirement already satisfied: nvidia-nvjitlink-cu12 in ./tuto_env/lib/python3.10/site-packages (from nvidia-cusolver-cu12==11.4.5.107->torch>=1.13->stable-baselines3[extra]) (12.4.127)\n",
      "Requirement already satisfied: pyparsing>=2.3.1 in ./tuto_env/lib/python3.10/site-packages (from matplotlib->stable-baselines3[extra]) (3.1.2)\n",
      "Requirement already satisfied: python-dateutil>=2.7 in ./tuto_env/lib/python3.10/site-packages (from matplotlib->stable-baselines3[extra]) (2.9.0.post0)\n",
      "Requirement already satisfied: cycler>=0.10 in ./tuto_env/lib/python3.10/site-packages (from matplotlib->stable-baselines3[extra]) (0.12.1)\n",
      "Requirement already satisfied: kiwisolver>=1.3.1 in ./tuto_env/lib/python3.10/site-packages (from matplotlib->stable-baselines3[extra]) (1.4.5)\n",
      "Requirement already satisfied: fonttools>=4.22.0 in ./tuto_env/lib/python3.10/site-packages (from matplotlib->stable-baselines3[extra]) (4.51.0)\n",
      "Requirement already satisfied: packaging>=20.0 in ./tuto_env/lib/python3.10/site-packages (from matplotlib->stable-baselines3[extra]) (24.0)\n",
      "Requirement already satisfied: contourpy>=1.0.1 in ./tuto_env/lib/python3.10/site-packages (from matplotlib->stable-baselines3[extra]) (1.2.1)\n",
      "Requirement already satisfied: pytz>=2020.1 in ./tuto_env/lib/python3.10/site-packages (from pandas->stable-baselines3[extra]) (2024.1)\n",
      "Requirement already satisfied: tzdata>=2022.7 in ./tuto_env/lib/python3.10/site-packages (from pandas->stable-baselines3[extra]) (2024.1)\n",
      "Requirement already satisfied: markdown-it-py>=2.2.0 in ./tuto_env/lib/python3.10/site-packages (from rich->stable-baselines3[extra]) (3.0.0)\n",
      "Requirement already satisfied: pygments<3.0.0,>=2.13.0 in ./tuto_env/lib/python3.10/site-packages (from rich->stable-baselines3[extra]) (2.17.2)\n",
      "Requirement already satisfied: importlib-resources in ./tuto_env/lib/python3.10/site-packages (from ale-py~=0.8.1->shimmy[atari]~=1.3.0->stable-baselines3[extra]) (6.4.0)\n",
      "Requirement already satisfied: mdurl~=0.1 in ./tuto_env/lib/python3.10/site-packages (from markdown-it-py>=2.2.0->rich->stable-baselines3[extra]) (0.1.2)\n",
      "Requirement already satisfied: MarkupSafe>=2.1.1 in ./tuto_env/lib/python3.10/site-packages (from werkzeug>=1.0.1->tensorboard>=2.9.1->stable-baselines3[extra]) (2.1.5)\n",
      "Requirement already satisfied: charset-normalizer<4,>=2 in ./tuto_env/lib/python3.10/site-packages (from requests->autorom[accept-rom-license]~=0.6.1->stable-baselines3[extra]) (3.3.2)\n",
      "Requirement already satisfied: idna<4,>=2.5 in ./tuto_env/lib/python3.10/site-packages (from requests->autorom[accept-rom-license]~=0.6.1->stable-baselines3[extra]) (3.7)\n",
      "Requirement already satisfied: certifi>=2017.4.17 in ./tuto_env/lib/python3.10/site-packages (from requests->autorom[accept-rom-license]~=0.6.1->stable-baselines3[extra]) (2024.2.2)\n",
      "Requirement already satisfied: urllib3<3,>=1.21.1 in ./tuto_env/lib/python3.10/site-packages (from requests->autorom[accept-rom-license]~=0.6.1->stable-baselines3[extra]) (2.2.1)\n",
      "Requirement already satisfied: mpmath>=0.19 in ./tuto_env/lib/python3.10/site-packages (from sympy->torch>=1.13->stable-baselines3[extra]) (1.3.0)\n",
      "Note: you may need to restart the kernel to use updated packages.\n",
      "Requirement already satisfied: tensorboard in ./tuto_env/lib/python3.10/site-packages (2.16.2)\n",
      "Requirement already satisfied: numpy>=1.12.0 in ./tuto_env/lib/python3.10/site-packages (from tensorboard) (1.26.4)\n",
      "Requirement already satisfied: grpcio>=1.48.2 in ./tuto_env/lib/python3.10/site-packages (from tensorboard) (1.62.2)\n",
      "Requirement already satisfied: absl-py>=0.4 in ./tuto_env/lib/python3.10/site-packages (from tensorboard) (2.1.0)\n",
      "Requirement already satisfied: werkzeug>=1.0.1 in ./tuto_env/lib/python3.10/site-packages (from tensorboard) (3.0.2)\n",
      "Requirement already satisfied: setuptools>=41.0.0 in ./tuto_env/lib/python3.10/site-packages (from tensorboard) (59.6.0)\n",
      "Requirement already satisfied: six>1.9 in ./tuto_env/lib/python3.10/site-packages (from tensorboard) (1.16.0)\n",
      "Requirement already satisfied: protobuf!=4.24.0,>=3.19.6 in ./tuto_env/lib/python3.10/site-packages (from tensorboard) (5.26.1)\n",
      "Requirement already satisfied: markdown>=2.6.8 in ./tuto_env/lib/python3.10/site-packages (from tensorboard) (3.6)\n",
      "Requirement already satisfied: tensorboard-data-server<0.8.0,>=0.7.0 in ./tuto_env/lib/python3.10/site-packages (from tensorboard) (0.7.2)\n",
      "Requirement already satisfied: MarkupSafe>=2.1.1 in ./tuto_env/lib/python3.10/site-packages (from werkzeug>=1.0.1->tensorboard) (2.1.5)\n",
      "Note: you may need to restart the kernel to use updated packages.\n",
      "Processing /home/soulej/Documents/Thèse/omarl_experiments/custom_envs/dist/custom_envs-0.1.tar.gz\n",
      "  Preparing metadata (setup.py) ... \u001b[?25ldone\n",
      "\u001b[?25hRequirement already satisfied: gymnasium in ./tuto_env/lib/python3.10/site-packages (from custom-envs==0.1) (0.29.1)\n",
      "Requirement already satisfied: matplotlib in ./tuto_env/lib/python3.10/site-packages (from custom-envs==0.1) (3.8.4)\n",
      "Requirement already satisfied: numpy in ./tuto_env/lib/python3.10/site-packages (from custom-envs==0.1) (1.26.4)\n",
      "Requirement already satisfied: pettingzoo in ./tuto_env/lib/python3.10/site-packages (from custom-envs==0.1) (1.24.3)\n",
      "Requirement already satisfied: pillow in ./tuto_env/lib/python3.10/site-packages (from custom-envs==0.1) (10.3.0)\n",
      "Requirement already satisfied: pygame in ./tuto_env/lib/python3.10/site-packages (from custom-envs==0.1) (2.3.0)\n",
      "Requirement already satisfied: farama-notifications>=0.0.1 in ./tuto_env/lib/python3.10/site-packages (from gymnasium->custom-envs==0.1) (0.0.4)\n",
      "Requirement already satisfied: typing-extensions>=4.3.0 in ./tuto_env/lib/python3.10/site-packages (from gymnasium->custom-envs==0.1) (4.11.0)\n",
      "Requirement already satisfied: cloudpickle>=1.2.0 in ./tuto_env/lib/python3.10/site-packages (from gymnasium->custom-envs==0.1) (3.0.0)\n",
      "Requirement already satisfied: fonttools>=4.22.0 in ./tuto_env/lib/python3.10/site-packages (from matplotlib->custom-envs==0.1) (4.51.0)\n",
      "Requirement already satisfied: kiwisolver>=1.3.1 in ./tuto_env/lib/python3.10/site-packages (from matplotlib->custom-envs==0.1) (1.4.5)\n",
      "Requirement already satisfied: packaging>=20.0 in ./tuto_env/lib/python3.10/site-packages (from matplotlib->custom-envs==0.1) (24.0)\n",
      "Requirement already satisfied: python-dateutil>=2.7 in ./tuto_env/lib/python3.10/site-packages (from matplotlib->custom-envs==0.1) (2.9.0.post0)\n",
      "Requirement already satisfied: contourpy>=1.0.1 in ./tuto_env/lib/python3.10/site-packages (from matplotlib->custom-envs==0.1) (1.2.1)\n",
      "Requirement already satisfied: cycler>=0.10 in ./tuto_env/lib/python3.10/site-packages (from matplotlib->custom-envs==0.1) (0.12.1)\n",
      "Requirement already satisfied: pyparsing>=2.3.1 in ./tuto_env/lib/python3.10/site-packages (from matplotlib->custom-envs==0.1) (3.1.2)\n",
      "Requirement already satisfied: six>=1.5 in ./tuto_env/lib/python3.10/site-packages (from python-dateutil>=2.7->matplotlib->custom-envs==0.1) (1.16.0)\n",
      "Using legacy 'setup.py install' for custom-envs, since package 'wheel' is not installed.\n",
      "Installing collected packages: custom-envs\n",
      "  Attempting uninstall: custom-envs\n",
      "    Found existing installation: custom-envs 0.1\n",
      "    Uninstalling custom-envs-0.1:\n",
      "      Successfully uninstalled custom-envs-0.1\n",
      "  Running setup.py install for custom-envs ... \u001b[?25ldone\n",
      "\u001b[?25hSuccessfully installed custom-envs-0.1\n",
      "Note: you may need to restart the kernel to use updated packages.\n"
     ]
    }
   ],
   "source": [
    "!source tuto_env/bin/activate\n",
    "%pip install matplotlib SuperSuit numpy pettingzoo[classic,butterfly] PyQt5 stable-baselines3 torch tensorboard --timeout 86400;\n",
    "%pip install stable-baselines3[extra] --timeout 86400;\n",
    "%pip install tensorboard --timeout 86400;\n",
    "%pip install ./../custom_envs/dist/*.tar.gz;"
   ]
  },
  {
   "cell_type": "code",
   "execution_count": 2,
   "metadata": {
    "execution": {
     "iopub.execute_input": "2023-12-22T13:55:17.447507Z",
     "iopub.status.busy": "2023-12-22T13:55:17.447082Z",
     "iopub.status.idle": "2023-12-22T13:55:20.751418Z",
     "shell.execute_reply": "2023-12-22T13:55:20.750703Z"
    },
    "id": "sMitx5qSgJk1"
   },
   "outputs": [],
   "source": [
    "import copy\n",
    "from dataclasses import dataclass\n",
    "from enum import Enum\n",
    "import json\n",
    "import numpy as np\n",
    "import gymnasium\n",
    "\n",
    "from typing import Any, Callable, Dict, List, Set, Tuple\n",
    "from pettingzoo.utils.wrappers import BaseWrapper\n",
    "from pettingzoo.utils.env import ActionType, AECEnv, AgentID, ObsType\n",
    "\n",
    "from custom_envs.movingcompany import moving_company_v0\n",
    "\n",
    "# from prahom_wrapper import organizational_model, history_model"
   ]
  },
  {
   "cell_type": "code",
   "execution_count": null,
   "metadata": {
    "execution": {
     "iopub.execute_input": "2023-12-22T13:55:20.756250Z",
     "iopub.status.busy": "2023-12-22T13:55:20.755326Z",
     "iopub.status.idle": "2023-12-22T13:55:20.843808Z",
     "shell.execute_reply": "2023-12-22T13:55:20.842659Z"
    },
    "id": "J6HsdS5GbSjd"
   },
   "outputs": [],
   "source": [
    "# Set up a virtual display for rendering OpenAI gym environments.\n",
    "display = pyvirtualdisplay.Display(visible=0, size=(1400, 900)).start()"
   ]
  },
  {
   "cell_type": "markdown",
   "metadata": {
    "id": "LmC0NDhdLIKY"
   },
   "source": [
    "## Hyperparameters"
   ]
  },
  {
   "cell_type": "code",
   "execution_count": null,
   "metadata": {
    "execution": {
     "iopub.execute_input": "2023-12-22T13:55:20.859412Z",
     "iopub.status.busy": "2023-12-22T13:55:20.858836Z",
     "iopub.status.idle": "2023-12-22T13:55:20.862532Z",
     "shell.execute_reply": "2023-12-22T13:55:20.861983Z"
    },
    "id": "HC1kNrOsLSIZ"
   },
   "outputs": [],
   "source": [
    "num_iterations = 20000 # @param {type:\"integer\"}\n",
    "\n",
    "initial_collect_steps = 100  # @param {type:\"integer\"}\n",
    "collect_steps_per_iteration =   1# @param {type:\"integer\"}\n",
    "replay_buffer_max_length = 100000  # @param {type:\"integer\"}\n",
    "\n",
    "batch_size = 64  # @param {type:\"integer\"}\n",
    "learning_rate = 1e-3  # @param {type:\"number\"}\n",
    "log_interval = 200  # @param {type:\"integer\"}\n",
    "\n",
    "num_eval_episodes = 10  # @param {type:\"integer\"}\n",
    "eval_interval = 1000  # @param {type:\"integer\"}"
   ]
  },
  {
   "cell_type": "markdown",
   "metadata": {
    "id": "VMsJC3DEgI0x"
   },
   "source": [
    "## Environment\n",
    "\n",
    "In Reinforcement Learning (RL), an environment represents the task or problem to be solved. Standard environments can be created in TF-Agents using `tf_agents.environments` suites. TF-Agents has suites for loading environments from sources such as the OpenAI Gym, Atari, and DM Control.\n",
    "\n",
    "Load the CartPole environment from the OpenAI Gym suite."
   ]
  },
  {
   "cell_type": "code",
   "execution_count": null,
   "metadata": {
    "execution": {
     "iopub.execute_input": "2023-12-22T13:55:20.865902Z",
     "iopub.status.busy": "2023-12-22T13:55:20.865429Z",
     "iopub.status.idle": "2023-12-22T13:55:20.896073Z",
     "shell.execute_reply": "2023-12-22T13:55:20.895421Z"
    },
    "id": "pYEz-S9gEv2-"
   },
   "outputs": [],
   "source": [
    "env_name = 'CartPole-v0'\n",
    "env = suite_gym.load(env_name)"
   ]
  },
  {
   "cell_type": "markdown",
   "metadata": {
    "id": "IIHYVBkuvPNw"
   },
   "source": [
    "You can render this environment to see how it looks. A free-swinging pole is attached to a cart.  The goal is to move the cart right or left in order to keep the pole pointing up."
   ]
  },
  {
   "cell_type": "code",
   "execution_count": null,
   "metadata": {
    "execution": {
     "iopub.execute_input": "2023-12-22T13:55:20.899550Z",
     "iopub.status.busy": "2023-12-22T13:55:20.899088Z",
     "iopub.status.idle": "2023-12-22T13:55:21.042230Z",
     "shell.execute_reply": "2023-12-22T13:55:21.041616Z"
    },
    "id": "RlO7WIQHu_7D"
   },
   "outputs": [
    {
     "data": {
      "image/jpeg": "[encoded data removed]",
      "image/png": "[encoded data removed]",
      "text/plain": [
       "<PIL.Image.Image image mode=RGB size=600x400>"
      ]
     },
     "execution_count": 7,
     "metadata": {},
     "output_type": "execute_result"
    }
   ],
   "source": [
    "#@test {\"skip\": true}\n",
    "env.reset()\n",
    "PIL.Image.fromarray(env.render())"
   ]
  },
  {
   "cell_type": "markdown",
   "metadata": {
    "id": "B9_lskPOey18"
   },
   "source": [
    "The `environment.step` method takes an `action` in the environment and returns a `TimeStep` tuple containing the next observation of the environment and the reward for the action.\n",
    "\n",
    "The `time_step_spec()` method returns the specification for the `TimeStep` tuple. Its `observation` attribute shows the shape of observations, the data types, and the ranges of allowed values. The `reward` attribute shows the same details for the reward.\n"
   ]
  },
  {
   "cell_type": "code",
   "execution_count": null,
   "metadata": {
    "execution": {
     "iopub.execute_input": "2023-12-22T13:55:21.045996Z",
     "iopub.status.busy": "2023-12-22T13:55:21.045342Z",
     "iopub.status.idle": "2023-12-22T13:55:21.052853Z",
     "shell.execute_reply": "2023-12-22T13:55:21.052224Z"
    },
    "id": "exDv57iHfwQV"
   },
   "outputs": [
    {
     "name": "stdout",
     "output_type": "stream",
     "text": [
      "Observation Spec:\n",
      "BoundedArraySpec(shape=(4,), dtype=dtype('float32'), name='observation', minimum=[-4.8000002e+00 -3.4028235e+38 -4.1887903e-01 -3.4028235e+38], maximum=[4.8000002e+00 3.4028235e+38 4.1887903e-01 3.4028235e+38])\n"
     ]
    }
   ],
   "source": [
    "print('Observation Spec:')\n",
    "print(env.time_step_spec().observation)"
   ]
  },
  {
   "cell_type": "code",
   "execution_count": null,
   "metadata": {
    "execution": {
     "iopub.execute_input": "2023-12-22T13:55:21.056164Z",
     "iopub.status.busy": "2023-12-22T13:55:21.055699Z",
     "iopub.status.idle": "2023-12-22T13:55:21.059703Z",
     "shell.execute_reply": "2023-12-22T13:55:21.059058Z"
    },
    "id": "UxiSyCbBUQPi"
   },
   "outputs": [
    {
     "name": "stdout",
     "output_type": "stream",
     "text": [
      "Reward Spec:\n",
      "ArraySpec(shape=(), dtype=dtype('float32'), name='reward')\n"
     ]
    }
   ],
   "source": [
    "print('Reward Spec:')\n",
    "print(env.time_step_spec().reward)"
   ]
  },
  {
   "cell_type": "markdown",
   "metadata": {
    "id": "b_lHcIcqUaqB"
   },
   "source": [
    "The `action_spec()` method returns the shape, data types, and allowed values of valid actions."
   ]
  },
  {
   "cell_type": "code",
   "execution_count": null,
   "metadata": {
    "execution": {
     "iopub.execute_input": "2023-12-22T13:55:21.062912Z",
     "iopub.status.busy": "2023-12-22T13:55:21.062530Z",
     "iopub.status.idle": "2023-12-22T13:55:21.066031Z",
     "shell.execute_reply": "2023-12-22T13:55:21.065367Z"
    },
    "id": "bttJ4uxZUQBr"
   },
   "outputs": [
    {
     "name": "stdout",
     "output_type": "stream",
     "text": [
      "Action Spec:\n",
      "BoundedArraySpec(shape=(), dtype=dtype('int64'), name='action', minimum=0, maximum=1)\n"
     ]
    }
   ],
   "source": [
    "print('Action Spec:')\n",
    "print(env.action_spec())"
   ]
  },
  {
   "cell_type": "markdown",
   "metadata": {
    "id": "eJCgJnx3g0yY"
   },
   "source": [
    "In the Cartpole environment:\n",
    "\n",
    "-   `observation` is an array of 4 floats:\n",
    "    -   the position and velocity of the cart\n",
    "    -   the angular position and velocity of the pole\n",
    "-   `reward` is a scalar float value\n",
    "-   `action` is a scalar integer with only two possible values:\n",
    "    -   `0` — \"move left\"\n",
    "    -   `1` — \"move right\"\n"
   ]
  },
  {
   "cell_type": "code",
   "execution_count": null,
   "metadata": {
    "execution": {
     "iopub.execute_input": "2023-12-22T13:55:21.069391Z",
     "iopub.status.busy": "2023-12-22T13:55:21.068881Z",
     "iopub.status.idle": "2023-12-22T13:55:21.075210Z",
     "shell.execute_reply": "2023-12-22T13:55:21.074587Z"
    },
    "id": "V2UGR5t_iZX-"
   },
   "outputs": [
    {
     "name": "stdout",
     "output_type": "stream",
     "text": [
      "Time step:\n",
      "TimeStep(\n",
      "{'step_type': array(0, dtype=int32),\n",
      " 'reward': array(0., dtype=float32),\n",
      " 'discount': array(1., dtype=float32),\n",
      " 'observation': array([-0.03370193,  0.01198316,  0.04867929, -0.02954268], dtype=float32)})\n",
      "Next time step:\n",
      "TimeStep(\n",
      "{'step_type': array(1, dtype=int32),\n",
      " 'reward': array(1., dtype=float32),\n",
      " 'discount': array(1., dtype=float32),\n",
      " 'observation': array([-0.03346227,  0.20637444,  0.04808844, -0.30647814], dtype=float32)})\n"
     ]
    }
   ],
   "source": [
    "time_step = env.reset()\n",
    "print('Time step:')\n",
    "print(time_step)\n",
    "\n",
    "action = np.array(1, dtype=np.int32)\n",
    "\n",
    "next_time_step = env.step(action)\n",
    "print('Next time step:')\n",
    "print(next_time_step)"
   ]
  },
  {
   "cell_type": "markdown",
   "metadata": {
    "id": "4JSc9GviWUBK"
   },
   "source": [
    "Usually two environments are instantiated: one for training and one for evaluation."
   ]
  },
  {
   "cell_type": "code",
   "execution_count": null,
   "metadata": {
    "execution": {
     "iopub.execute_input": "2023-12-22T13:55:21.078434Z",
     "iopub.status.busy": "2023-12-22T13:55:21.078196Z",
     "iopub.status.idle": "2023-12-22T13:55:21.083380Z",
     "shell.execute_reply": "2023-12-22T13:55:21.082812Z"
    },
    "id": "N7brXNIGWXjC"
   },
   "outputs": [],
   "source": [
    "train_py_env = suite_gym.load(env_name)\n",
    "eval_py_env = suite_gym.load(env_name)"
   ]
  },
  {
   "cell_type": "markdown",
   "metadata": {
    "id": "zuUqXAVmecTU"
   },
   "source": [
    "The Cartpole environment, like most environments, is written in pure Python. This is converted to TensorFlow using the `TFPyEnvironment` wrapper.\n",
    "\n",
    "The original environment's API uses Numpy arrays. The `TFPyEnvironment` converts these to `Tensors` to make it compatible with Tensorflow agents and policies.\n"
   ]
  },
  {
   "cell_type": "code",
   "execution_count": null,
   "metadata": {
    "execution": {
     "iopub.execute_input": "2023-12-22T13:55:21.086745Z",
     "iopub.status.busy": "2023-12-22T13:55:21.086262Z",
     "iopub.status.idle": "2023-12-22T13:55:21.095262Z",
     "shell.execute_reply": "2023-12-22T13:55:21.094705Z"
    },
    "id": "Xp-Y4mD6eDhF"
   },
   "outputs": [],
   "source": [
    "train_env = tf_py_environment.TFPyEnvironment(train_py_env)\n",
    "eval_env = tf_py_environment.TFPyEnvironment(eval_py_env)"
   ]
  },
  {
   "cell_type": "markdown",
   "metadata": {
    "id": "E9lW_OZYFR8A"
   },
   "source": [
    "## Agent\n",
    "\n",
    "The algorithm used to solve an RL problem is represented by an `Agent`. TF-Agents provides standard implementations of a variety of `Agents`, including:\n",
    "\n",
    "-   [DQN](https://storage.googleapis.com/deepmind-media/dqn/DQNNaturePaper.pdf) (used in this tutorial)\n",
    "-   [REINFORCE](https://www-anw.cs.umass.edu/~barto/courses/cs687/williams92simple.pdf)\n",
    "-   [DDPG](https://arxiv.org/pdf/1509.02971.pdf)\n",
    "-   [TD3](https://arxiv.org/pdf/1802.09477.pdf)\n",
    "-   [PPO](https://arxiv.org/abs/1707.06347)\n",
    "-   [SAC](https://arxiv.org/abs/1801.01290)\n",
    "\n",
    "The DQN agent can be used in any environment which has a discrete action space.\n",
    "\n",
    "At the heart of a DQN Agent is a `QNetwork`, a neural network model that can learn to predict `QValues` (expected returns) for all actions, given an observation from the environment.\n",
    "\n",
    "We will use `tf_agents.networks.` to create a `QNetwork`. The network will consist of a sequence of `tf.keras.layers.Dense` layers, where the final layer will have 1 output for each possible action."
   ]
  },
  {
   "cell_type": "code",
   "execution_count": null,
   "metadata": {
    "execution": {
     "iopub.execute_input": "2023-12-22T13:55:21.098814Z",
     "iopub.status.busy": "2023-12-22T13:55:21.098224Z",
     "iopub.status.idle": "2023-12-22T13:55:21.120409Z",
     "shell.execute_reply": "2023-12-22T13:55:21.119824Z"
    },
    "id": "TgkdEPg_muzV"
   },
   "outputs": [],
   "source": [
    "fc_layer_params = (100, 50)\n",
    "action_tensor_spec = tensor_spec.from_spec(env.action_spec())\n",
    "num_actions = action_tensor_spec.maximum - action_tensor_spec.minimum + 1\n",
    "\n",
    "# Define a helper function to create Dense layers configured with the right\n",
    "# activation and kernel initializer.\n",
    "def dense_layer(num_units):\n",
    "  return tf.keras.layers.Dense(\n",
    "      num_units,\n",
    "      activation=tf.keras.activations.relu,\n",
    "      kernel_initializer=tf.keras.initializers.VarianceScaling(\n",
    "          scale=2.0, mode='fan_in', distribution='truncated_normal'))\n",
    "\n",
    "# QNetwork consists of a sequence of Dense layers followed by a dense layer\n",
    "# with `num_actions` units to generate one q_value per available action as\n",
    "# its output.\n",
    "dense_layers = [dense_layer(num_units) for num_units in fc_layer_params]\n",
    "q_values_layer = tf.keras.layers.Dense(\n",
    "    num_actions,\n",
    "    activation=None,\n",
    "    kernel_initializer=tf.keras.initializers.RandomUniform(\n",
    "        minval=-0.03, maxval=0.03),\n",
    "    bias_initializer=tf.keras.initializers.Constant(-0.2))\n",
    "q_net = sequential.Sequential(dense_layers + [q_values_layer])"
   ]
  },
  {
   "cell_type": "markdown",
   "metadata": {
    "id": "z62u55hSmviJ"
   },
   "source": [
    "Now use `tf_agents.agents.dqn.dqn_agent` to instantiate a `DqnAgent`. In addition to the `time_step_spec`, `action_spec` and the QNetwork, the agent constructor also requires an optimizer (in this case, `AdamOptimizer`), a loss function, and an integer step counter."
   ]
  },
  {
   "cell_type": "code",
   "execution_count": null,
   "metadata": {
    "execution": {
     "iopub.execute_input": "2023-12-22T13:55:21.123474Z",
     "iopub.status.busy": "2023-12-22T13:55:21.123220Z",
     "iopub.status.idle": "2023-12-22T13:55:23.609895Z",
     "shell.execute_reply": "2023-12-22T13:55:23.609126Z"
    },
    "id": "jbY4yrjTEyc9"
   },
   "outputs": [
    {
     "name": "stderr",
     "output_type": "stream",
     "text": [
      "2024-02-16 15:54:01.775740: E external/local_xla/xla/stream_executor/cuda/cuda_driver.cc:274] failed call to cuInit: CUDA_ERROR_NO_DEVICE: no CUDA-capable device is detected\n"
     ]
    }
   ],
   "source": [
    "optimizer = tf.keras.optimizers.Adam(learning_rate=learning_rate)\n",
    "\n",
    "train_step_counter = tf.Variable(0)\n",
    "\n",
    "agent = dqn_agent.DqnAgent(\n",
    "    train_env.time_step_spec(),\n",
    "    train_env.action_spec(),\n",
    "    q_network=q_net,\n",
    "    optimizer=optimizer,\n",
    "    td_errors_loss_fn=common.element_wise_squared_loss,\n",
    "    train_step_counter=train_step_counter)\n",
    "\n",
    "agent.initialize()"
   ]
  },
  {
   "cell_type": "markdown",
   "metadata": {
    "id": "I0KLrEPwkn5x"
   },
   "source": [
    "## Policies\n",
    "\n",
    "A policy defines the way an agent acts in an environment. Typically, the goal of reinforcement learning is to train the underlying model until the policy produces the desired outcome.\n",
    "\n",
    "In this tutorial:\n",
    "\n",
    "-   The desired outcome is keeping the pole balanced upright over the cart.\n",
    "-   The policy returns an action (left or right) for each `time_step` observation.\n",
    "\n",
    "Agents contain two policies:\n",
    "\n",
    "-   `agent.policy` — The main policy that is used for evaluation and deployment.\n",
    "-   `agent.collect_policy` — A second policy that is used for data collection.\n"
   ]
  },
  {
   "cell_type": "code",
   "execution_count": null,
   "metadata": {
    "execution": {
     "iopub.execute_input": "2023-12-22T13:55:23.614035Z",
     "iopub.status.busy": "2023-12-22T13:55:23.613778Z",
     "iopub.status.idle": "2023-12-22T13:55:23.617153Z",
     "shell.execute_reply": "2023-12-22T13:55:23.616470Z"
    },
    "id": "BwY7StuMkuV4"
   },
   "outputs": [],
   "source": [
    "eval_policy = agent.policy\n",
    "collect_policy = agent.collect_policy"
   ]
  },
  {
   "cell_type": "markdown",
   "metadata": {
    "id": "2Qs1Fl3dV0ae"
   },
   "source": [
    "Policies can be created independently of agents. For example, use `tf_agents.policies.random_tf_policy` to create a policy which will randomly select an action for each `time_step`."
   ]
  },
  {
   "cell_type": "code",
   "execution_count": null,
   "metadata": {
    "execution": {
     "iopub.execute_input": "2023-12-22T13:55:23.620353Z",
     "iopub.status.busy": "2023-12-22T13:55:23.620132Z",
     "iopub.status.idle": "2023-12-22T13:55:23.623537Z",
     "shell.execute_reply": "2023-12-22T13:55:23.622958Z"
    },
    "id": "HE37-UCIrE69"
   },
   "outputs": [],
   "source": [
    "random_policy = random_tf_policy.RandomTFPolicy(train_env.time_step_spec(),\n",
    "                                                train_env.action_spec())"
   ]
  },
  {
   "cell_type": "markdown",
   "metadata": {
    "id": "dOlnlRRsUbxP"
   },
   "source": [
    "To get an action from a policy, call the `policy.action(time_step)` method. The `time_step` contains the observation from the environment. This method returns a `PolicyStep`, which is a named tuple with three components:\n",
    "\n",
    "-   `action` — the action to be taken (in this case, `0` or `1`)\n",
    "-   `state` — used for stateful (that is, RNN-based) policies\n",
    "-   `info` — auxiliary data, such as log probabilities of actions"
   ]
  },
  {
   "cell_type": "code",
   "execution_count": null,
   "metadata": {
    "execution": {
     "iopub.execute_input": "2023-12-22T13:55:23.626567Z",
     "iopub.status.busy": "2023-12-22T13:55:23.626324Z",
     "iopub.status.idle": "2023-12-22T13:55:23.632855Z",
     "shell.execute_reply": "2023-12-22T13:55:23.632276Z"
    },
    "id": "5gCcpXswVAxk"
   },
   "outputs": [],
   "source": [
    "example_environment = tf_py_environment.TFPyEnvironment(\n",
    "    suite_gym.load('CartPole-v0'))"
   ]
  },
  {
   "cell_type": "code",
   "execution_count": null,
   "metadata": {
    "execution": {
     "iopub.execute_input": "2023-12-22T13:55:23.636090Z",
     "iopub.status.busy": "2023-12-22T13:55:23.635847Z",
     "iopub.status.idle": "2023-12-22T13:55:23.641638Z",
     "shell.execute_reply": "2023-12-22T13:55:23.641020Z"
    },
    "id": "D4DHZtq3Ndis"
   },
   "outputs": [],
   "source": [
    "time_step = example_environment.reset()"
   ]
  },
  {
   "cell_type": "code",
   "execution_count": null,
   "metadata": {
    "execution": {
     "iopub.execute_input": "2023-12-22T13:55:23.644790Z",
     "iopub.status.busy": "2023-12-22T13:55:23.644526Z",
     "iopub.status.idle": "2023-12-22T13:55:24.302461Z",
     "shell.execute_reply": "2023-12-22T13:55:24.301812Z"
    },
    "id": "PRFqAUzpNaAW"
   },
   "outputs": [
    {
     "data": {
      "text/plain": [
       "PolicyStep(action=<tf.Tensor: shape=(1,), dtype=int64, numpy=array([1])>, state=(), info=())"
      ]
     },
     "execution_count": 22,
     "metadata": {},
     "output_type": "execute_result"
    }
   ],
   "source": [
    "random_policy.action(time_step)"
   ]
  },
  {
   "cell_type": "markdown",
   "metadata": {
    "id": "94rCXQtbUbXv"
   },
   "source": [
    "## Metrics and Evaluation\n",
    "\n",
    "The most common metric used to evaluate a policy is the average return. The return is the sum of rewards obtained while running a policy in an environment for an episode. Several episodes are run, creating an average return.\n",
    "\n",
    "The following function computes the average return of a policy, given the policy, environment, and a number of episodes.\n"
   ]
  },
  {
   "cell_type": "code",
   "execution_count": null,
   "metadata": {
    "execution": {
     "iopub.execute_input": "2023-12-22T13:55:24.306055Z",
     "iopub.status.busy": "2023-12-22T13:55:24.305783Z",
     "iopub.status.idle": "2023-12-22T13:55:24.310552Z",
     "shell.execute_reply": "2023-12-22T13:55:24.309978Z"
    },
    "id": "bitzHo5_UbXy"
   },
   "outputs": [],
   "source": [
    "#@test {\"skip\": true}\n",
    "def compute_avg_return(environment, policy, num_episodes=10):\n",
    "\n",
    "  total_return = 0.0\n",
    "  for _ in range(num_episodes):\n",
    "\n",
    "    time_step = environment.reset()\n",
    "    episode_return = 0.0\n",
    "\n",
    "    while not time_step.is_last():\n",
    "      action_step = policy.action(time_step)\n",
    "      time_step = environment.step(action_step.action)\n",
    "      episode_return += time_step.reward\n",
    "    total_return += episode_return\n",
    "\n",
    "  avg_return = total_return / num_episodes\n",
    "  return avg_return.numpy()[0]\n",
    "\n",
    "\n",
    "# See also the metrics module for standard implementations of different metrics.\n",
    "# https://github.com/tensorflow/agents/tree/master/tf_agents/metrics"
   ]
  },
  {
   "cell_type": "markdown",
   "metadata": {
    "id": "_snCVvq5Z8lJ"
   },
   "source": [
    "Running this computation on the `random_policy` shows a baseline performance in the environment."
   ]
  },
  {
   "cell_type": "code",
   "execution_count": null,
   "metadata": {
    "execution": {
     "iopub.execute_input": "2023-12-22T13:55:24.313642Z",
     "iopub.status.busy": "2023-12-22T13:55:24.313416Z",
     "iopub.status.idle": "2023-12-22T13:55:25.361689Z",
     "shell.execute_reply": "2023-12-22T13:55:25.361087Z"
    },
    "id": "9bgU6Q6BZ8Bp"
   },
   "outputs": [
    {
     "data": {
      "text/plain": [
       "23.5"
      ]
     },
     "execution_count": 24,
     "metadata": {},
     "output_type": "execute_result"
    }
   ],
   "source": [
    "compute_avg_return(eval_env, random_policy, num_eval_episodes)"
   ]
  },
  {
   "cell_type": "markdown",
   "metadata": {
    "id": "NLva6g2jdWgr"
   },
   "source": [
    "## Replay Buffer\n",
    "\n",
    "In order to keep track of the data collected from the environment, we will use [Reverb](https://deepmind.com/research/open-source/Reverb), an efficient, extensible, and easy-to-use replay system by Deepmind. It stores experience data when we collect trajectories and is consumed during training.\n",
    "\n",
    "This replay buffer is constructed using specs describing the tensors that are to be stored, which can be obtained from the agent using agent.collect_data_spec.\n"
   ]
  },
  {
   "cell_type": "code",
   "execution_count": null,
   "metadata": {
    "execution": {
     "iopub.execute_input": "2023-12-22T13:55:25.365091Z",
     "iopub.status.busy": "2023-12-22T13:55:25.364852Z",
     "iopub.status.idle": "2023-12-22T13:55:25.381868Z",
     "shell.execute_reply": "2023-12-22T13:55:25.381207Z"
    },
    "id": "vX2zGUWJGWAl"
   },
   "outputs": [
    {
     "name": "stderr",
     "output_type": "stream",
     "text": [
      "[reverb/cc/platform/tfrecord_checkpointer.cc:162]  Initializing TFRecordCheckpointer in /tmpfs/tmp/tmpcvnrrkpg.\n",
      "[reverb/cc/platform/tfrecord_checkpointer.cc:565] Loading latest checkpoint from /tmpfs/tmp/tmpcvnrrkpg\n",
      "[reverb/cc/platform/default/server.cc:71] Started replay server on port 46351\n"
     ]
    }
   ],
   "source": [
    "table_name = 'uniform_table'\n",
    "replay_buffer_signature = tensor_spec.from_spec(\n",
    "      agent.collect_data_spec)\n",
    "replay_buffer_signature = tensor_spec.add_outer_dim(\n",
    "    replay_buffer_signature)\n",
    "\n",
    "table = reverb.Table(\n",
    "    table_name,\n",
    "    max_size=replay_buffer_max_length,\n",
    "    sampler=reverb.selectors.Uniform(),\n",
    "    remover=reverb.selectors.Fifo(),\n",
    "    rate_limiter=reverb.rate_limiters.MinSize(1),\n",
    "    signature=replay_buffer_signature)\n",
    "\n",
    "reverb_server = reverb.Server([table])\n",
    "\n",
    "replay_buffer = reverb_replay_buffer.ReverbReplayBuffer(\n",
    "    agent.collect_data_spec,\n",
    "    table_name=table_name,\n",
    "    sequence_length=2,\n",
    "    local_server=reverb_server)\n",
    "\n",
    "rb_observer = reverb_utils.ReverbAddTrajectoryObserver(\n",
    "  replay_buffer.py_client,\n",
    "  table_name,\n",
    "  sequence_length=2)"
   ]
  },
  {
   "cell_type": "markdown",
   "metadata": {
    "id": "ZGNTDJpZs4NN"
   },
   "source": [
    "For most agents, `collect_data_spec` is a named tuple called `Trajectory`, containing the specs for observations, actions, rewards, and other items."
   ]
  },
  {
   "cell_type": "code",
   "execution_count": null,
   "metadata": {
    "execution": {
     "iopub.execute_input": "2023-12-22T13:55:25.385484Z",
     "iopub.status.busy": "2023-12-22T13:55:25.384903Z",
     "iopub.status.idle": "2023-12-22T13:55:25.390729Z",
     "shell.execute_reply": "2023-12-22T13:55:25.390168Z"
    },
    "id": "_IZ-3HcqgE1z"
   },
   "outputs": [
    {
     "data": {
      "text/plain": [
       "Trajectory(\n",
       "{'step_type': TensorSpec(shape=(), dtype=tf.int32, name='step_type'),\n",
       " 'observation': BoundedTensorSpec(shape=(4,), dtype=tf.float32, name='observation', minimum=array([-4.8000002e+00, -3.4028235e+38, -4.1887903e-01, -3.4028235e+38],\n",
       "      dtype=float32), maximum=array([4.8000002e+00, 3.4028235e+38, 4.1887903e-01, 3.4028235e+38],\n",
       "      dtype=float32)),\n",
       " 'action': BoundedTensorSpec(shape=(), dtype=tf.int64, name='action', minimum=array(0), maximum=array(1)),\n",
       " 'policy_info': (),\n",
       " 'next_step_type': TensorSpec(shape=(), dtype=tf.int32, name='step_type'),\n",
       " 'reward': TensorSpec(shape=(), dtype=tf.float32, name='reward'),\n",
       " 'discount': BoundedTensorSpec(shape=(), dtype=tf.float32, name='discount', minimum=array(0., dtype=float32), maximum=array(1., dtype=float32))})"
      ]
     },
     "execution_count": 26,
     "metadata": {},
     "output_type": "execute_result"
    }
   ],
   "source": [
    "agent.collect_data_spec"
   ]
  },
  {
   "cell_type": "code",
   "execution_count": null,
   "metadata": {
    "execution": {
     "iopub.execute_input": "2023-12-22T13:55:25.394024Z",
     "iopub.status.busy": "2023-12-22T13:55:25.393464Z",
     "iopub.status.idle": "2023-12-22T13:55:25.397672Z",
     "shell.execute_reply": "2023-12-22T13:55:25.397125Z"
    },
    "id": "sy6g1tGcfRlw"
   },
   "outputs": [
    {
     "data": {
      "text/plain": [
       "('step_type',\n",
       " 'observation',\n",
       " 'action',\n",
       " 'policy_info',\n",
       " 'next_step_type',\n",
       " 'reward',\n",
       " 'discount')"
      ]
     },
     "execution_count": 27,
     "metadata": {},
     "output_type": "execute_result"
    }
   ],
   "source": [
    "agent.collect_data_spec._fields"
   ]
  },
  {
   "cell_type": "markdown",
   "metadata": {
    "id": "rVD5nQ9ZGo8_"
   },
   "source": [
    "## Data Collection\n",
    "\n",
    "Now execute the random policy in the environment for a few steps, recording the data in the replay buffer.\n",
    "\n",
    "Here we are using 'PyDriver' to run the experience collecting loop. You can learn more about TF Agents driver in our [drivers tutorial](https://www.tensorflow.org/agents/tutorials/4_drivers_tutorial)."
   ]
  },
  {
   "cell_type": "code",
   "execution_count": null,
   "metadata": {
    "execution": {
     "iopub.execute_input": "2023-12-22T13:55:25.401107Z",
     "iopub.status.busy": "2023-12-22T13:55:25.400539Z",
     "iopub.status.idle": "2023-12-22T13:55:25.704624Z",
     "shell.execute_reply": "2023-12-22T13:55:25.703936Z"
    },
    "id": "wr1KSAEGG4h9"
   },
   "outputs": [
    {
     "data": {
      "text/plain": [
       "(TimeStep(\n",
       " {'step_type': array(1, dtype=int32),\n",
       "  'reward': array(1., dtype=float32),\n",
       "  'discount': array(1., dtype=float32),\n",
       "  'observation': array([-0.03368392,  0.18694404, -0.00172193, -0.24534112], dtype=float32)}),\n",
       " ())"
      ]
     },
     "execution_count": 28,
     "metadata": {},
     "output_type": "execute_result"
    }
   ],
   "source": [
    "#@test {\"skip\": true}\n",
    "py_driver.PyDriver(\n",
    "    env,\n",
    "    py_tf_eager_policy.PyTFEagerPolicy(\n",
    "      random_policy, use_tf_function=True),\n",
    "    [rb_observer],\n",
    "    max_steps=initial_collect_steps).run(train_py_env.reset())"
   ]
  },
  {
   "cell_type": "markdown",
   "metadata": {
    "id": "84z5pQJdoKxo"
   },
   "source": [
    "The replay buffer is now a collection of Trajectories."
   ]
  },
  {
   "cell_type": "code",
   "execution_count": null,
   "metadata": {
    "execution": {
     "iopub.execute_input": "2023-12-22T13:55:25.708600Z",
     "iopub.status.busy": "2023-12-22T13:55:25.707980Z",
     "iopub.status.idle": "2023-12-22T13:55:25.710942Z",
     "shell.execute_reply": "2023-12-22T13:55:25.710384Z"
    },
    "id": "4wZnLu2ViO4E"
   },
   "outputs": [],
   "source": [
    "# For the curious:\n",
    "# Uncomment to peel one of these off and inspect it.\n",
    "# iter(replay_buffer.as_dataset()).next()"
   ]
  },
  {
   "cell_type": "markdown",
   "metadata": {
    "id": "TujU-PMUsKjS"
   },
   "source": [
    "The agent needs access to the replay buffer. This is provided by creating an iterable `tf.data.Dataset` pipeline which will feed data to the agent.\n",
    "\n",
    "Each row of the replay buffer only stores a single observation step. But since the DQN Agent needs both the current and next observation to compute the loss, the dataset pipeline will sample two adjacent rows for each item in the batch (`num_steps=2`).\n",
    "\n",
    "This dataset is also optimized by running parallel calls and prefetching data."
   ]
  },
  {
   "cell_type": "code",
   "execution_count": null,
   "metadata": {
    "execution": {
     "iopub.execute_input": "2023-12-22T13:55:25.714431Z",
     "iopub.status.busy": "2023-12-22T13:55:25.713882Z",
     "iopub.status.idle": "2023-12-22T13:55:26.034185Z",
     "shell.execute_reply": "2023-12-22T13:55:26.033540Z"
    },
    "id": "ba7bilizt_qW"
   },
   "outputs": [
    {
     "data": {
      "text/plain": [
       "<_PrefetchDataset element_spec=(Trajectory(\n",
       "{'step_type': TensorSpec(shape=(64, 2), dtype=tf.int32, name=None),\n",
       " 'observation': TensorSpec(shape=(64, 2, 4), dtype=tf.float32, name=None),\n",
       " 'action': TensorSpec(shape=(64, 2), dtype=tf.int64, name=None),\n",
       " 'policy_info': (),\n",
       " 'next_step_type': TensorSpec(shape=(64, 2), dtype=tf.int32, name=None),\n",
       " 'reward': TensorSpec(shape=(64, 2), dtype=tf.float32, name=None),\n",
       " 'discount': TensorSpec(shape=(64, 2), dtype=tf.float32, name=None)}), SampleInfo(key=TensorSpec(shape=(64, 2), dtype=tf.uint64, name=None), probability=TensorSpec(shape=(64, 2), dtype=tf.float64, name=None), table_size=TensorSpec(shape=(64, 2), dtype=tf.int64, name=None), priority=TensorSpec(shape=(64, 2), dtype=tf.float64, name=None), times_sampled=TensorSpec(shape=(64, 2), dtype=tf.int32, name=None)))>"
      ]
     },
     "execution_count": 30,
     "metadata": {},
     "output_type": "execute_result"
    }
   ],
   "source": [
    "# Dataset generates trajectories with shape [Bx2x...]\n",
    "dataset = replay_buffer.as_dataset(\n",
    "    num_parallel_calls=3,\n",
    "    sample_batch_size=batch_size,\n",
    "    num_steps=2).prefetch(3)\n",
    "\n",
    "dataset"
   ]
  },
  {
   "cell_type": "code",
   "execution_count": null,
   "metadata": {
    "execution": {
     "iopub.execute_input": "2023-12-22T13:55:26.037724Z",
     "iopub.status.busy": "2023-12-22T13:55:26.037127Z",
     "iopub.status.idle": "2023-12-22T13:55:26.122254Z",
     "shell.execute_reply": "2023-12-22T13:55:26.121618Z"
    },
    "id": "K13AST-2ppOq"
   },
   "outputs": [
    {
     "name": "stdout",
     "output_type": "stream",
     "text": [
      "<tensorflow.python.data.ops.iterator_ops.OwnedIterator object at 0x7f048a8c8dc0>\n"
     ]
    }
   ],
   "source": [
    "iterator = iter(dataset)\n",
    "print(iterator)"
   ]
  },
  {
   "cell_type": "code",
   "execution_count": null,
   "metadata": {
    "execution": {
     "iopub.execute_input": "2023-12-22T13:55:26.125434Z",
     "iopub.status.busy": "2023-12-22T13:55:26.125207Z",
     "iopub.status.idle": "2023-12-22T13:55:26.128430Z",
     "shell.execute_reply": "2023-12-22T13:55:26.127753Z"
    },
    "id": "Th5w5Sff0b16"
   },
   "outputs": [],
   "source": [
    "# For the curious:\n",
    "# Uncomment to see what the dataset iterator is feeding to the agent.\n",
    "# Compare this representation of replay data\n",
    "# to the collection of individual trajectories shown earlier.\n",
    "\n",
    "# iterator.next()"
   ]
  },
  {
   "cell_type": "markdown",
   "metadata": {
    "id": "hBc9lj9VWWtZ"
   },
   "source": [
    "## Training the agent\n",
    "\n",
    "Two things must happen during the training loop:\n",
    "\n",
    "-   collect data from the environment\n",
    "-   use that data to train the agent's neural network(s)\n",
    "\n",
    "This example also periodicially evaluates the policy and prints the current score.\n",
    "\n",
    "The following will take ~5 minutes to run."
   ]
  },
  {
   "cell_type": "code",
   "execution_count": null,
   "metadata": {
    "execution": {
     "iopub.execute_input": "2023-12-22T13:55:26.131645Z",
     "iopub.status.busy": "2023-12-22T13:55:26.131384Z",
     "iopub.status.idle": "2023-12-22T14:02:44.359198Z",
     "shell.execute_reply": "2023-12-22T14:02:44.358222Z"
    },
    "id": "0pTbJ3PeyF-u"
   },
   "outputs": [
    {
     "name": "stdout",
     "output_type": "stream",
     "text": [
      "WARNING:tensorflow:From /tmpfs/src/tf_docs_env/lib/python3.9/site-packages/tensorflow/python/util/dispatch.py:1260: calling foldr_v2 (from tensorflow.python.ops.functional_ops) with back_prop=False is deprecated and will be removed in a future version.\n",
      "Instructions for updating:\n",
      "back_prop=False is deprecated. Consider using tf.stop_gradient instead.\n",
      "Instead of:\n",
      "results = tf.foldr(fn, elems, back_prop=False)\n",
      "Use:\n",
      "results = tf.nest.map_structure(tf.stop_gradient, tf.foldr(fn, elems))\n"
     ]
    },
    {
     "name": "stderr",
     "output_type": "stream",
     "text": [
      "[reverb/cc/client.cc:165] Sampler and server are owned by the same process (42980) so Table uniform_table is accessed directly without gRPC.\n",
      "[reverb/cc/client.cc:165] Sampler and server are owned by the same process (42980) so Table uniform_table is accessed directly without gRPC.\n",
      "[reverb/cc/client.cc:165] Sampler and server are owned by the same process (42980) so Table uniform_table is accessed directly without gRPC.\n",
      "[reverb/cc/client.cc:165] Sampler and server are owned by the same process (42980) so Table uniform_table is accessed directly without gRPC.\n",
      "[reverb/cc/client.cc:165] Sampler and server are owned by the same process (42980) so Table uniform_table is accessed directly without gRPC.\n",
      "[reverb/cc/client.cc:165] Sampler and server are owned by the same process (42980) so Table uniform_table is accessed directly without gRPC.\n"
     ]
    },
    {
     "name": "stderr",
     "output_type": "stream",
     "text": [
      "WARNING: All log messages before absl::InitializeLog() is called are written to STDERR\n",
      "I0000 00:00:1703253329.256450   44311 device_compiler.h:186] Compiled cluster using XLA!  This line is logged at most once for the lifetime of the process.\n"
     ]
    },
    {
     "name": "stdout",
     "output_type": "stream",
     "text": [
      "step = 200: loss = 168.9337615966797\n"
     ]
    },
    {
     "name": "stdout",
     "output_type": "stream",
     "text": [
      "step = 400: loss = 2.769679069519043\n"
     ]
    },
    {
     "name": "stdout",
     "output_type": "stream",
     "text": [
      "step = 600: loss = 20.378292083740234\n"
     ]
    },
    {
     "name": "stdout",
     "output_type": "stream",
     "text": [
      "step = 800: loss = 2.9951205253601074\n"
     ]
    },
    {
     "name": "stdout",
     "output_type": "stream",
     "text": [
      "step = 1000: loss = 3.985201358795166\n"
     ]
    },
    {
     "name": "stdout",
     "output_type": "stream",
     "text": [
      "step = 1000: Average Return = 41.5\n"
     ]
    },
    {
     "name": "stdout",
     "output_type": "stream",
     "text": [
      "step = 1200: loss = 27.128450393676758\n"
     ]
    },
    {
     "name": "stdout",
     "output_type": "stream",
     "text": [
      "step = 1400: loss = 5.9545087814331055\n"
     ]
    },
    {
     "name": "stdout",
     "output_type": "stream",
     "text": [
      "step = 1600: loss = 30.321374893188477\n"
     ]
    },
    {
     "name": "stdout",
     "output_type": "stream",
     "text": [
      "step = 1800: loss = 4.8639116287231445\n"
     ]
    },
    {
     "name": "stdout",
     "output_type": "stream",
     "text": [
      "step = 2000: loss = 77.69764709472656\n"
     ]
    },
    {
     "name": "stdout",
     "output_type": "stream",
     "text": [
      "step = 2000: Average Return = 189.3000030517578\n"
     ]
    },
    {
     "name": "stdout",
     "output_type": "stream",
     "text": [
      "step = 2200: loss = 38.41033935546875\n"
     ]
    },
    {
     "name": "stdout",
     "output_type": "stream",
     "text": [
      "step = 2400: loss = 73.83688354492188\n"
     ]
    },
    {
     "name": "stdout",
     "output_type": "stream",
     "text": [
      "step = 2600: loss = 89.96795654296875\n"
     ]
    },
    {
     "name": "stdout",
     "output_type": "stream",
     "text": [
      "step = 2800: loss = 318.172119140625\n"
     ]
    },
    {
     "name": "stdout",
     "output_type": "stream",
     "text": [
      "step = 3000: loss = 119.87837219238281\n"
     ]
    },
    {
     "name": "stdout",
     "output_type": "stream",
     "text": [
      "step = 3000: Average Return = 183.1999969482422\n"
     ]
    },
    {
     "name": "stdout",
     "output_type": "stream",
     "text": [
      "step = 3200: loss = 348.0591125488281\n"
     ]
    },
    {
     "name": "stdout",
     "output_type": "stream",
     "text": [
      "step = 3400: loss = 306.32928466796875\n"
     ]
    },
    {
     "name": "stdout",
     "output_type": "stream",
     "text": [
      "step = 3600: loss = 2720.41943359375\n"
     ]
    },
    {
     "name": "stdout",
     "output_type": "stream",
     "text": [
      "step = 3800: loss = 1241.906982421875\n"
     ]
    },
    {
     "name": "stdout",
     "output_type": "stream",
     "text": [
      "step = 4000: loss = 259.3073425292969\n"
     ]
    },
    {
     "name": "stdout",
     "output_type": "stream",
     "text": [
      "step = 4000: Average Return = 177.60000610351562\n"
     ]
    },
    {
     "name": "stdout",
     "output_type": "stream",
     "text": [
      "step = 4200: loss = 411.57086181640625\n"
     ]
    },
    {
     "name": "stdout",
     "output_type": "stream",
     "text": [
      "step = 4400: loss = 96.17520141601562\n"
     ]
    },
    {
     "name": "stdout",
     "output_type": "stream",
     "text": [
      "step = 4600: loss = 293.4364318847656\n"
     ]
    },
    {
     "name": "stdout",
     "output_type": "stream",
     "text": [
      "step = 4800: loss = 115.97804260253906\n"
     ]
    },
    {
     "name": "stdout",
     "output_type": "stream",
     "text": [
      "step = 5000: loss = 135.9969482421875\n"
     ]
    },
    {
     "name": "stdout",
     "output_type": "stream",
     "text": [
      "step = 5000: Average Return = 184.10000610351562\n"
     ]
    },
    {
     "name": "stdout",
     "output_type": "stream",
     "text": [
      "step = 5200: loss = 108.25897216796875\n"
     ]
    },
    {
     "name": "stdout",
     "output_type": "stream",
     "text": [
      "step = 5400: loss = 117.57241821289062\n"
     ]
    },
    {
     "name": "stdout",
     "output_type": "stream",
     "text": [
      "step = 5600: loss = 203.2187957763672\n"
     ]
    },
    {
     "name": "stdout",
     "output_type": "stream",
     "text": [
      "step = 5800: loss = 107.27171325683594\n"
     ]
    },
    {
     "name": "stdout",
     "output_type": "stream",
     "text": [
      "step = 6000: loss = 89.8726806640625\n"
     ]
    },
    {
     "name": "stdout",
     "output_type": "stream",
     "text": [
      "step = 6000: Average Return = 196.5\n"
     ]
    },
    {
     "name": "stdout",
     "output_type": "stream",
     "text": [
      "step = 6200: loss = 719.5379638671875\n"
     ]
    },
    {
     "name": "stdout",
     "output_type": "stream",
     "text": [
      "step = 6400: loss = 671.7078247070312\n"
     ]
    },
    {
     "name": "stdout",
     "output_type": "stream",
     "text": [
      "step = 6600: loss = 605.4098510742188\n"
     ]
    },
    {
     "name": "stdout",
     "output_type": "stream",
     "text": [
      "step = 6800: loss = 118.79557800292969\n"
     ]
    },
    {
     "name": "stdout",
     "output_type": "stream",
     "text": [
      "step = 7000: loss = 1082.111572265625\n"
     ]
    },
    {
     "name": "stdout",
     "output_type": "stream",
     "text": [
      "step = 7000: Average Return = 200.0\n"
     ]
    },
    {
     "name": "stdout",
     "output_type": "stream",
     "text": [
      "step = 7200: loss = 377.11651611328125\n"
     ]
    },
    {
     "name": "stdout",
     "output_type": "stream",
     "text": [
      "step = 7400: loss = 135.56011962890625\n"
     ]
    },
    {
     "name": "stdout",
     "output_type": "stream",
     "text": [
      "step = 7600: loss = 155.7529296875\n"
     ]
    },
    {
     "name": "stdout",
     "output_type": "stream",
     "text": [
      "step = 7800: loss = 162.6855926513672\n"
     ]
    },
    {
     "name": "stdout",
     "output_type": "stream",
     "text": [
      "step = 8000: loss = 160.82798767089844\n"
     ]
    },
    {
     "name": "stdout",
     "output_type": "stream",
     "text": [
      "step = 8000: Average Return = 200.0\n"
     ]
    },
    {
     "name": "stdout",
     "output_type": "stream",
     "text": [
      "step = 8200: loss = 162.89614868164062\n"
     ]
    },
    {
     "name": "stdout",
     "output_type": "stream",
     "text": [
      "step = 8400: loss = 167.7406005859375\n"
     ]
    },
    {
     "name": "stdout",
     "output_type": "stream",
     "text": [
      "step = 8600: loss = 108.040771484375\n"
     ]
    },
    {
     "name": "stdout",
     "output_type": "stream",
     "text": [
      "step = 8800: loss = 545.4006958007812\n"
     ]
    },
    {
     "name": "stdout",
     "output_type": "stream",
     "text": [
      "step = 9000: loss = 176.59364318847656\n"
     ]
    },
    {
     "name": "stdout",
     "output_type": "stream",
     "text": [
      "step = 9000: Average Return = 200.0\n"
     ]
    },
    {
     "name": "stdout",
     "output_type": "stream",
     "text": [
      "step = 9200: loss = 808.9935913085938\n"
     ]
    },
    {
     "name": "stdout",
     "output_type": "stream",
     "text": [
      "step = 9400: loss = 179.5496063232422\n"
     ]
    },
    {
     "name": "stdout",
     "output_type": "stream",
     "text": [
      "step = 9600: loss = 115.72040557861328\n"
     ]
    },
    {
     "name": "stdout",
     "output_type": "stream",
     "text": [
      "step = 9800: loss = 110.83393096923828\n"
     ]
    },
    {
     "name": "stdout",
     "output_type": "stream",
     "text": [
      "step = 10000: loss = 1168.90380859375\n"
     ]
    },
    {
     "name": "stdout",
     "output_type": "stream",
     "text": [
      "step = 10000: Average Return = 200.0\n"
     ]
    },
    {
     "name": "stdout",
     "output_type": "stream",
     "text": [
      "step = 10200: loss = 387.125244140625\n"
     ]
    },
    {
     "name": "stdout",
     "output_type": "stream",
     "text": [
      "step = 10400: loss = 3282.5703125\n"
     ]
    },
    {
     "name": "stdout",
     "output_type": "stream",
     "text": [
      "step = 10600: loss = 4486.83642578125\n"
     ]
    },
    {
     "name": "stdout",
     "output_type": "stream",
     "text": [
      "step = 10800: loss = 5873.224609375\n"
     ]
    },
    {
     "name": "stdout",
     "output_type": "stream",
     "text": [
      "step = 11000: loss = 4588.74462890625\n"
     ]
    },
    {
     "name": "stdout",
     "output_type": "stream",
     "text": [
      "step = 11000: Average Return = 200.0\n"
     ]
    },
    {
     "name": "stdout",
     "output_type": "stream",
     "text": [
      "step = 11200: loss = 233958.21875\n"
     ]
    },
    {
     "name": "stdout",
     "output_type": "stream",
     "text": [
      "step = 11400: loss = 3961.323486328125\n"
     ]
    },
    {
     "name": "stdout",
     "output_type": "stream",
     "text": [
      "step = 11600: loss = 9469.7607421875\n"
     ]
    },
    {
     "name": "stdout",
     "output_type": "stream",
     "text": [
      "step = 11800: loss = 79834.6953125\n"
     ]
    },
    {
     "name": "stdout",
     "output_type": "stream",
     "text": [
      "step = 12000: loss = 6522.5\n"
     ]
    },
    {
     "name": "stdout",
     "output_type": "stream",
     "text": [
      "step = 12000: Average Return = 200.0\n"
     ]
    },
    {
     "name": "stdout",
     "output_type": "stream",
     "text": [
      "step = 12200: loss = 4317.1884765625\n"
     ]
    },
    {
     "name": "stdout",
     "output_type": "stream",
     "text": [
      "step = 12400: loss = 187011.5625\n"
     ]
    },
    {
     "name": "stdout",
     "output_type": "stream",
     "text": [
      "step = 12600: loss = 2300.244873046875\n"
     ]
    },
    {
     "name": "stdout",
     "output_type": "stream",
     "text": [
      "step = 12800: loss = 2199.23193359375\n"
     ]
    },
    {
     "name": "stdout",
     "output_type": "stream",
     "text": [
      "step = 13000: loss = 4176.35888671875\n"
     ]
    },
    {
     "name": "stdout",
     "output_type": "stream",
     "text": [
      "step = 13000: Average Return = 154.10000610351562\n"
     ]
    },
    {
     "name": "stdout",
     "output_type": "stream",
     "text": [
      "step = 13200: loss = 3100.556640625\n"
     ]
    },
    {
     "name": "stdout",
     "output_type": "stream",
     "text": [
      "step = 13400: loss = 114706.8125\n"
     ]
    },
    {
     "name": "stdout",
     "output_type": "stream",
     "text": [
      "step = 13600: loss = 1447.1259765625\n"
     ]
    },
    {
     "name": "stdout",
     "output_type": "stream",
     "text": [
      "step = 13800: loss = 11129.3818359375\n"
     ]
    },
    {
     "name": "stdout",
     "output_type": "stream",
     "text": [
      "step = 14000: loss = 1454.640380859375\n"
     ]
    },
    {
     "name": "stdout",
     "output_type": "stream",
     "text": [
      "step = 14000: Average Return = 200.0\n"
     ]
    },
    {
     "name": "stdout",
     "output_type": "stream",
     "text": [
      "step = 14200: loss = 1165.739990234375\n"
     ]
    },
    {
     "name": "stdout",
     "output_type": "stream",
     "text": [
      "step = 14400: loss = 1011.5919189453125\n"
     ]
    },
    {
     "name": "stdout",
     "output_type": "stream",
     "text": [
      "step = 14600: loss = 1090.4755859375\n"
     ]
    },
    {
     "name": "stdout",
     "output_type": "stream",
     "text": [
      "step = 14800: loss = 1562.9677734375\n"
     ]
    },
    {
     "name": "stdout",
     "output_type": "stream",
     "text": [
      "step = 15000: loss = 1205.5361328125\n"
     ]
    },
    {
     "name": "stdout",
     "output_type": "stream",
     "text": [
      "step = 15000: Average Return = 200.0\n"
     ]
    },
    {
     "name": "stdout",
     "output_type": "stream",
     "text": [
      "step = 15200: loss = 913.7637939453125\n"
     ]
    },
    {
     "name": "stdout",
     "output_type": "stream",
     "text": [
      "step = 15400: loss = 8834.7216796875\n"
     ]
    },
    {
     "name": "stdout",
     "output_type": "stream",
     "text": [
      "step = 15600: loss = 318027.15625\n"
     ]
    },
    {
     "name": "stdout",
     "output_type": "stream",
     "text": [
      "step = 15800: loss = 5136.9150390625\n"
     ]
    },
    {
     "name": "stdout",
     "output_type": "stream",
     "text": [
      "step = 16000: loss = 374743.65625\n"
     ]
    },
    {
     "name": "stdout",
     "output_type": "stream",
     "text": [
      "step = 16000: Average Return = 200.0\n"
     ]
    },
    {
     "name": "stdout",
     "output_type": "stream",
     "text": [
      "step = 16200: loss = 4737.19287109375\n"
     ]
    },
    {
     "name": "stdout",
     "output_type": "stream",
     "text": [
      "step = 16400: loss = 5279.40478515625\n"
     ]
    },
    {
     "name": "stdout",
     "output_type": "stream",
     "text": [
      "step = 16600: loss = 4674.5009765625\n"
     ]
    },
    {
     "name": "stdout",
     "output_type": "stream",
     "text": [
      "step = 16800: loss = 3743.15087890625\n"
     ]
    },
    {
     "name": "stdout",
     "output_type": "stream",
     "text": [
      "step = 17000: loss = 15105.62109375\n"
     ]
    },
    {
     "name": "stdout",
     "output_type": "stream",
     "text": [
      "step = 17000: Average Return = 200.0\n"
     ]
    },
    {
     "name": "stdout",
     "output_type": "stream",
     "text": [
      "step = 17200: loss = 938550.0\n"
     ]
    },
    {
     "name": "stdout",
     "output_type": "stream",
     "text": [
      "step = 17400: loss = 9318.6015625\n"
     ]
    },
    {
     "name": "stdout",
     "output_type": "stream",
     "text": [
      "step = 17600: loss = 10585.978515625\n"
     ]
    },
    {
     "name": "stdout",
     "output_type": "stream",
     "text": [
      "step = 17800: loss = 8195.138671875\n"
     ]
    },
    {
     "name": "stdout",
     "output_type": "stream",
     "text": [
      "step = 18000: loss = 288772.40625\n"
     ]
    },
    {
     "name": "stdout",
     "output_type": "stream",
     "text": [
      "step = 18000: Average Return = 200.0\n"
     ]
    },
    {
     "name": "stdout",
     "output_type": "stream",
     "text": [
      "step = 18200: loss = 6771.6826171875\n"
     ]
    },
    {
     "name": "stdout",
     "output_type": "stream",
     "text": [
      "step = 18400: loss = 3363.34326171875\n"
     ]
    },
    {
     "name": "stdout",
     "output_type": "stream",
     "text": [
      "step = 18600: loss = 611807.75\n"
     ]
    },
    {
     "name": "stdout",
     "output_type": "stream",
     "text": [
      "step = 18800: loss = 6124.15966796875\n"
     ]
    },
    {
     "name": "stdout",
     "output_type": "stream",
     "text": [
      "step = 19000: loss = 1373558.5\n"
     ]
    },
    {
     "name": "stdout",
     "output_type": "stream",
     "text": [
      "step = 19000: Average Return = 200.0\n"
     ]
    },
    {
     "name": "stdout",
     "output_type": "stream",
     "text": [
      "step = 19200: loss = 764662.625\n"
     ]
    },
    {
     "name": "stdout",
     "output_type": "stream",
     "text": [
      "step = 19400: loss = 342950.84375\n"
     ]
    },
    {
     "name": "stdout",
     "output_type": "stream",
     "text": [
      "step = 19600: loss = 10324.072265625\n"
     ]
    },
    {
     "name": "stdout",
     "output_type": "stream",
     "text": [
      "step = 19800: loss = 13140.9892578125\n"
     ]
    },
    {
     "name": "stdout",
     "output_type": "stream",
     "text": [
      "step = 20000: loss = 55873.1328125\n"
     ]
    },
    {
     "name": "stdout",
     "output_type": "stream",
     "text": [
      "step = 20000: Average Return = 200.0\n"
     ]
    }
   ],
   "source": [
    "#@test {\"skip\": true}\n",
    "try:\n",
    "  %%time\n",
    "except:\n",
    "  pass\n",
    "\n",
    "# (Optional) Optimize by wrapping some of the code in a graph using TF function.\n",
    "agent.train = common.function(agent.train)\n",
    "\n",
    "# Reset the train step.\n",
    "agent.train_step_counter.assign(0)\n",
    "\n",
    "# Evaluate the agent's policy once before training.\n",
    "avg_return = compute_avg_return(eval_env, agent.policy, num_eval_episodes)\n",
    "returns = [avg_return]\n",
    "\n",
    "# Reset the environment.\n",
    "time_step = train_py_env.reset()\n",
    "\n",
    "# Create a driver to collect experience.\n",
    "collect_driver = py_driver.PyDriver(\n",
    "    env,\n",
    "    py_tf_eager_policy.PyTFEagerPolicy(\n",
    "      agent.collect_policy, use_tf_function=True),\n",
    "    [rb_observer],\n",
    "    max_steps=collect_steps_per_iteration)\n",
    "\n",
    "for _ in range(num_iterations):\n",
    "\n",
    "  # Collect a few steps and save to the replay buffer.\n",
    "  time_step, _ = collect_driver.run(time_step)\n",
    "\n",
    "  # Sample a batch of data from the buffer and update the agent's network.\n",
    "  experience, unused_info = next(iterator)\n",
    "  train_loss = agent.train(experience).loss\n",
    "\n",
    "  step = agent.train_step_counter.numpy()\n",
    "\n",
    "  if step % log_interval == 0:\n",
    "    print('step = {0}: loss = {1}'.format(step, train_loss))\n",
    "\n",
    "  if step % eval_interval == 0:\n",
    "    avg_return = compute_avg_return(eval_env, agent.policy, num_eval_episodes)\n",
    "    print('step = {0}: Average Return = {1}'.format(step, avg_return))\n",
    "    returns.append(avg_return)"
   ]
  },
  {
   "cell_type": "markdown",
   "metadata": {
    "id": "68jNcA_TiJDq"
   },
   "source": [
    "## Visualization\n"
   ]
  },
  {
   "cell_type": "markdown",
   "metadata": {
    "id": "aO-LWCdbbOIC"
   },
   "source": [
    "### Plots\n",
    "\n",
    "Use `matplotlib.pyplot` to chart how the policy improved during training.\n",
    "\n",
    "One iteration of `Cartpole-v0` consists of 200 time steps. The environment gives a reward of `+1` for each step the pole stays up, so the maximum return for one episode is 200. The charts shows the return increasing towards that maximum each time it is evaluated during training. (It may be a little unstable and not increase monotonically each time.)"
   ]
  },
  {
   "cell_type": "code",
   "execution_count": null,
   "metadata": {
    "execution": {
     "iopub.execute_input": "2023-12-22T14:02:44.363116Z",
     "iopub.status.busy": "2023-12-22T14:02:44.362813Z",
     "iopub.status.idle": "2023-12-22T14:02:44.580901Z",
     "shell.execute_reply": "2023-12-22T14:02:44.580147Z"
    },
    "id": "NxtL1mbOYCVO"
   },
   "outputs": [
    {
     "data": {
      "text/plain": [
       "(0.08000040054321289, 250.0)"
      ]
     },
     "execution_count": 34,
     "metadata": {},
     "output_type": "execute_result"
    },
    {
     "data": {
      "image/png": "[encoded data removed]",
      "text/plain": [
       "<Figure size 640x480 with 1 Axes>"
      ]
     },
     "metadata": {},
     "output_type": "display_data"
    }
   ],
   "source": [
    "#@test {\"skip\": true}\n",
    "\n",
    "iterations = range(0, num_iterations + 1, eval_interval)\n",
    "plt.plot(iterations, returns)\n",
    "plt.ylabel('Average Return')\n",
    "plt.xlabel('Iterations')\n",
    "plt.ylim(top=250)"
   ]
  },
  {
   "cell_type": "markdown",
   "metadata": {
    "id": "M7-XpPP99Cy7"
   },
   "source": [
    "### Videos"
   ]
  },
  {
   "cell_type": "markdown",
   "metadata": {
    "id": "9pGfGxSH32gn"
   },
   "source": [
    "Charts are nice. But more exciting is seeing an agent actually performing a task in an environment.\n",
    "\n",
    "First, create a function to embed videos in the notebook."
   ]
  },
  {
   "cell_type": "code",
   "execution_count": null,
   "metadata": {
    "execution": {
     "iopub.execute_input": "2023-12-22T14:02:44.584768Z",
     "iopub.status.busy": "2023-12-22T14:02:44.584312Z",
     "iopub.status.idle": "2023-12-22T14:02:44.588924Z",
     "shell.execute_reply": "2023-12-22T14:02:44.588085Z"
    },
    "id": "ULaGr8pvOKbl"
   },
   "outputs": [],
   "source": [
    "def embed_mp4(filename):\n",
    "  \"\"\"Embeds an mp4 file in the notebook.\"\"\"\n",
    "  video = open(filename,'rb').read()\n",
    "  b64 = base64.b64encode(video)\n",
    "  tag = '''\n",
    "  <video width=\"640\" height=\"480\" controls>\n",
    "    <source src=\"data:video/mp4;base64,{0}\" type=\"video/mp4\">\n",
    "  Your browser does not support the video tag.\n",
    "  </video>'''.format(b64.decode())\n",
    "\n",
    "  return IPython.display.HTML(tag)"
   ]
  },
  {
   "cell_type": "markdown",
   "metadata": {
    "id": "9c_PH-pX4Pr5"
   },
   "source": [
    "Now iterate through a few episodes of the Cartpole game with the agent. The underlying Python environment (the one \"inside\" the TensorFlow environment wrapper) provides a `render()` method, which outputs an image of the environment state. These can be collected into a video."
   ]
  },
  {
   "cell_type": "code",
   "execution_count": null,
   "metadata": {
    "execution": {
     "iopub.execute_input": "2023-12-22T14:02:44.592390Z",
     "iopub.status.busy": "2023-12-22T14:02:44.591933Z",
     "iopub.status.idle": "2023-12-22T14:02:55.961972Z",
     "shell.execute_reply": "2023-12-22T14:02:55.961152Z"
    },
    "id": "owOVWB158NlF"
   },
   "outputs": [
    {
     "name": "stderr",
     "output_type": "stream",
     "text": [
      "WARNING:root:IMAGEIO FFMPEG_WRITER WARNING: input image is not divisible by macro_block_size=16, resizing from (400, 600) to (400, 608) to ensure video compatibility with most codecs and players. To prevent resizing, make your input image divisible by the macro_block_size or set the macro_block_size to None (risking incompatibility). You may also see a FFMPEG warning concerning speedloss due to data not being aligned.\n"
     ]
    },
    {
     "name": "stderr",
     "output_type": "stream",
     "text": [
      "[swscaler @ 0x555a5d3cf880] Warning: data is not aligned! This can lead to a speed loss\n"
     ]
    },
    {
     "data": {
      "text/html": [
       "\n",
       "  <video width=\"640\" height=\"480\" controls>\n",
       "    <source src=\"data:video/mp4;base64,AAAAIGZ0eXBpc29tAAACAGlzb21pc28yYXZjMW1wNDEAAAAIZnJlZQAA4N1tZGF0AAACrwYF//+r3EXpvebZSLeWLNgg2SPu73gyNjQgLSBjb3JlIDE1NSByMjkxNyAwYTg0ZDk4IC0gSC4yNjQvTVBFRy00IEFWQyBjb2RlYyAtIENvcHlsZWZ0IDIwMDMtMjAxOCAtIGh0dHA6Ly93d3cudmlkZW9sYW4ub3JnL3gyNjQuaHRtbCAtIG9wdGlvbnM6IGNhYmFjPTEgcmVmPTMgZGVibG9jaz0xOjA6MCBhbmFseXNlPTB4MzoweDExMyBtZT1oZXggc3VibWU9NyBwc3k9MSBwc3lfcmQ9MS4wMDowLjAwIG1peGVkX3JlZj0xIG1lX3JhbmdlPTE2IGNocm9tYV9tZT0xIHRyZWxsaXM9MSA4eDhkY3Q9MSBjcW09MCBkZWFkem9uZT0yMSwxMSBmYXN0X3Bza2lwPTEgY2hyb21hX3FwX29mZnNldD0tMiB0aHJlYWRzPTEyIGxvb2thaGVhZF90aHJlYWRzPTIgc2xpY2VkX3RocmVhZHM9MCBucj0wIGRlY2ltYXRlPTEgaW50ZXJsYWNlZD0wIGJsdXJheV9jb21wYXQ9MCBjb25zdHJhaW5lZF9pbnRyYT0wIGJmcmFtZXM9MyBiX3B5cmFtaWQ9MiBiX2FkYXB0PTEgYl9iaWFzPTAgZGlyZWN0PTEgd2VpZ2h0Yj0xIG9wZW5fZ29wPTAgd2VpZ2h0cD0yIGtleWludD0yNTAga2V5aW50X21pbj0yNSBzY2VuZWN1dD00MCBpbnRyYV9yZWZyZXNoPTAgcmNfbG9va2FoZWFkPTQwIHJjPWNyZiBtYnRyZWU9MSBjcmY9MjUuMCBxY29tcD0wLjYwIHFwbWluPTAgcXBtYXg9NjkgcXBzdGVwPTQgaXBfcmF0aW89MS40MCBhcT0xOjEuMDAAgAAAAeFliIQAL//+9bF8CmrJ84oM6DIu4Zckya62IuJtAMABjzYAAAMAAERqWJ7MgJRqXwAAAwBCQA1AfQZQeYiYqxUCVEg4trEeAGrIqFzrF7xIr1Gt/WPdRvCFEdQoLjE4DnxKovS+gifEWuFHOX82qZceAi7OlDPFUkD5qdmiocebwFjYLzHlzRyt/S58hXmFBlAhvc3JTOVGK1cFJBbl8pwoDaLa2xx1ABCKCx16k4AdDLpwsIBVtba0ASda9vsLQDDrcwCCXaVpU0Y0+tlSC1Ctd6HJk1vA3eKOOKgZLyXwDrhyxZPwIRLAmDtLYzUteFxlMDt/DhHk1s1ovnHcUHbPmybPGrl4uc8H4X0hGxjLyFpAqWIJmjLTOw7pPwUhmP1Upw1aRLG579I1Ggw7zGJz/waPE/8WdLkz/JArxHY3wloCfW2F5RNQC/T6Z7i/E7vQZ46WLK6ygDPPW/F++z53zN5VDz0m/qlXhWh5tQx/PyQIqVEz0R8Zo3hRPTPosPj76Psx78gcg8IX+EdTUl0ujzjyGSMaadJiArzg4AGN/t1gFYkzd42IKVtelPnmsJRrNHbvmlTOeWMpUGDQWlQIPLbK8qLgQj2APT7pn+bC5McCnxaoTl6UAAADAAADAAatAAAAlkGaJGxDP/44QAAAZ33G+NpAI6ha07jKBriIDy1G4TsNCSQz5JbXQJqar6xXK0wwk/iJtJf3DbxklR1nPalGpwkcMr/S5RvybGRgRtYX5jFODkwzDcmntK+A+zvllaLN+eL3xK5w4q7cjFeiVFZfOu1px1aBfRpIPC7wZ9EElI3WQvOuvHZIaBP9RRlSAOX21SiDvMvjgAAAADlBnkJ4hX8AAAMDN2ojuPV1PIAA6R2MivIjhyaf0LdTgwO0mT8vD+CxHYsCUkIodvLumFiY0JWzuVEAAAAjAZ5hdEJ/AAANheuMfTrhKbqTtCEPyAqzvAnMOi4DneYr4WUAAAAtAZ5jakJ/AAANf9Ywjj0+u+uOhqwzSj/cGjWgph3ELA0etZRCSaYDaAjxbBghAAAAf0GaaEmoQWiZTAhX//3hAAADAYgdtigJdCGDSztD3mrW3Cj+XO1DgtNfxAAd0uS/OgxBDTMaFl+uNs8iPtkK4S1cumYNmKDM71fsVyidh4sLfNREy05nDalfVh3YNHSwhEC+fTNNrv/986jTt5Z88z84E/IW3Cmvh8EMtN31X/sAAAAnQZ6GRREsK/8AAAMDG+47UOyV4lrfa4sIiEsvB/fH5zjWgmQIJS5RAAAAFAGepXRCfwAABNWHzr+cLIpy0O7hAAAAHgGep2pCfwAABPswlnuJE+R+zVF7mlr0eAEeU2RiwAAAAHxBmqxJqEFsmUwIV//94QAAAwCSmKfCgBbEsUn8l4+8QlZrkZFDeb6xJJDJBkgZi/kHf8jhBlJBV70Df94WOFwvoJK1peVZ422WO1KefGNykHD6OyUPi8Q5KPeRN/6iwKhLCCGsFXwuv1YmqDtApjx8zVJElOBDBwpVRRQsAAAAM0GeykUVLCv/AAADAyTXJgI6ltPBt7D8zDkR8AQp7UoKJ154gA25hXdwsCQOXtLzyuRggQAAABkBnul0Qn8AAAT7xw/f12b/qrB1tPWZY6TgAAAAGgGe62pCfwAABNfjgQoYABm2zLGV2ihq5cWAAAAApUGa8EmoQWyZTAhv//6MsAAAGek47dSRfuqxwKEbTEvAzdQSi/16Q+a6K9mQQBCMOhfdR2deTwMDDSfnMkLGgF3fmjXJtGXklVZGcF4/wcVbUKc5K1+1R6TAZjwZkOL87ExRSMOSl3fFjM7EHff24FQEvt5SrWVUqvheovLfqFqMd2FkTI2FbExHOdryQLYbCJ5fcHc3pQd8iJHSegt+ry68uc0OYQAAADFBnw5FFSwr/wAACC/iMmUBkf5v5RSyFoe9+92I6Wv0PgRG2X+sibENQ3MAZzviX/KBAAAAHgGfLXRCfwAADTXryhqEcU/srf7nM1bIakNSu6ub0QAAABcBny9qQn8AAA00natjWWBRBII18IkmNAAAAGNBmzRJqEFsmUwIZ//+OEAAAAMATbrgBW0KOrTmNmgwnhgX5uECQaOZ080VCH4HMgzEKppjXSXJoGVsZYU7ljME9Q0Fhj6WWELH/IEPP59jg+Uib2SYhdXPEsrxpt2o0Hqp6YAAAAAZQZ9SRRUsK/8AAAMABnCa6dy/ehiTw2RqfQAAABcBn3F0Qn8AAAMACjik+CGfVjbi2WlzegAAAA4Bn3NqQn8AAAMAAAMBqQAAABdBm3dJqEFsmUwIX//98QAAAwAAAwAekQAAABBBn5VFFSwr/wAAAwAAAwEHAAAAJgGftmpCfwAAAwAKOUcw+d3kEMrH6mTG8AIJt7MeIGpzvLAmtvFhAAAAakGbu0moQWyZTAhX//3hAAAEG/xAAELPDdwex852k1C24HHElDYjO54Peg+5DGufRkGoEskGB+p1gCx4EpZYfzxRxTZ9zFxHNscysv7rrkLpKomwylH9YstzYZoBSf4tF7NCo4zi63meYBEAAAAdQZ/ZRRUsK/8AAAgsC4oYg29KjADKxGezDFz0GCAAAAAcAZ/4dEJ/AAANLhLzJY+P6q2powJ5eKoCgT3RPwAAAA4Bn/pqQn8AAAMAAAMBqQAAAFlBm/9JqEFsmUwIV//94QAABBS/T/u969RZHhWv9RySOL+qOhEL6bIbw6EYcPmWF21CSajLGWJeGz/fAAlxC6SYxd7MwfuAWNbT8Ap26M6hX8tJBxjKfjw2UQAAACJBnh1FFSwr/wAAFrUrN2taYHcEaPMW2oDw27X9rjhZqNobAAAAFwGePHRCfwAAI8MXaKmlaOjPy87qRxGzAAAAFgGePmpCfwAAAwAKOplJkdOGEWMK84QAAAA3QZojSahBbJlMCFf//eEAAAQVFVcPuUty0NzBUBOr3Sg5OqPN45U8arJV3Q+PGl4YMUoXjnqAOQAAABpBnkFFFSwr/wAAFrUrN2taXrjQw3CV8So+mAAAACMBnmB0Qn8AACPDF2nwUhQAGHDRoyZT4GC2IXYlAogqEv8MaQAAAA4BnmJqQn8AAAMAAAMBqQAAAIpBmmdJqEFsmUwIV//94QAABBNzfZjpNZzEBjgV1WAJ9URVWr7oS/xqLqVPJrdMSHy6WUL5CzDGAEfJbVjPGsO1RJ47K2KMN/3K2aJ2sJi999AWtXdclWlqm+Pf825Qqv0UFx25enESG199btuNoxRw+WCO/QjKesoohfFMCRDbApYbPcUknt+1MzEAAAAsQZ6FRRUsK/8AABa1KzjfQQppR7cwuEZltSHI+4yVNyoTB4r+k3m4Es5w+9EAAAAqAZ6kdEJ/AAAjq/hcI9bJvWRFjBWsKLgoPtgDQL1Dg2JIn8GBThk+A7HxAAAAJwGepmpCfwAADYWAIRsCc6jso7b2UDhwIhvMUraV/eTrXAP/38NDYQAAAJdBmqtJqEFsmUwIV//94QAABBUVVw+7HioCSgBwJK/2mm14FCph3fxUmaEkIWyyklC9PrIKopjQVkbrDtVWP/WFdA+iF2qgqz6XPZSblymemKIbIzAc95qMXtn2Va9yWMHb0zGyUi/mgNQ6Jbb5/9aDq6KWbN9ffjwEKGsfzM/EUFIShMDDzRzcGbdtP8nfn0HeLHlpKkGAAAAANkGeyUUVLCv/AAAWtSs3crWu6wD94bzYh+tcHYL4Obeqp53KtCNRRhL5E9y5gYMjy3ZoCLzFgAAAACgBnuh0Qn8AACOr+FwpmYllybBAm0JxQh+FVzug5m5cICDkUHhWtp0xAAAAHAGe6mpCfwAADTSfl8cDV7rB34Cs5GoNibHOrbcAAABGQZrvSahBbJlMCFf//eEAAAQTW8i64glMUMqZMvZIyem/qGvJ+VBlN8GAjEgRXbcAsCEWYIAKUetfq0szk2XnZpG0CgKGbgAAACRBnw1FFSwr/wAAFrNHtw25HC/l0NexqOPsFtPwfgsjMMyrfvUAAAAtAZ8sdEJ/AAAjq/hbeqzQmJ9eGEnuAiv5p8Anvdk+eQ3S0U63ECtGGz9LK8O5AAAANQGfLmpCfwAAI7HMCYn5OgH2FrVGMSghFLvdhNADqz4LzkDNskyddFAAfOfVnJ6Ft0tNN8GBAAAAgEGbM0moQWyZTAhX//3hAAAEEgFmSCT1wYq3j7XVzqyKZA9xWABYvycz7tu7NKtQOepLoBvj0Dy1172ZB9LsZL4zBj3MEAE31AgopVGy1N5p6o/vX+KDO6qnKnQFvvaUJyygeOUPqq2jgjpu1N34oqyFvMGewmraAZL6SywTatKQAAAAK0GfUUUVLCv/AAAWs0e3DbkcJ3DLXoFB9ySgIROYVZm2TJc2iwOoaCDfW0AAAAAhAZ9wdEJ/AAAjq/hbiSV0bNus9LfZRCJa9sJndPHo1O3BAAAAHwGfcmpCfwAAI78EJxLJaZq4a+3Ad6gtyJ+eBD2LwIAAAAA+QZt3SahBbJlMCF///fEAAAMCnvbeTaEJsGnurVQ/i99BXTSHvSSAbrOhr3+36pGeRttq9Ef6jjfuN+lJ8L4AAAAnQZ+VRRUsK/8AABazR7cNuRwncMto4uo0uUfF8l354Zdg5c9W3uzBAAAAIAGftHRCfwAAI8MXaKmlU9T7wgokG6DmDTa/1gX/iOVAAAAAHgGftmpCfwAAI78EJxLJaZq4VlMfKjt+L64ZFHLwIQAAAJZBm7tJqEFsmUwIV//94QAABBZTkJz8IG2qCSmwyDhm9ogvMZdoieE3FyZeIIeQH4Pu2p4Iw4VTFKGGydYK+BoeRpqiri9MGKWOOceXklJa1ctIVb8n5iecne1BmZ9W7DJj6Y7HKsSZq1BLHLPpAF+zhiWyr2xn+KNdpTR29XE5LH5cxUB6IDtVTyJgNjI5n9OrqIKMRuEAAAAvQZ/ZRRUsK/8AABa8PS5jUjJjFJfsUugj06/F03k4FK2YcDimF7p/Nnr2ZUGCR2wAAAAbAZ/4dEJ/AAAE+Ft56+jYWi8lcE5v1bcl2meBAAAAKQGf+mpCfwAAI7HMAzoDJ8NljEBmlRE1/t1n6a7JWKsv7wXMOf2r1DAgAAAAZ0Gb/0moQWyZTAhX//3hAAAEE1vPwwMxQcRsQTtszzqocXh5W2I2giYh4DbDP1mqAkEzxMr/8fFtYmX87AEpEtJ7NplFi4u9xG4VNblTIBb0bbwzATL9jsQoHfF+Y2j50tOwPK3QTkEAAAAmQZ4dRRUsK/8AABazSIvfKvCM0BxZorZwhY5vy0kydVujfcqmbZkAAAAoAZ48dEJ/AAAjrDKRT7bTnymqBOgBK/M1sh3m+PKWWU8BJcC4IMCuBAAAACQBnj5qQn8AACOyKwcUf/OiN6AEkfRspZJrNjTQGND6R42+sWAAAAC8QZojSahBbJlMCFf//eEAAAQz+uQCaBcraxxfkfMbBqYmkn7/y6DC5VdKTwAIpUQc2Cjwv6+X5bWDesBsF+EH8SqU+SNnN2ab5pOphN4CyTtMfJ/gEtMgY16Tgq5diSTqLBbHLdCQqGdIXt6ckC2048h3rrqx1froRatvficIEmP29KbitsAYmaTGrhXaqkgSHo9qBmT4fbZs3/BPI/+vXnT0IG97QsAXp6iess+wdhmK5tRRcAHWoBmmNJEAAAAyQZ5BRRUsK/8AABazSIvfgFvnSoRmIWaoYOLFCRbegBYuLr34fNpyqBRdVglSX69eU2YAAAAnAZ5gdEJ/AAAkwvCF7PSKko62zwQ6yk7MyAwG2dbYRXKHwnPHC7ITAAAALQGeYmpCfwAAI7IrAgOl+i6dxEkALMm8sXcqU7kCSrlS2eCKL+kDa14pfZ2AwAAAAF9BmmdJqEFsmUwIV//94QAABDNbtGNtIPouTtFjFAC220CK1EKLzgk/E676H9lMrWrKmzoA32zvHgOXtdyj+Z9uqS4TFb6ekNH9D9XXxcb6XFFF5LGeTGBXPMOg/72FyQAAACxBnoVFFSwr/wAAF0uexLtdkoYAAutXFlMdc5mOcQ4PshwNtlqvtetb1wm4DQAAAB8BnqR0Qn8AACSr+Ft4ESzOLel4IRpxp/lAzhJnY7bNAAAAJgGepmpCfwAAJLHMCW8/tzf4yDIkQOFBY7ZnDNyQ6FFHKRvU84RhAAAAV0Gaq0moQWyZTAhX//3hAAAEM1uueizWXoIyKt0dsIpmwLloJz23q+4WBmWZgbNAl0AOf5rQjq1Y7MAK/OVNw66U7Nr5oCcxuQS8WtaIHtP/lOBE0xaUwAAAACdBnslFFSwr/wAAF0NHtw25G5MNG3l3NoFI126uOAhcn1weZtRSE34AAAAhAZ7odEJ/AAAkq/hbeBdP3/RWdLZghij/wwKuqI1XdC2BAAAAIwGe6mpCfwAAJLHMCW/BwjzX1eF+YXQ1cS+QEPTu2fSv6K5UAAAAY0Ga70moQWyZTAhX//3hAAAEM1u0Y20g6HbGtXHhGk+0sUbAfgit3FnQE+cXnn0IGdafb4r1hT/csaSCRFv32B5kqRlCPAd92u4oIbHypjkoinXgi7Dc027kRtBaL1j6NJ0UQAAAACNBnw1FFSwr/wAAF0NHSC15p4MXzYVPXdN6iwsv2BCCY57UwQAAACUBnyx0Qn8AACSr+Ft4GZs7CVVdta+t+yiES+K2+gfBU+DoS1KhAAAAJgGfLmpCfwAAJLHMCW8/tzf4yDIkQOFBY7ZnDNyUT9eVQTJTPw9xAAAAVEGbM0moQWyZTAhX//3hAAAEM1vAm/OdDYmyu+T2/lX8uVt941h3pVbym1kgFBlGXPRwNzje3XdZzK3tuVKRqrOp3CmtbZ4BJWgWrROZTVgEAT3FQAAAACFBn1FFFSwr/wAAF0NHtw25HC/l0Nh+rtmPuhoINL8IDugAAAAWAZ9wdEJ/AAAkwxdoqaVT1PvGikAx4QAAACEBn3JqQn8AACSxzAlvqr3qYzkB79+yWh59lv2epzo5U2AAAAAzQZt3SahBbJlMCFf//eEAAAQzW75FrqJLmrsliAN4WTqnxB1hrmJp31jKa9N7I482oZ7NAAAAREGflUUVLCv/AAAXQ0e3DcOKAFtKZmU9s7w+YhFztb4U2ttMmV45d/rQ4WjOIKwUyhmVYuCl/wZn07KMLdGLzSZNaKspAAAAIgGftHRCfwAAJMMXaJ0F22xIlA3cXEzc3HrJDQNdWIatUPcAAAAfAZ+2akJ/AAAkvwQnEslpmrkOm41QWRDRJAEhJk4GpQAAAIJBm7tJqEFsmUwIV//94QAABDlcKSY/A0spOpfql9OuvTuqQXAAG6ysObKR5tOU3OwFqxHAt7Ne+eY2lD9sgdpLXIzWS1kkFL9YasBO1VpIFh6vkBPGHdoBDCunja0CXwKtXB8ffoqysX+7BEMxBv0q860U5RjbDZY44ECF/T8kCimJAAAAMUGf2UUVLCv/AAAXRSs18eQAs47LT0+SSWSC5xEyAayutldoxk6lRJJiIn4dTXkCo2gAAAAmAZ/4dEJ/AAAkwxdonQXrcuKnEx7Ie/27tU56d2gJKoaF6zoxhYEAAAAhAZ/6akJ/AAANhJ2rY2rRuxwQFO35zNJdQZc1rclSbivAAAAAb0Gb/kmoQWyZTAhX//3hAAAEM1vQ8D6BNE6wEdvxdMCtwx5WSOp119Q6BdiaEyfVNu/rS1SqsCiZUy+YL2PDc1IJmIghoiK4g4Jv/g4bp7kJoN+ahfJOKjdF4mgADOsyT3n5BmVFSJxHHuyh3xSkxQAAADJBnhxFFSwr/wAAF0NHjwyTRWFyX7vCVAAE019Zwbv6GWnstXagB9MfRn/VmcsCeSEIOQAAAC8Bnj1qQn8AACSxzAlvl3XoI82JZPCAC6SMpaJqlJNVKKLigx/5f6VpNlZULMu5qQAAAFxBmiJJqEFsmUwIV//94QAABDNb0dOrVS3SbgBP8YoZ0T5cviNEAIg9K6A9bznOgArF7W9Yrc0iB+sL5GUal3Jy7SupImU8CtTECmrFXwx4ZhzmW62BW2tq7vRdkAAAACZBnkBFFSwr/wAAF0NIi98q8IywDHwSG9VjkbKL40/9z4FjpZZbCwAAACMBnn90Qn8AACTDPgvoWN1CINwi6lX8KJylBTDQ62V15zVakAAAACIBnmFqQn8AACS/Gs46EzJDpAluGm2pRCOyCCXo+CtcE4ixAAAAkkGaZkmoQWyZTAhX//3hAAAEU/a8N6sazsUAXeuSkrGxi8VCy2rHUWw0GeIRDpdlFaudAWCVG+FmzPfE8rBcNnP5oIBW28c+GqrTzGD2iIzO7anGMolV5nK2PNrFu4WZTOnL2JoYpEMXAVUWwxNgbn7D1Zb5SHIXoZynlB6bvl5O0OFDB7qVlU1O3Vc2WZxclbvYAAAAMUGehEUVLCv/AAAX4msp702aqzcnABfiRcjBhjfQ/nbTlL6Yjjzgpzj2AjrLWOvm2QMAAAAfAZ6jdEJ/AAAlwxdoqaUovYrecLGzNZxpBQj+6XYWUQAAACUBnqVqQn8AAA4r/qtjWU1xaBga+GmCnagE974c6Fb0zR1M4lDZAAAAR0GaqkmoQWyZTAhX//3hAAAEU1u0Y3DqhHSvUwhLP5ti1aFc1r3l3uD0AuBjGZujAR2E53La8au2I3wVbfm3vqXkZ3wqmSXRAAAALUGeyEUVLCv/AAAX4Ie3DbckUPCAFnBcsA5R+LZ/clTjMuXtAJWnVJsXObPPgAAAACsBnud0Qn8AACWr+Ft4Ep1oI4gabFPIVNCHiKtyHFgA+Y55ie8FnHS5Kb7gAAAAFwGe6WpCfwAAJbHMCW+pb7IVlttSkksFAAAAWkGa7kmoQWyZTAhX//3hAAAEU1u0Y20g6HbGtXHgCn2kKCKx6ez+MdRA9sl5rAKSd2NDrelSTndGmIWB25sjcy/FxRTlqqFHtBO+tg3+wydcfx/uJzUgyweTOAAAAClBnwxFFSwr/wAAF+CHtw27Eb64cgqdjUoA36QJo6pSDwynqyHzuJSz4AAAAB8Bnyt0Qn8AACWr+Ft4Ep1oI4gRnrkaAUXKbcvFAAQtAAAAJgGfLWpCfwAAJb8EJxLJaZymcbLv76ZW/klwXdSGAn0tw7rDRE25AAAAREGbMkmoQWyZTAhX//3hAAAEU1u0Y20hKEUF0voawYTC8BuRwDinwzcrJ19hM4gHPabKT3t5wGeSeplqcfCW757HHUJdAAAAIUGfUEUVLCv/AAAX4Ie3DbkcL+XQ2H6u4y/mvbtdu/lYMAAAAC0Bn290Qn8AACXDF2hVEPtAJD66nUQf6e4S54OwrnzSSoC4avdTKWgur3kSjbgAAAAfAZ9xakJ/AAAlvwQnEsnU+hWCjCM48x+yaCjzgy+kGQAAAEVBm3ZJqEFsmUwIV//94QAABFNzY++6IeeC7xIZusVGxZJzr3XoBy/jaWqGf5pA+WSWLZ03TXm3F6T/kUuCf//G2uKw9IAAAAAuQZ+URRUsK/8AABfiazdn+AYGB41Lu0AHgaQ97DebElu2O3kPjUUCF4IRNpkN9wAAABgBn7N0Qn8AACXDF2ippVPU+8J2yO+kbUkAAAAbAZ+1akJ/AAADAfDN8OvUTwIMx7AEDVPVddRYAAAASEGbukmoQWyZTAhX//3hAAAEU1vAm/OcWL119AyYDdUMAAOfcT+DGb7svriSNlxyt3MNnxO++4kOGqWmnS4uynV+m76pXRVhewAAACtBn9hFFSwr/wAAF+CHtw3DigA/pnaE2FCkysw2OhXgtTSAM4drHX/034NhAAAALgGf93RCfwAAJav4W3gKjJItvHinL/ltH5phZ+f9f0RL3EtJqznqRB1IlacVqUwAAAAXAZ/5akJ/AAAlscwJb6lvshWW21gTnyUAAABSQZv+SahBbJlMCF///fEAAAMCwvb+wATiqrfldx+aApvyfZannVyDUnKUom7ce+tHd9NuRdOJnd8RVI5iS6/WF2IFKxVTszsTdbmgeAeurdMFcAAAACdBnhxFFSwr/wAAF+CHtw25HC/mHchKTgAIiImQfu/usaTQhbJmqTkAAAAgAZ47dEJ/AAAlwxdoqajo55d8xtcVi2OiTEKKeySnuwcAAAAZAZ49akJ/AAAlvwQnEslpmrhWVRbolmHb8AAAAJJBmiJJqEFsmUwIV//94QAABFNzjjELI+bXkaWa//ETJm4zWF2CKsyjKA2bfyiy+9XtHkRVLUm1UBIw8z6xW49kj3oA5pC83fV0qXqJrTsfmFYKFg1EfiRdlPKCuTG755WlovFeYmoUS2E82w7zxJcdAPDZ+3jp7T+9VstGrzZGiJXQol8UY5MICKxjUvASvsbeoAAAADBBnkBFFSwr/wAAF+mDzbcmgAGeEG3zprmPgJOdBBebmsWuK+XwAOb0BgQpD0CEuSEAAAAlAZ5/dEJ/AAADAfCKeOwhACzNopKQpLSkCuhXJQbbHL2Nnr3dwAAAADEBnmFqQn8AACWxzAlXUR7aHxMBK568W2dHW7QMIUAJL1aToJmM41/5vuiAqeO4PWfBAAAAXkGaZkmoQWyZTAhX//3hAAAEU1vPw7v/q/XPgxb32n6lLuMvbRIchwNlFJnG8JykHtsRjsXE9tBRu///b/LdFi6do8vKhXcczamtDndQvOLLomcxFA0s0MGUCroqY/IAAAAlQZ6ERRUsK/8AABfgh86oN9vMC6uwBDRMR6L5MhccLGA/fN3PgQAAAB4BnqN0Qn8AACWr+Ft4Ep1oI4gRnroHaswpRkwnfPkAAAAjAZ6lakJ/AAAlvxrOOhMyQ6QJbhptqX+iBFGP3iLmaPZsWfEAAACUQZqqSahBbJlMCF///fEAAAMC2bq4Eb3vbN7OxPh02Ssff3b+jhSnXvPqM5O7hRrzdHUdAUjulzdK/f/i9PEdq2w256y89dXrYlHhAIWTF33HlHTeqZ1ltjscIak+EAShych0wPsnSLCPGlt0loI4Q/HBdfWlt6097nt/rJCWMG1inR4i668FIaFQYgk3xa3Vu8ObuwAAADNBnshFFSwr/wAAGIl9LmNKfSG+O8WRa5s+F/MfEALN414Tu3dnIe3BQGhS6pgESPnhM+AAAAAiAZ7ndEJ/AAAlwz4N2zsqHbAaC0GLRywzCPivEISBzundwAAAACEBnulqQn8AACa/BCcSyWmauFZTH3zSg6XBeASHsMEpinEAAAA8QZruSahBbJlMCFf//eEAAARzczcBBK1J55vgD6TpihUUEC4pttaLDuL2hQfgcfpmOp2VABdPt6SyfkKcAAAAOUGfDEUVLCv/AAAYiYPM0PXfwdauScAABrVtjrwLJn8c30HC1mJgMiCmZgiAtEoAIcjIPA8Vq60opwAAAB4Bnyt0Qn8AAAWIW3hmoeMoZABgUlWD+LjYglafxbUAAAAWAZ8takJ/AAAmscwJmOqCamSPg/6BxwAAAEhBmzJJqEFsmUwIV//94QAABHNbwGeSdDsZzcIGRJ8V+tPuVvsMAzD+uyZ20OSIPKH14dezngs4minWGK4zNt5bPynclcS9atsAAAAiQZ9QRRUsK/8AABiAh/txYK63fW87HCBG80z6YZabPFnhrwAAACABn290Qn8AACbDF2iyOSzAMkrOOgl0o6oE9HuaDpr2VAAAAB0Bn3FqQn8AACa/BCcSyWmauFZTHyo7fi+tjQSPcQAAAExBm3ZJqEFsmUwIX//98QAAAwLU9uJc+XbG7AXDzqZoOQAajLIrSSeolOtzlTHKs5VEX/cl8oFChPCJjl+vAq2BSWxXMfNXNf5KpEpkAAAAIkGflEUVLCv/AAAYgIe3DbkcL+YdyEkmMvP73G4yodNV2wIAAAAgAZ+zdEJ/AAAmwxdoqajo55d8xtYRb6xxAHTQfxYUc+EAAAAXAZ+1akJ/AAAmvwQnEslpmrhWVSAgUkAAAABbQZu6SahBbJlMCFf//eEAAARzc0Tnhqpp91FCJrpyO5ADUuMDunwgiEhVaWN2fEYii+4GK9J66Hv5Ps0eURwbg/IFUIDuoVbdQhQUEGBAfGrKpzkpm//H6+tY8wAAAC1Bn9hFFSwr/wAAGImDzbcVzEkgcJQWgDlejwEx3wWCfPnhF6ofdPlLLm0gWVEAAAAbAZ/3dEJ/AAADAfuKHnr6NhaSj27Y39DwsHKAAAAAJAGf+WpCfwAAJr8EJxLJ1Pd/Ta/9/j5nWTZPo/ws+eTDa4OyoQAAAERBm/5JqEFsmUwIV//94QAABHS5bKm93momVzHw9c/1e9dBtUU9Raqeks6Cv/EB8rIW2LxhRAMMGCO3tGY6wdHb+mYRoAAAACdBnhxFFSwr/wAAGIJrN2s+Oc0r2hcc4eqKeOPt7IKLGaIPQ9v+PcEAAAAjAZ47dEJ/AAAmwxdonQXBqwjsHHRtNIQCBaGAlXi3yASDY18AAAAaAZ49akJ/AAAFiT4XHOACfarHCXcyjEajuEAAAAA8QZohSahBbJlMCFf//eEAAARzW8Cb85xyBicT7B2nrs83zhySXS//GeaJAB8bwRI/KY6YijEoPX9XBNGSAAAAIUGeX0UVLCv/AAAYgIe3DbkcL+XQ2H3/f4Fb4Ud3gWUHpQAAAB0BnmBqQn8AACa/BCcSyWmauFZTHyo7g9CidfpI9wAAAF9BmmVJqEFsmUwIV//94QAABHNzY+/KqwmPoAAmrIWp9HCkEcQHsyie8c5ULvoQv6M8hQMnA0OcwKH0XjOiXCeJChHSIpQHtChTXIGrjBfPvG1JK90xYOYEkhoMnqwqgQAAAC1BnoNFFSwr/wAAGIJrOXPeAALZ7yboZrKX+fCg+DqPZYmFF60o2runUp+iFlQAAAAhAZ6idEJ/AAAmwxdoqaB1SO41MqaM6n1TVCBAQaASBIDvAAAAIQGepGpCfwAABWU+YbhYUOI6ZKzyTBAc+1Q0Fpbb8tVbaQAAAHdBmqlJqEFsmUwIV//94QAABHNcBgAPNTtuSqYvcePcesBT2jrBCaeHreh/QBiTNhw+t5SFTeKWpc+sc6wz3zMnFhYmWuJE6xd9BHDkPeWL0eCQN+v1+/jKEzzPwZTlArmhd4hzeWE3tmebBEOuaiZW0Sd1lS4TWQAAACJBnsdFFSwr/wAAGICHtw25HC/l0Nh9/5U4f7DROvlKS5lRAAAAGQGe5nRCfwAAJqv4W3gSnWgjiQnG7n4HbOAAAAAnAZ7oakJ/AAAmscwJn9xowSgIRSmpgY0Ve9Souqo0JEXEmN1XBAJ8AAAAP0Ga7EmoQWyZTAhX//3hAAAEc3NCsF7Ohfs11s1SmUOk3G2iZ4DoS92cEv7J0PoJAHe6Ff8MCzSlAeMeC/09vwAAACtBnwpFFSwr/wAAGImOiOnkAAmqMnoFZ4Ntyp52lZhnr5SGQMtIbaM4sJlQAAAAKgGfK2pCfwAAJrHMCW+r1r33OJgF0VKkDKbuATGTyaYNV2xQfGCPmjUMqAAAAF1BmzBJqEFsmUwIX//98QAAAwLnPqAV8U66+avmES6WRLMixwPrG6XcIO8JaUWjCfV6SCTxGKOVsKXSYk8MPOpLA0T9rmIHHvz7oBDHsdeYPrl8P1gy2YR8+hmnbIUAAAAlQZ9ORRUsK/8AABiAiIvfKvBIQWbSI4xsA84cQkQ8tECZ1HOGywAAACMBn210Qn8AACbDOkq72buuFO1XkOn3G/nBzeINySetXHssoQAAABUBn29qQn8AACa/Gs573gm2ZaDdW+kAAACDQZt0SahBbJlMCFf//eEAAASSuByaLNq4EBvHT0iBLq8SJeWwgFJmhSY40CS+rHW98HDQATkeRvXh331bgNc8Ywb9cbBkoWnyzemDdRjNZ55fmD0htDfcn6+XR4DBIeQuey3Ti6lR7qDLm6INbRSc7Xpvhx6nf2FLRFa63CX+KMSlJ6EAAAAqQZ+SRRUsK/8AABkt3B26Et2vHXn4qHlM16s7rVePl9HDPq9MFm0G/h7hAAAAGwGfsXRCfwAAAwIKw5Ba5PfEWUUd+B0vqXcIIAAAACoBn7NqQn8AACayPKMD8w9uoIXD+PxElLfHdO9CpTS0jl7D5lDex1voNeAAAAA8QZu4SahBbJlMCFf//eEAAASTc08haBZWuLuJiBDVoWVE+E7OUmaZOdeaw2gBoayEqfsotSrjKYXxaUZBAAAAKkGf1kUVLCv/AAAZImsp4kYRl5bLRgDP6KoS7GSvQRAoWmOSNdegWXM+CAAAACoBn/V0Qn8AACfeX2ipoIY5WIdAP82BogCbq/O+LYx/Y806wDBm16ch+4EAAAAbAZ/3akJ/AAADAhsirn4FoT1I+ijcomsNl+xZAAAAT0Gb/EmoQWyZTAhX//3hAAAEk1vAZ5J0OzkHAI/U5spwAzStHOQCD0RrWXc0oPStwR+50XN3sZbIQ147huPcs0/nZEUQT5P5Y5uouPHh/IAAAAArQZ4aRRUsK/8AABkgh7cNuUFoASOuL2hUuamtmlit6ArDlDHFI466c0AUEQAAABkBnjl0Qn8AACfCk02EKcvIpAkJyUTT3/KAAAAAIQGeO2pCfwAAJ8mAcNyg10HUBJD/kKxN/boBdoOLeWEzdwAAADFBmiBJqEFsmUwIV//94QAABJNzY2pNOcL3092vr0oJM7Z2Y36UIBMlwVsIKYZS3OvRAAAAMEGeXkUVLCv/AAAZIms3NXT4AP5eLQUZ0sEGv9IMi+5W6z8hEHP8jtF6DNmsfWRtgAAAACMBnn10Qn8AACfeX2idBdtsSqjWXuvOm3wH6JhldHsMxJBtgAAAAB4Bnn9qQn8AAA6EAJWW9/Bzaxt2nMPA61gfozUBvtUAAAA2QZpkSahBbJlMCF///fEAAAMC5vbYZ4rfi5wkAJbAmnD8SRpd4/VGZ12r+AFIADGZc0n8DKEYAAAAJEGegkUVLCv/AAAZIIdILXpNS0+aCWTlsf8RA0AwxPR5RfUsWQAAABYBnqF0Qn8AACfCk02EKcvIpAkKjghYAAAAIAGeo2pCfwAAJ8mAcU3VpovAAcD/Iekq51XgSL4zvENpAAAANUGaqEmoQWyZTAhf//3xAAADAujV4r2yIzR8/BZAPJUDEbGNg1+gfuujf24FB6zD6q9eLBUDAAAALEGexkUVLCv/AAAZKYPNseEOZmld/MzM/MQt2FQAEy3HU/Tm6Z8mlD+W0KxZAAAAHwGe5XRCfwAADnxQ89jvkrW5xsvmRCEQKfXbQClvWLEAAAAYAZ7nakJ/AAAnyYBxTdWo4IEpXTBW1xqQAAAByGWIggAN//72rvzLK0cLlS4dWXuzUfLoSXL9iDB9aAAGo+wAAAMAA7JYnBkeQENUgAAAAwLGAHIDxDFDAETFWKgSvGXwOdwBCnniziK2mUfm6+EFgJNIZ8qM1ZDi7X/P8hING8nfCIfNQKuKsLlw8J3dhG3v+ariLpQ7aWK2uUkvbvW2mMQ2p+tXq4CcltiNYp9wQSp/qH/UzvywLxuCyk4wo4gNBsFyeR8/awmyyeB5MvRuUFcaMm8KIDD7+QPx2d0+Sy+T+o0+llodRg5wK49qJZgsPurW6Fk4zJxWy4aEiJTbS95NnVT1t+je1tOPf/vwsDKN/OObBNH3K9G3ii5n3zGMFecnusgaPV4CdB97kXy6SMwBb2o5nnKOzCOiXuKFjxL3D6pkyczZFk8ylTvlgjlLpRqwLf5tflaj+TO8u8sPXs+ArZBpDR5Jk54b08Nv8RCKjeotzIa5e5lcv34FiGlPADLwfLf98OvdiAfB8zdf5v08vD/N3dVavaXEqx+8mngK+8R77YD7bJwCDSIIWUDgQrVViDauajY23e3nv9DClcwHjRUFfKWB70e09FysVyD+gnUNtHTMJfwiFieAAAADAAANmAAAAHpBmiRsQv/98QAAAwKfV36vjlb9ABxsADj8t13ZlKRqcGM3n6Tc3mW1gXbfwFrZFkkW2oetNkXAGjtLOZt6ObyLniDlQnP6quOn4jLHWD98haSGV7JhILXd+dh0kZCLDA4udzaNtV9A601z/SSoey7UabZtuhnLy6x9QQAAAClBnkJ4hX8AABa+S7BCc+3+pimQpxjVDO25ytrwzd8QuJVgr/ivm9qN6AAAABwBnmF0Qn8AAAMB2op4b3Rfos+6iG6z6onTXLZgAAAAHgGeY2pCfwAAI78EJxLJaa1cpExGPX9DzAj6EEof5QAAAJpBmmhJqEFomUwIX//98QAAAwD4BipCCgxngw6C0ALDs3uGiIxF+vT8IrnIOX2ET3ThtB0BDR6taq0eVEB9K3Xe6dUGbJZPLZ9bZfvg1OVjAkTQyF4w/DEMiIs4142e8dukfuq9LyTzH8fduumAKcVkYB4O+XV/eh3zl4xSszZzSX2ISQhqU6vttaEYB8eXPqZ7kKr/tJ0DebehAAAAJEGehkURLCv/AAAIbyHm26rvMMmRPl6KjMMXNIAr5S3ZIo/egQAAABEBnqV0Qn8AAAT4375024AekAAAAB0BnqdqQn8AAA2ElSz3QXXoLTIwiOwVwCAVkXdG9AAAAERBmqxJqEFsmUwIV//94QAAAwGRhRD/WSasWMHgOLOEAjEuzd44NzZu+0me0qyVNzP5akRKRmmI3SAq2Xqmwm4U9D3bsQAAAC9BnspFFSwr/wAACG8h5tw9BXxsivS12Mx2BS3F/rD+vIYAHf0mcHskH46TJ4SAmwAAAB0Bnul0Qn8AAAMB5b8ENnSbZfekFWx/il1EsROTjgAAACEBnutqQn8AACKuMwUVJLlvf/6X0lycePxip+NFmURKYMEAAAA9QZrwSahBbJlMCF///fEAAAMCnwMJkFG9DD7JETVYM8+0Hhgu7uOgspmYmE9HbxazVksajU2Qmv2Ie4eQZAAAACZBnw5FFSwr/wAAFrUrOsh5oLWm1oaj4AN4JYKIgLqIsJJjsInm9QAAABgBny10Qn8AACOr+Ft4Ep1oI4gRpAxMEQMAAAAdAZ8vakJ/AAANhJUugAzxM19kF38klVAhbA6YTHwAAAA/QZs0SahBbJlMCFf//eEAAAQVFVcPuAVbcfVnZm9SO0g/bZ1pKCn98+AAKFh62Cpy9C2uWAD5j2QdsY74akwpAAAAHEGfUkUVLCv/AAAWvEPNtN0vXnuP1qMwDHZDUSMAAAAOAZ9xdEJ/AAADAAADAakAAAAXAZ9zakJ/AAAjscwJb6lvshVJAPSAEbMAAAA0QZt4SahBbJlMCFf//eEAAAQTc2PvvLEsHrMT0AVoEg1gN8g0O+IcorJlyVh0X5SzalSCIwAAACRBn5ZFFSwr/wAAFrxDyo6Iq/zgO1UqJwWdGoR6Php2ssB6vBgAAAAbAZ+1dEJ/AAANNe8w/s1NIATTbtydMsa0JOknAAAAGAGft2pCfwAAI7HMCW+pb7IVSSElSrI3oAAAAEFBm7xJqEFsmUwIV//94QAABBepEuE5UcmyomNI4WYQgCBzrYpiGUXbp4Vqs+pUHAEy8eR2WzkjK+Po654Z7brE2QAAAD1Bn9pFFSwr/wAAFrUrJ7SCu+9IbUgHU9N4azB4h+LJwiFUSIS39VQ5PbYF4/BSMAATgSE7iqWnEr6NJNtmAAAAHQGf+XRCfwAAI8MXaKmlU9T7wgm6PQu3kcZJk/qhAAAAIgGf+2pCfwAADYSVLPh0YSKkX9PGz1ZnWXVxgDxy2KasmOEAAABJQZvgSahBbJlMCF///fEAAAMCnvbYZ4rfiMO0HthvCWkrCAttq8gEgJrgCw1cCmj6QJfbkrfP3IbQsmnCK5CR8w1bpBXtZBMBTwAAAC9Bnh5FFSwr/wAAFrNHtw3DigBbTO1jrRSjWwAWCudxwrbhm26uVRYdTRCLKCpBNwAAAB0Bnj10Qn8AACOr+Ft4Ep1oI4gRnrkaA90L4p8KwAAAADQBnj9qQn8AACO/BCQQ+TbzDAQQdBW8WfVIoVtBxuuP0W7ujzlzJmdIc/KKu93TdaqFwuLAAAAAg0GaJEmoQWyZTAhX//3hAAAEFlOJCHh1VOKAoyThrYAIvuNR+fGLRLizW7BYZIsUd7vnnCHKxiZNQLi6ZTyUVzWmfthStwiWVRcfddhy7yq7oCMJQhmVTiqZ/IbHedDIAFxkrOheaBdVCWXFj+lUbZFxBlgP8bCBoUOiOiUJNYbIw3VhAAAAKUGeQkUVLCv/AAAWvEPKjoRej29BwQ3mgB69oWYBsEDsban8zCnDRHkBAAAAKQGeYXRCfwAADX4TpddJ56DIiJhsDbLWdRpiEjzzhYIS8v7PPMnUSduAAAAAKwGeY2pCfwAAI78EJv3EPtBHGUG1EiiooOkilnT3EiK3H9FqDyUVvAMsHkkAAABJQZpmSahBbJlMFEwr//3hAAAEF+onmdrmsxOoQ69oBT+8qiUh89249EryUEwDvGf5c8+7GHallC4i/0hV92XMq+DbEQ5YlZq8iQAAACoBnoVqQn8AACO+9T4apAewTRFd2lxJWvNp6FdOE/p1hjfgV6BXT+FfGQEAAACiQZqKSeEKUmUwIV/94QAABBNzkNu8A+FQS4NVx8aY3WbIfoWmcH3MfARkoptWEE6mGwq4LolMEFhAWm99gV8jQ9VmzXEAVDmOiPjuMxAItwgXBj7MrWkbv8LpntbJYqAkOLWW1GRlt0RfTlZaZeoQPpK+bywzL+VkyfL6fUHjBN+aZDfUoh9gzmbZycG1AzUtEhpuuhdxtMuk25bpR80aKkzoAAAAVUGeqEU0TCv/AAAWtSsssJdtmDyB3mOa2/tysALbHKhY8Ofuxel3qThX+oNRG/H5z9niitVZgX4w3J/Ik4SD+XHUNZDG+X6d6NRmkHVNwPW6MWFyiVAAAAAkAZ7HdEJ/AAAjwz4OeLRYvtlrOF7DJr2WFehwFgfoyddBrVf5AAAAHwGeyWpCfwAADYSemrdW37Kp0xs/L9tcb12RUUaDbZgAAABUQZrOSahBaJlMCFf//eEAAAQTW8/DAz25ALYZAPiZ5kT8sXhMio38yU5hnKWr59vQlv3I7YAhbRpyzH63wEd6NLoB/vwXbwdaS7uGHZSnkiDKYYZAAAAAJEGe7EURLCv/AAAWs0iL3yrwjLpNHgD31IrjDEsgA2Vn+G5ioQAAABwBnwt0Qn8AACOsOQWuTx8/FaaneW/AANwtL/bAAAAAIgGfDWpCfwAAI7IrBcCtxun0c9AzBpnlzc8aaxsJkvVSsWEAAACTQZsSSahBbJlMCFf//eEAAAQzlLSnhdHvfJmYk681d+GzqpMTte90kpsabP0VdsUysYj/ArUlOif/5qAqS1PO6JmCGuTJggXoiDNEZ3iydRt+TiK6UdrPis0L3OC4BaBr7Wty0hlve2ze3gEKfEVo8DjHROmnK54n8Yro44CeN3ZgGrUfG4EG0D5CKpVYtuMeETXfAAAAJEGfMEUVLCv/AAAXQ0e3D8VuT+yPy5z96iYAo9/9ZYtmwr4PgAAAABwBn090Qn8AACOsOQWuTx8/FaaneW/AANwtL/bBAAAAHgGfUWpCfwAAJLHMCW+pb7IVSPv8BiFhOu2ExZ7svAAAAD9Bm1ZJqEFsmUwIV//94QAABDNbtGNtIPV8R9XYskbvHAANm8llPOB2ccmWAThr+oEhDB7kcl+RFR5A+dTEqEEAAAAkQZ90RRUsK/8AABdDR1TvfDXDnbHiFe+mM1YXD75DBcCkyFqZAAAALAGfk3RCfwAAJKv4W3gSnWjy5IseQARbG+Fnp5+IrN9pIBbjxlOczlaR0aVAAAAAMQGflWpCfwAAJLHMCW+pb9HaSZD/kKxN/UeOM/Popb4ALNvoS3JkKSUKFqipSFbpFqQAAABXQZuaSahBbJlMCFf//eEAAAQzW7Rja7FBWb1cVQN8+Sq4poAWzWDgKBWh8uCNeXbJ4fGe8b6C3t7GLXiiOLY2WvOMYxTU7xwA/3THhJ4Z1iv8cYdbWxr3AAAAMkGfuEUVLCv/AAAXQ0dILZNR407UGKhoR8I4cCF8WfHLjHu8APAPsoxUgbw/dmSGJJvQAAAAHQGf13RCfwAAJKv4W3gSnWgjiBGeuRoAj6+id5ZRAAAAJgGf2WpCfwAAJL8EJZI7strH5Uuu/dsegzM5eB02BvYyEGlTt9C2AAAAUUGb3kmoQWyZTAhX//3hAAAEM1u0Y20g/9yBMC24wAE4fUNb0OqxzefOJbfTyRu/w+73W2sDy6lteCgqswrJURvYZY2vXPcU+JlWbSHg0DMtsQAAACdBn/xFFSwr/wAAF0NHtwq2EWhQ4XJ1x9q5zhdmDoC3TjwLZCyk+pUAAAAkAZ4bdEJ/AAAkq/hbeBKsoASCcJTrHm0JfIOCqvRplGx+zHqVAAAAIAGeHWpCfwAAJLHMCcE3YQCBbgmXkWQVrfmG2JKbq6lRAAAAWEGaAkmoQWyZTAhX//3hAAAEMzllkAklZJ+tI6qTE66XpXRtbctLNzGksfMsSpi4OpXeVyXlZOO5J4A04Fa/I+HlwKgir4cuGgTos+O6YP01chdlyfbhqEgAAAApQZ4gRRUsK/8AABdDR7cNuxG+/YYhrNqPEE+GKSlYICyOcOI4riBg34AAAAAnAZ5fdEJ/AAAkwxdonQXbbEqo27wH9ACRqBi2ejnsMVREhCrr4hbBAAAAKgGeQWpCfwAAJL8EJxLJ1PjbgIYvpzHA7mr+8mzOjBM4hChYfnWNRbXUgAAAADpBmkZJqEFsmUwIV//94QAABDNbwJvznQ2Jsrvk9v6IeLXKoMCsZAbppne/Q1/47uAP//OOIOoiSY/wAAAAI0GeZEUVLCv/AAAXQ0e3DbkcL+XQ2H3/lssQ1XTzqOxdfwGBAAAAGgGeg3RCfwAAJKv4W3gSnWgjiQnK1mUSMLKBAAAAIgGehWpCfwAAJL8EJxLMUKglKBd2cLrReqxnMwxkbIcVKbEAAAB6QZqKSahBbJlMCFf//eEAAAQzW7PYu2dvOIbCqwFJBBMpCG0g6NhbHUy6SCQUh9gEdJ3ujU8mZWwgqjPywqSKycyUmJCBVrCy0I41Q/pH9/ACHaq3DwfBbc5tANSmGfIMraoz1fLGw2Qa1j6QvlfsfyJTSo7mgRSiIPAAAAAtQZ6oRRUsK/8AABdDR48MnDAALZ/k3TNNt4wfvFdDCmMIuCoRUTm6SDzQjYtSAAAAJgGex3RCfwAAJKv4W4HaUCBYJYLAIJTutFz3o8rha2ShkjyOtMCDAAAAJAGeyWpCfwAAJL8EJxLIn43V4aj2hDSPHBfMJAvpZv0B1/YrUgAAAFJBms5JqEFsmUwIV//94QAABDNb0badTemZvC5arUfhO9zutAU5WDQkRriefEAYmOj2PzJ5J+y8f3VZHEL76cs+spH8DG7co6Y0kOpAYrDuG82kAAAAJEGe7EUVLCv/AAAXQ0iL3yrwjLpNHgD31IrjDEsgAYJAHRa/TQAAACQBnwt0Qn8AACTDPg2aM4PHVjLTEj46G3DbwoQZ7wXtVfOERqQAAAAcAZ8NakJ/AAAkvxrOe94JtmKxWIR2QWbkBQ/ugQAAAHtBmxJJqEFsmUwIV//94QAABFNcD+WKzYjC5EeKrkBXZIUZZr/BtXdEBSOTZbtKKAKJlktHNV7Wl4mc28QQ3kQmo4Juk3q/0yMnPzbwA1/qyqNwluvLHmdcpihRKmipkZJecQ+2gejSQI6/l+RH1qVyNM+cDKtqg8RRGXUAAAAsQZ8wRRUsK/8AABfpfS5isrLgkiaAkxL00815vBEiyXW3wCUiUSmJzzDGqLAAAAAmAZ9PdEJ/AAAkw0cbwHdSzHZx2kq93q8axGVXieAtVNWFcjZnjYEAAAAjAZ9RakJ/AAAlvwQn7oniBVJ/jVg8ntBDmSTiV2A0ub+wNacAAAAvQZtWSahBbJlMCF///fEAAAMCwvbYZ4rfiMO0HthyltXxeAzzAX7nyHkvPhmEbFMAAAAhQZ90RRUsK/8AABfgh7cNuRwv5dDXsZLuUndJFUh/sXCnAAAAHAGfk3RCfwAAJcMXaKmlU9T7wgmOsBgt1uqKXBsAAAAdAZ+VakJ/AAAlvwQnEslpmrhWUx8qO34vrY0EkGAAAABPQZuaSahBbJlMCF///fEAAAMCwvbYZ4rfiMO0HMyCF5lWrbTNVoQgGRcFuljDkEX1LxZUff4VMQ+3CLZVsE8LoTekoJY105iTW9DkVmkggQAAACZBn7hFFSwr/wAAF+mDzbcV5z2AWEknnJMXRJYlB0TeZBzjjy9ZBgAAABoBn9d0Qn8AAAVkW3mSx4TJZ4DLCZQ2Y+e6wQAAABoBn9lqQn8AACWuXjOBeUOzzbauDHMEVP+ImAAAAFFBm95JqEFsmUwIV//94QAABFNriM5XVZjI36UfYGKFPC+Y/QfUxXXlDJk4CPwanEXBzj7BcctKmRhOI2tUEHVTYwNPHZPSHWFseFgssHwDrGkAAAAlQZ/8RRUsK/8AABfpg82KSCSpMB9IV1aDYYPdyRividyQ96jbgQAAACMBnht0Qn8AAAMAwejS9FCRzr51UurMf9Os1yGAJhzJ59NnwQAAABsBnh1qQn8AACWxzAlvqW+yFUj7/AYoyD53m3EAAABMQZoCSahBbJlMCFf//eEAAARTW8Cb85xYvXWipEIzu076Qj7AHJuZXFp+PXWF4nV5PTwRa0JVEi5NR3vA6E6uoX4uAmvLOg5xwbHq4AAAACZBniBFFSwr/wAAF+CHtw4tAf+yrYbG4TA7sAJJSSQ7YZ12yCIdoAAAABYBnl90Qn8AACWr+Ft4Ep1oI4kKjgjZAAAAKgGeQWpCfwAAJbHMBUn8Wbs+CgBLCAdvhZXxVcRzy4VmLmCfuzY6O4OyDAAAAEBBmkZJqEFsmUwIV//94QAABFNbvkWuokuc7iQRdiYk6qh6Sz6JpKh8BZwfdNG3ah6Awb2W+6XyQSuAuHw3FtlQAAAALEGeZEUVLCv/AAAX4Ie3DbIyMLMFaN+3GImgAIyWYQCbG7QCDFJCvpT0SSHbAAAAFQGeg3RCfwAAJav4W3gSnWgjiWkBZQAAAB8BnoVqQn8AACW/BCcSyWml7OZbBtmuPXs4uSjNtCBBAAAAgEGaikmoQWyZTAhX//3hAAAEU1vPzphJBbq163eAHFSZ8GFWWlJwSxVIIDIXWH/wNE9J6wPUevC2MiKBbkWxZKUlifzavLHPl2bC98e83X1TRTwniAbDEnfJa2HvvJvUAAI1MHFS8QAASYun44fyFxj4ssHyOLAA88wU3p1io3ugAAAAI0GeqEUVLCv/AAAX4Ie3DbkcL+XQ17GS73sny3hmn7fBeRyQAAAAIwGex3RCfwAAJav4W3xlNA6EoIAkJRIlLz/ry9nsW6P5wWiTAAAAIwGeyWpCfwAAJb8EJxLJaZgTDFeQ0xhivF3XFleNQ97zZ220AAAAVEGazkmoQWyZTAhf//3xAAADAsL25b/rUO9kx+tt5fJX74MaMNPhvyDBDRyWvPmIiFURc1qujASnNA4H6VmWHK0v9sIfJUueE9RIhfy9FechlixKQAAAACtBnuxFFSwr/wAAF+CHzqg32Yt696v/hLk5rv3vhZjcuSyDfukSUoBm4uoJAAAAFwGfC3RCfwAAJcMXaKmlU90EaUae2Wc3AAAAIwGfDWpCfwAAJb8azljAOmaKMw4Q+ghB9Ga1aJlvW0ljAsbbAAAAdkGbEkmoQWyZTAhX//3hAAAEU3OS75vRmq7MGoMTLpvZNzzoBBWa3hDzTzcTf8AykrHs+IGNR0wVDkCe/sHdl4+LJIX/mzBwZed17g7G5+LvOk+BCpgEgL4QtRNtPe1IPFIdVNqzUrI3iUtTIUxwwJMX917apxcAAAAqQZ8wRRUsK/8AABfpjmxl7bIC0HLiaYgANWNKMkKhlCh/d2goVZSip+mAAAAAHQGfT3RCfwAAAwH7iiIKVaOwFjamyUa3/aoEc1AZAAAAFAGfUWpCfwAAJbIrBxM44amQdeezAAAAXkGbVkmoQWyZTAhX//3hAAAEc1wRlv6BFmi5EeJZfA2VldzgBuutFGQFcu60oLIBBczniPbnBrfcEWo6cv5LZdLynZeIzr5McBKb2bzU6z6u7AEQi6ma2Qe0U2X/eo0AAAAqQZ90RRUsK/8AABiAh7cPxbJ6fOhAgYUHUK5/zylyBWLY3H35T89jqn+TAAAAJwGfk3RCfwAAJaxCYKPq2PLvXQ1UNzWB09IFsfY7gulJIG+XMulDPgAAABkBn5VqQn8AACaxzAlvqW+yFZdUvFSAmGBAAAAAXkGbmkmoQWyZTAhX//3hAAAEc1u0Y20g6Hh4mE1Fk4Tgy5iiu77VuMyAjOjW0EU4zOXxhvH5aR6e0cli7qx3u07GKjExVAJCJkm2CRo2qIyUSIgfXZpACtntvOde+4EAAAApQZ+4RRUsK/8AABiAh1TvfDXsy44tMakIwI4REENtsNsvNZN1wfPiHtwAAAAiAZ/XdEJ/AAAmwxdoqajo57rgtlrybFJIHDAAQH4nkCT4HwAAACIBn9lqQn8AACa/BCcSydT424DcdI2dJmcM9tFfrK6Kzga8AAAAOUGb3kmoQWyZTAhX//3hAAAEc3Powa7Zb1RQMjEiBikC2sVO9ov6hcHJeiAPz8zb4r8CpPfVnuhiSQAAAClBn/xFFSwr/wAAGIJrN2s+Oc0r2hcc4eqKeOPt7IKLGZ9D2U6JR+220QAAACkBnht0Qn8AACbDF2ipsAxO1Dm6LdG8LAT0iC5MnlUXwfgyCRg28ebKgQAAABkBnh1qQn8AAAMCCyKu6puCrWFla7Y3Qe2fAAAAREGaAkmoQWyZTAhX//3hAAAEdo4uRKst8Pd+1cdX2FBUAP5CT3VUclFC0Afd883T6LCe57F/4FsqnGSiOjcuGiYWcgogAAAAKEGeIEUVLCv/AAAYgIdILXawIUoW5/KLcQpsxAJ5TmYB9YF53sAIhygAAAAgAZ5fdEJ/AAAmq/hbeBdP3/RWdLZghij/wxks49alWVEAAAAiAZ5BakJ/AAAmscwJb6lv0hwNMgZA3/92afurXlf56ZK4QAAAAHlBmkZJqEFsmUwIV//94QAABHaIxU0QapG1Zn1eaiNeWn7npo44g2eekMNZnoAefWSo/T5eJxBjD7jhthnv25ODfcMJvBLN0rroEhFDT5t0b5Pk6D9PjzqggZ3uP5h4JpsNjR7vtIXQFiNUaUx90Tcy2rGBhwLI7/lgAAAALkGeZEUVLCv/AAAYgIe3DbkcrZxg1wmG9EwQ7ZeZkgR1SY+j0hhdM/O0+bMrZUEAAAAcAZ6DdEJ/AAAmq/hbeBKdaCOIEZ65GgPdC/MrKwAAACcBnoVqQn8AACa/BCcSyJrB6/xTfvdGuVl/WZDH6G/OHQkAzR/5BykAAABFQZqISahBbJlMFEwv//3xAAADAtUCrTZLQp5nNYQXyO+BA/IdVNIgDZgyhPUKou8H2yVPfgcd+r9B2QCUx3chpq4wgzuAAAAAKgGep2pCfwAAJr8EJxLG9EQdiCldKeiJ0rb7CizW4bxLvGp6LkULRMO4QAAAAFRBmqxJ4QpSZTAhf/3xAAADAtT2/sAE4ysdpOtKPMO3Td6wRM0DHuvVZtvgxjDhw3QduOqzLfXI9IF4kVZ4EwTpPRFITKscvX1er21HhsGBDAw8WIEAAAAoQZ7KRTRMK/8AABiJfMNgEs9LHUT2ZAFqyiH8ivujcSHitPyRfChygAAAABoBnul0Qn8AAAWIW3mSx4TJZ4DLCZQ2Y+e4QAAAACEBnutqQn8AACauXjOBe5WN5VZaxqr7m4RKvn+iuGZclYEAAACOQZrwSahBaJlMCFf//eEAAARzc0JyhXMuIzJxpeUgGs8daEOp0+8blGJgL6MAa/CpC1OiDplhcBiIY+XrD7La5SGj5M2hkoWQebPLnxFCJ5n86Qfvf7qzNIVYK9YfojRNm1WVN1Na3J+Mho+EvLEfA7odpdQ+XGjPPcI6n0NWA6lkpg7uR6BUarbCjmo7QAAAADNBnw5FESwr/wAAGImDzbU2N3cmayrEIiYAAmn6pFgz1+J+6ZDcp1XFmW7ScEgQjk/uOpEAAAAnAZ8tdEJ/AAAOJFDz2PN2Vsp9WjJACWQxngxSri3CpseG7h8BnKcrAAAAHQGfL2pCfwAAJrHMCcFAyg7XC+x7ZbtYfQDt+kXAAAAAVkGbNEmoQWyZTAhf//3xAAADAtT25b/rUO9weLln1lr7GTETXvz4tyY3ZSj/tFmwfDc7hR5OATdqWCQHOTqbR2IsWnnzGPaS1wVFSRnrNLs9IHnPZcSBAAAAJkGfUkUVLCv/AAAYgIfOqDrI0AfFCH1+BLCtXxw1A3ekFPAxxQvhAAAAJQGfcXRCfwAAJsM+B1REF8/M9i5t3uSLeMHYUHcbFctzlss/yoEAAAAcAZ9zakJ/AAAmvxrOe94JtmKxWIR2QV+LIHNwsQAAAGFBm3ZJqEFsmUwUTC///fEAAAMADnH/2mXbOLcd8XLaRjFMKMCSE0A1GpRUV+Xyp92CAJnZ6DJxGcxPNHHPrsUFfdCDAkxTBhWJh8k6vL06Z9inPA53WX7wGDlmIYySgwCHAAAAGQGflWpCfwAAAwDI/WNMXnfhg6TeDV7y6aEAAACCQZuaSeEKUmUwIV/94QAABJP2vDerGgDKgH2C9nmiDuKexv1VGtngzXizXJ07cZxcV7yZBeMglYGZ0g4Mqsk8Ec+lVCLHnZReNJUMuWI6v8UNwKkPyLvy32q8qf7i9UndkiHnfrlwLUt4sVu/vaegVjhea6JzJTT2fv+cMFgmzHoPZQAAAChBn7hFNEwr/wAAGSl9LmNacPoCytKbc8KjeWLhlllx4K4Ouhuhv0FsAAAAFQGf13RCfwAAJqw4/vSbJlSvm16KSQAAACgBn9lqQn8AACayPLneCu/lZ+OHAOHvW2yAmY5VMdD3GDWNeQsLQjgOAAAASEGb3kmoQWiZTAhf//3xAAADAub22GeK35jiyl3TF0ENkI3UTOiwpiVL8oAM3WwplwQznBwWmpCJyWI5FIbSJgL49TK1PoBLwQAAACdBn/xFESwr/wAAGSCHtwq2DPkuYK9BNZ1Zc8ZgB1kPM4SMRy1s0sEAAAAZAZ4bdEJ/AAAnwpNNhCnLyKQJCcbrSaD8oQAAABgBnh1qQn8AACfZhLPcSWmauFZTHynXjpkAAABeQZoCSahBbJlMCFf//eEAAASTdDUhELdwgK4yDFIGn2sE1wuiTMrBSPrOrXBgpor/81tmdGuj19lQkU1prM7C/dfjBFcnUu0c1cQQ2paxJ7sKMeBQQHmVz4hs0W3isAAAACVBniBFFSwr/wAAGSmDzbbcd2q340i558XkiRfMMlmftT38fLFgAAAAHQGeX3RCfwAAAwIbf/QAwqHLL/e4STJnmKM8eOy5AAAAFgGeQWpCfwAAJ8mAcNyg1xcfFaL8AooAAAAzQZpGSahBbJlMCF///fEAAAMC5vbYZ4rfiMO0Hthyljz5sZO8IAmAPE98Z+G00itq6kZpAAAAJUGeZEUVLCv/AAAZIIe3DbkcL+XQ3PAAIzRiBktpW08lXjhdI60AAAAcAZ6DdEJ/AAAnwpNNhCnLyKQIEZ65GgPdC/MrFwAAACABnoVqQn8AACfJgHDconB67E4VXcETLzfwtY9Pf/9lwQAAADhBmopJqEFsmUwIV//94QAABJNzROeGqqiz8GJ3yR0nSihbFIACIFSgdYoISGRCzOLkEagR5RvkpAAAACNBnqhFFSwr/wAAGSmDzbcV5z5JX/sWVDnYIksHNiwriBYWLAAAABsBnsd0Qn8AAAWsW1giLlNofT4aLZ98J/yvrLkAAAAWAZ7JakJ/AAAnyYBw3KDXFx8VpRA8YAAAAHBBms5JqEFsmUwIV//94QAABJaLIDY57ypVDBYQq+UpYADnRJk0JGWx5wIXZSqodTksAdhiK+jAvBe/MzT1zu8bJQnW3hpcgOBZRVTQJikRCtVtTGpMvezEwvMGv6sF683jaSgqA0B8v0u23MmKrrKAAAAALUGe7EUVLCv/AAAZIIf7cWC2JOhKLAahYABxnLkQ6pN46XRM+NtfDl7UhMtW3QAAACMBnwt0Qn8AACfCk02EMUzfYOzoapNmmVuYcx0VjioDmhDJpwAAABkBnw1qQn8AACfZhLPcSWmauFZrKWsB51lBAAAAM0GbEUmoQWyZTAhX//3hAAAElLlsqb3LVYGKMibEABYXcasJ10zI/Co2gosem8ViPY8aAwAAACVBny9FFSwr/wAAGSmDzbcXEqTlCy8/8zHATlMsq/qvDaonNKSAAAAAGQGfUGpCfwAAJ9mEs9xJA87Bx+Gp8Y3BUOEAAABuQZtVSahBbJlMCFf//eEAAASX6ieUSXgtsAATUb8y9nBpDE8KHtwt3c3s6SVvpRpjAcL8QfasWz3D1XLf8THV5Y0WOnUJ39IroH6qD4GlFa1IYxMVAIlecOftyFCNyAID/IyWcT0WMJpJJNOga3IAAAAwQZ9zRRUsK/8AABkiazdqKRRyu82uXur/sYAgvULP3CetDbvUwU1V4vtc2ctDIe7rAAAAJAGfknRCfwAAJ95faKk2wDWkGz89Tbe1c0gdVr1GdFCsv4TqgQAAABsBn5RqQn8AAAWvNNWxkwvP68Aqg5B+GYV/sxYAAABqQZuZSahBbJlMCFf//eEAAASTW8++g7xsesHQ+jCvw84q3vydCrLa4QA3YwO5vXXODh2efV6UWKOsUN0Xfircths9TJP9dtiVWbbFhHqY1sEJin73wAl9AFYYjazJY8kcLRnN0bnwPDJEsAAAACtBn7dFFSwr/wAAGSCH+qFMa0LsYDEM9IduSpcE9x0so0bdavTyA+l0RdpxAAAAGgGf1nRCfwAAJ8KTTYQpy8ikCQnJqtosGs+4AAAAHwGf2GpCfwAAJ8mAeU0i4b9u9HuWxKPoDPKUKnOMxYEAAAA+QZvdSahBbJlMCFf//eEAAASUuXRsXJKyHZbyqmdVg0GDCqeJ2eXuG0jW4uG4D/6M/NlAJ54ceaePUMQKCDAAAAAhQZ/7RRUsK/8AABkimFWHC/OiVI3FhZhFuH6x/AnnJj6xAAAAHwGeGnRCfwAAJ96DZhWeZNfCzNOnTWKxxJa/xQDA+sEAAAAOAZ4cakJ/AAADAAADAakAAABMQZoBSahBbJlMCFf//eEAAASTW9G2nU3pmbwuWz6KH2D92wIgxoOmQogIuIiPRrOUHhbKaiVxQ9mhwQr4KTJQOCgMMpXyzC6eTcHyQQAAACpBnj9FFSwr/wAAGSCIi92TQ7UDB8n9PU2kW2FUKqO80KhAKGp8HjAF+2gAAAAjAZ5edEJ/AAAnwtvNElhKFoK0o+2pPq1Ac2cGhWIchZMFvtoAAAAVAZ5AakJ/AAAn2aatjWWBRDCN+M+BAAAARUGaREmoQWyZTAhf//3xAAADAvsiVqDqqG3p0AucNq2izzW6hkfWgbh7tkumga0ei/w8YJikq5Q8ttjjHPei5llRweYBgAAAACRBnmJFFSwr/wAAGSmQtvTE3Ohvokv+yJu4JLDJasDIlw4WNNwAAAAnAZ6DakJ/AAAnygSvVEl682BfBhPTrKTkOR8d9x6kNO7lYY1b2GnBAAAAMUGaiEmoQWyZTAhf//3xAAADAvpio8DvIfxMfW/OQGdDqj6LJLG8wNoPER4dh+vC+EEAAAA0QZ6mRRUsK/8AABnJg8zH9HJ4YuE24U8290AAcqzZE2bVFJ75KRMfUusEnbzBtAP9kbEJcQAAABwBnsV0Qn8AAAXQW2Rkw8NuRjsbw5oOJXkVlnNbAAAAFgGex2pCfwAAKOmAcNyg1xcfFaUQOuAAAAIMZYiEADf//vau/MsrRwuVLh1Ze7NR8uhJcv2IMH1oA/kKAAADAAADAzPYnJomQmOcoAAAAwLmAIWElDyDzETFWKgSvGXweEPAGjp/Hyp/gekl1Oq12fRw+jKOldfSbeuASy6jKxWIqZUsc0KcyTVezS599IorpPtWRJCFmNpcPsj/RK7ys9VQKgCqeTf5zduHu9POqX5RlGOieo8IwQl3YP66It7AxWqF6Ft3q4u/qSLutoBwAA84OBPyJA8qTU9AcAtYZlkxIIOgS9q+f0RftRAe1KRj7ZlH6ZaS81wnYhQaMOxVmiyXO12l0O0VNsiIMq0bM0VsZvtQazI3KXnPB3lrKL7AD3D/Zfz7I1lHjdc8hKS+WzQhr9oTS1esbKdaCXUWID+Tl/ZPM3/iEHuZqq92q3DUu+Q1PnVGQAkq8eW8gEJocNiVeuLgzxbi4Y1wvqIOJCXo6h/7o7bIfJVO+N+1ACAImYfh6QB5CU8Qr8y1wraEBKrnNjkoQeW9I0cSSj5b7dsO8Fsc7I4f6PCfdsUud6h3Mp9oxZT9u20umC+un3ADl+CnS6aFla+JR2cWYtO80M/6YpWTPrWpu8qoNXjI4AuRGmzbQnKhcrZz4cT7Ph0GbZuAsgfZjf+d2k1HB6eGrUxcNM/98Xv8HDgrJyoBzXBG+VtZQ7jXOr71qV/Cz3AAAAMAAAMALeEAAABRQZokbEM//jhAAAAlngZGuy1OIBsrAZy7EALMUyGNHLxnXM+V3ih8O/NdV06OExHaiCQ4yaEcDGpKH5Ok8QqTEacQMfD9X1pXeI7TxeHGZUwgAAAAKUGeQniFfwAAAwMlc6GPDI6mIT7SlWkr54ODY7YQuWlha2aTbvoyQrbgAAAAGgGeYXRCfwAAAwC6eaP9tPbUKFdmTMscM07dAAAAGwGeY2pCfwAABPs01d7biGqCSBvo8OgkcJGTkgAAAFtBmmhJqEFomUwIV//94QAAAwCXexQvBHHK8AFywAJT6ZXtiLfadI29DfCXRHS22aTTUMZKsaJxMwvB1tvq5A2xlL9z7DCRAkduraeKXPQFjtrwbseIXwTRaEspAAAAJEGehkURLCv/AAADAzhPMIzU8BQ8lB5vHxZXTcaJsyFvSKrTcQAAABQBnqV0Qn8AAAUcW3mW6nKg6IsMaAAAAB0BnqdqQn8AAAT7NcvjgcfA86DCZDbcPcQVPpiAgQAAAF5BmqxJqEFsmUwIV//94QAABBZVKUuf9sSgA9/1Edskl5ouYArJ4RFzXjH+fq/mmsBjY6cLtVSuohUIsq0PPC13MmYbDodgdd2KbHl4p97K3D+NM8ejJOaSdnvkDZzsAAAAHUGeykUVLCv/AAAWtSs3a1peuKKDwjCwOdzHmoclAAAAJgGe6XRCfwAAI6v4W3gKjGCjdvlg1/26NTaqX7dCVQcslRhxnz4NAAAADgGe62pCfwAAAwAAAwGpAAAAmEGa8EmoQWyZTAhv//6MsAAAGodmQAR1uwdeAsx7sUo2A3yRni0Gbc5NdwYIV3cMHJcvM7k7kRqzRZ/1/Yg1b3SnpHEWW7TZuWlHZqprn2z3fje8VnzVuCNRRDz/h+FOCvNhckSVyQEYLD3VAnirzH11ac86HQwSlsJSTEUx7Lvathq5TI2OAKcuQ9D3PQcvLoRKz3bABMLzAAAAMUGfDkUVLCv/AAAIbybSezFlUiKlieZg86QiGrRUQtDFSF++MsrL2kqwDTZqN2EHu28AAAArAZ8tdEJ/AAAFHFJpsIU6yR48PkE4yfJuQ0lABKUp5iwjoOo/FXTjL1vBgAAAAB0Bny9qQn8AAA2ElSz3ElpmsY68oNgVUZJA3ZzkgQAAABZBmzRJqEFsmUwIZ//+OEAAAAMAAAyoAAAAOUGfUkUVLCv/AAAIbXufdJEaDw5Q3gpUHaPXSWO5iTn06yBVLb9IkNPKZbpaIABCtmoKp62VzVCJgwAAABkBn3F0Qn8AAA2F7vHlfebMIkrDxvmU7IoJAAAAIwGfc2pCfwAADYSfeMJP3V6UBVZROwSlsnBus3obdA/QpeDBAAAAF0GbeEmoQWyZTAhf//3xAAADAAADAB6RAAAAEEGflkUVLCv/AAADAAADAQcAAAAOAZ+1dEJ/AAADAAADAakAAAAOAZ+3akJ/AAADAAADAakAAABaQZu8SahBbJlMCFf//eEAAAMBk/KHA4gWBdce1nG/VdpkT1wfY56AHVYaUpG1sfWLfOZpYiI7ySGEW0Fy6hj//zqEGnONa99+glfWLgqMZ3KaTQeZtch3TcuAAAAALUGf2kUVLCv/AAAIbyHn3zeSiFA8Bqevx2F0QpMfKABqjR5dZyLvJOsIJfV4MAAAABYBn/l0Qn8AAAMACj+0PYM7B68p9nqhAAAAHwGf+2pCfwAADYSVLuKl6cj8aXtjUvdHdcACdR5i24EAAAA/QZvgSahBbJlMCFf//eEAAAQTc2PvvyrVG7+6BsXM0AtaEAmH4XIui4elre64x0Jn8ZMa3xZWB7a8qp1WOIj5AAAAGkGeHkUVLCv/AAAWtSs3a1peuKKDy0JiKId0AAAAGQGePXRCfwAAI6v4W3gSnWgjiBHpmCnI3oAAAAAOAZ4/akJ/AAADAAADAakAAAA6QZokSahBbJlMCFf//eEAAAQVFVcPuojttGCEAURJsh+kAAdJ1NK/B7jVf9Ju7QMMcNtv9n0dY3hjgAAAADtBnkJFFSwr/wAAFrUrJ/uD5zdTL01PD8AbLFyR1ixggMzLwd8cVmlUYXsuACDFnuw9tstZ1r44fdm+DAAAABwBnmF0Qn8AACPDF2ippVPU+8IJjrAYLdbrsEBBAAAAHgGeY2pCfwAADTSen3egc9kjrA42ldlfEE+DnqL9UAAAAEFBmmhJqEFsmUwIV//94QAABBZTkGSKot/VwdwyMjLoOChrRgDhNfRFi2+BPPBtA2YCCK5vbnOAHmKyB1gNSU/pMQAAACdBnoZFFSwr/wAAFrUrOLOvbDbrTPSjmneFKUljmfPlANVOjheJ4MEAAAA1AZ6ldEJ/AAAjq/hcLpUSpdDAnYVkjsBewoRtRgBhHRRXkwYxsQdQAlR6tSpNhKdxZLhpCggAAAAbAZ6nakJ/AAANf7aWM4LxTpfPUCnEHkDEIRyRAAAAdkGarEmoQWyZTAhX//3hAAAEE3NCsUABqag0yy8kKV8GQpRMg4o1v/I4cDjM/MPJZ1ymcnys11bWPcZvk/bX99GRm6eEmN8f8xVdHaL5jQLx5Uy25iMMV+RkMeM3emqZ0WLwsl3vX0qnI3d6qB08jV5GdqKYZPAAAAAmQZ7KRRUsK/8AABa1KzlzUJSy6Ogj5zTf+NErZ9QQdyytZk7vnJEAAAAjAZ7pdEJ/AAAjwzL8fseGK8Y2HZwzAbz2QHvUACr0Cg7H7ZkAAAAgAZ7rakJ/AAANf9Y0wNu34naAkdyQxqW/zwX5U3rMrZgAAACjQZrwSahBbJlMCFf//eEAAAQVFVn3+QvyrTqgPhdVVqnkQMrgAUhukOW4KEQC8fLp+hDFVsGDT6R1mAKqFH0JUpU5vfM+ceu031DLWZTsEqJRPHm3UAFK5v7DzjCo2pnn/SK4p2XnySv6WQZAp6KP3wK4QPw6vvtglE6SJPsIzL0q5mkx/glfNmzz+OmNDRZi8fN26PuEFlLs4zTr7rJnCnRg+AAAAExBnw5FFSwr/wAAFrVXfqZ0eXPWZenEXNgmc/X0ANXJpFa6z2iuD280Dd1Fsv/2ScT9J2nSH/DENfGmX3YVVmOw0hqY52ThGNVpJxgRAAAALQGfLXRCfwAAI8M7ZhWg6qgBJdyjHz99J3osy6U8adPH57PKMO99gYGpGz/bMAAAAB8Bny9qQn8AAAUft3SsN/fD/2XUlKv8mSIHZrmRQzAhAAAAakGbNEmoQWyZTAhf//3xAAADArFHrgY0qT6G4WbXeY4ggsVZk4GmUW+Y+WwGabFBwWXYPU2dgBYdpPZkvRvYmtJKoYaYDHWrBLZPer1OQuNi0fO0R5nMUAJTEzkrh6oGdIlVn55T2uIzwxAAAAApQZ9SRRUsK/8AABdMPS5zOXY2Coqk2+CvSDCu2d71Y/Hiov7LTehVrZkAAAAdAZ9xdEJ/AAAjrDkFrk94QYUAxbMX3OY62HChWKkAAAAjAZ9zakJ/AAAkvwQrU83b0qi3HiBp0lWJ2xB1Hn/NvAzw2YEAAABqQZt4SahBbJlMCF///fEAAAMCsPbYZ4rfiMO40S9JAPQZ4M6HC7cSQ72zgH9E48AQyI3zZLjXzJW+kc683ayjn9sdpMEnfLONk/7LYwOGb19EFbxo0frMyHOBLfZXElVXcqsOBvUz8VsoYQAAADFBn5ZFFSwr/wAAF0xDyo6H4XRLXsoU3IcccWdgiCPLHSerRnm+n0nUMLsRKz1BEKAwAAAAHQGftXRCfwAADc4S8M1DxVqupYYuTAHmADrwl1swAAAAIAGft2pCfwAAJK5eM4F5Q7PNtkKjY3lJpb3/SNg9wcCBAAAATkGbvEmoQWyZTAhX//3hAAAEM3NE54aqpGJZt+IV24FqAOocCfOqplKClsQ3Fwemgt8cy+/fpf87gZ+phJeslUIhHHU5Cc9mWu8ioMt04AAAAC9Bn9pFFSwr/wAAF0xDzbcVydkNQfhte3nJ3PSxf3v8IvJOUfJYzLN6hkIK2fNswAAAABoBn/l0Qn8AAAMAv13S9skqqdbVuh8infksAQAAAB4Bn/tqQn8AACSxzAlvqW+yE47ysxL/i81gsq00cLcAAABVQZvgSahBbJlMCFf//eEAAAQzOU4oFOflopJ4HAeXVCWH17s6khqD9/VHI2b/Ph0qghxmQU2PjMrh5Gxa2uQ4B1RyDZ89T7OtfmCB1IeJ4u0DOpbDuQAAACxBnh5FFSwr/wAAF0NHVO98NcDBNuQ2TkmP2p7fwDFQoLmkV010QLcGsbZwjAAAACQBnj10Qn8AACTDF2ZcaS7JmS3Yz/Ly/u4c9jegABNqyswY/5UAAAAZAZ4/akJ/AAAkscwJb6lvshVSr1WJ4LayywAAAGFBmiRJqEFsmUwIX//98QAAAwKw9thnit+Iw6jQmls9+7R5lvMzo+aarSUZl1/EEAC+4XFpP9WZvAWmHnk36i8Hr9nW9qFXdMhStIK/ONU+I52CMHZ4BQu2d4xxg14/h+QYAAAAK0GeQkUVLCv/AAAXQ0e3DbkcL+YdxLdXxndVEOgcdEKBgjCWz0FydYOYLUgAAAAiAZ5hdEJ/AAAkwxdoqaT0Ihx8DwvDAbSPLEZyyTrhTVFmywAAACABnmNqQn8AACS/BCcSyWmbFwnSs6OMmoM5k3EV+iyMiwAAAE9BmmhJqEFsmUwIX//98QAAAwKw9v7AC13FjQuVOkzEwLwGibIWc5a2fu+NLcyVKrKrwM4Ue4cNpG5qz3nJyNhP+OhRSeTNL+AMUqT5WmlBAAAAKUGehkUVLCv/AAAXTEPNtxXm600Gk+TsFhSWdheF6CXA/oOo07o0KQJNAAAAKgGepXRCfwAABRxc4UPPnMjVhdtBRjPSQAAm6TgYV4jGhd1YealGD797gAAAACoBnqdqQn8AACSuXjOBkMQAsXCEip9Y4Hj4rdIQsHsJnzfMv7a8GJsW5WcAAABEQZqsSahBbJlMCFf//eEAAAQ2UximQUvKi5TKk/n56VS1Z+ctsTwdlcsJzJr0YDx1Ejk/AKCZqkiVJeLn/yBET+O8bGAAAAAoQZ7KRRUsK/8AABdMQ821Ng3XHqoyBZDqIimG/pnkmxYNJRa11PQkwQAAABsBnul0Qn8AAAUcXE06q/6wmrM8KU9qMWAbC2EAAAAdAZ7rakJ/AAAkscwJwTdhAIEpXOiY4Q4CSFyp8e4AAAB7QZrwSahBbJlMCFf//eEAAAQzW7lu8jvEZk9VC2opWpGkX5M2ume7Mozv1k31k5RhnVM/X8z4P2QYE4BTIMKhBrw4BpGNkfiUYD0pdzLNfbGUu5vFovu2EeFe6GnV7QasgCIcM/wbu8h0xFwkhZSP5JrNRAFeW8OkIDS4AAAAMkGfDkUVLCv/AAAXQ0e8Or9HamH5KXIJaFpkAcdxezEFRYZAvV5W79w3zELT/NkbUNSBAAAAJgGfLXRCfwAAJMMXZlXJzctSqjnBQNAXf7sY3WT6oTbbYldNXNSAAAAALwGfL2pCfwAAJLHMCVd71BszS5IAAAMDHNcAmVzlBM3cDv0BuqCICsIBzkIR8ERZAAAAXUGbNEmoQWyZTAhf//3xAAADArDlko/1qH9vdKOImeuFe8n5oN24n58wQ0bbB30Bm7N7uWSbDygrQWWuuzWGpFh5XgnYDL486otB4YLvCPYF2Kikoe57rcGVemLnSgAAACRBn1JFFSwr/wAAF0NHzqg328wLq7AENExHovkw2fAQk7/xZqUAAAAnAZ9xdEJ/AAAkwxdggxaF8+IgHTOCEqJUvPUxGct/pf1uWu8yM+mBAAAAJgGfc2pCfwAAJL8ZJFSKNHUnm/GcOxBeaDoPVJzyeispY/eh8J9NAAAATEGbdkmoQWyZTBRML//98QAAAwBh+0szto0jNIZ9QOfgFxcnfARcIgDXAe/6Ul5ZnzNEsdCjTYZcQseAGXnGVIGLmaum7Zo62ly7NmEAAAAZAZ+VakJ/AAAFQT5g4mcchjqOnYjhJYQkFgAAAHJBm5pJ4QpSZTAhX/3hAAAEVSCLxx1jQBn2ClQw2aAs4mR9M2x37X9SPcACjSjJk9q8xi0HYnVNR6Bi1yymS51rQT9QEXm26U6czlrB5mV3R6rPegE/ela5RFQidVaZIxqvkd5ftrzaOiiF6fQ2goN6MqAAAAAtQZ+4RTRMK/8AABfpfS5x90rimFHNV8Gy+hJOKXEH8djG+bxOx889VDA4XcCBAAAAFwGf13RCfwAAJKw5Ba5PHz8VjQk7x7d0AAAAMgGf2WpCfwAAJbHL6O1kcBfSoR54AXOXENE0SoE+CJQzMoHgxWNip1MEHR+yEYtBVUWAAAAASkGb3kmoQWiZTAhX//3hAAAEU1u0Y20hKEUbiKN5QktjaoA2TV8SSZybvewKwDscdUEQtkkbE53YSfTlKhugUIjTqIt28ANeZdSxAAAAKEGf/EURLCv/AAAX4Ie3DbsR0pQAkumsESbZvHucWZ124N15s5EVMUkAAAAqAZ4bdEJ/AAAlq/hbeBKYPcPvR8aL5hLi7gWAm9I9lCQ2hdKAmaRRhKt3AAAAGwGeHWpCfwAAJbHMCW+pb7IVSPv8BijIPnebcAAAAENBmgJJqEFsmUwIX//98QAAAwLC9thnit+Iw7Suq+edkBWX3fNXSob63cA1LBpncY7EkAEuKrFPVtyQ/F99hlIZHlOwAAAALUGeIEUVLCv/AAAX4Ie3CrX8eYRZagIWNmhjD2a23DaW1xU4cp6Lortj71SjUwAAACABnl90Qn8AACXDF2ippVP6cZbMRwO2n1NPBcFFTV2wpgAAABkBnkFqQn8AACW/BCcSyWmauFZTHynkhKrJAAAAXUGaRkmoQWyZTAhX//3hAAAEU3NE54aqaesbtCxl2Tp1k/xep6OQZNAFBPk4VNUN0R/KFC7St7ACIBmfTQ7ttGy0wS4Lh/gIXu+5Jo8L7j83dBjorVe4hIAqVGuFYQAAACVBnmRFFSwr/wAAF+mDzbcV5z2AWVANE0dZLHN8hDVGwslPBcWAAAAAJAGeg3RCfwAABWfQwc25OCvMq/GVCix1AAXFc3AL9t1Q2R4/DwAAACMBnoVqQn8AACWxzAlvyDpXz1qWP8sbcL6CnZyJE2eITXbQpwAAAFRBmopJqEFsmUwIV//94QAABFNbtGNw6omxIvfP6qLjHn2Toh8lHBkuMCFd9pANqtMlKXHJV4Udth2YNpyAZlSZdpVrlv35O+L2WlSi3Fx5y7X7nC4AAAAkQZ6oRRUsK/8AABfgh7cNuRytzd9Ze5L+fYCUP1QZb+ijkdvvAAAALQGex3RCfwAAJcMXYawnOyXbtyAArsKci0ku0NFcOBiBz7CcteMiDrXODnNRYAAAABYBnslqQn8AACWxzAlvqW+yFZbbLC8hAAAAS0GazkmoQWyZTAhf//3xAAADAsL23k2hCZ2cDJFOZVYbIaKt2RWss0IBQGw++xS13870kyGW2ylkHcvDY7MyEfGFI2cmSnbiUbT1VwAAACpBnuxFFSwr/wAAF+CHtw25HC/lZvXMABGTctDa5fc4pThfsbbrq8Zn+04AAAAhAZ8LdEJ/AAAlwxdoqajo55PC+NDPQ/Odd0ywoBQPyWfAAAAAGAGfDWpCfwAAJb8EJxLJaZq4VlUWzvFR8QAAAG1BmxJJqEFsmUwIV//94QAABFNzY+/KqwmJdgGgAJ7tk/FARwqIF4O/FtHwJATptzu7Ifjbc7VrwJIqkREv6X1WHnsdfH3MIw5eGK7Q77hBwF44/eTJEfmpP3B2MvQwSUFOScgF3PT6YKICMOkgAAAAJ0GfMEUVLCv/AAAX6YPNikgkqWs0OSTsaMeLsdMVT5SRHbKGmjVrPwAAACIBn090Qn8AAA4tjYeMa1eMDus0Pe5NCVW67tRw70119tOAAAAAIwGfUWpCfwAAJbHMBVWmVzuz4RO0Cwd2R8RPu4P/YSRrkjtpAAAAgkGbVkmoQWyZTAhX//3hAAAEU1wGAA7cM1hWWR82vUOvFOKL4tvocnEFZscvVqhDbmWGAeji23/H7De00yUM+A1klr39YrZuV8ZUAsKQvN36Fw476/aSjAmxTGTqiIxINP2T0vLfzYr0NBHsittkrCwExmx3QiHVxlz2DjhAnFCCdFEAAAApQZ90RRUsK/8AABfgh7cNuRwv5h3Ewk3BQvKEIn93LxiDQ0k4ZEmLhTkAAAAZAZ+TdEJ/AAAlq/hbeBKdaCOJCcbrfKP5IQAAADEBn5VqQn8AACW/BCcFZbitGUAAFr1N2rk8QjQDbo0UqvJqVM4gPJdR1w/8H44BGyc+AAAAX0GbmUmoQWyZTAhX//3hAAAEU2tuQe/vlmK5dtErHtlUt3aG72xrMdOf2cBY8Wt9JO6ruFc/YdcRdxln0p8P36a20hFqIGjESQsJLp6l8/cHGHPC0pMN27AvKa/8UHuYAAAAKEGft0UVLCv/AAAX6Y5swqR900gAE1QEW2SCuys1WpsMaJ5ytet3Tn0AAAAzAZ/YakJ/AAAlscwFVaauUAJLzuzg/aWaNCoX78QNenLptS74G4EGkoR+TusPt10U+dd3AAAAgEGb3UmoQWyZTAhf//3xAAADAsL25pp05oAWNYdJG+RejT29YpqSBwLAqfB54DZCI5YJPvn6VIOXKgrKM8sRPJZzRjvLncBhM0JcxJxUJKgFh7x5R5bYwbdohlxNS7eHNMInwR5Pn4UIrBJFmzjXhgTUTVI57fixg6yvdwnm4qqwAAAAKUGf+0UVLCv/AAAX4IiLsOozfErXlr+FUr24DL/l13L3CAA4r4YY4I5JAAAAKgGeGnRCfwAAJcM+DoSiAFmy+szdZGRIYnnCxNqIeoAli/7SGLcMgNVyQQAAACUBnhxqQn8AACW/GWAzcoXi0q31Zth6koTWICbpt31UZ5CYrYZ9AAAAh0GaAUmoQWyZTAhX//3hAAAEc/a9DijTGA9Ac7AZ6OnYxERQCLdfG3z6vyuqFRu3JwoIpLPSIBdu907sJl0tY6/B/Fv72V6arLSTWoRdj4FPdj4p9vg+z1wiVqw8u2qy1cgRniGrs9+YAVtkCBgM+VDuWgmR3eqMgpvST8x9G6XJ2Ic9KUh6GgAAACdBnj9FFSwr/wAAGIl9LmNSMurR8vwWV9bp3EidFbJXR7fRLy+PPkgAAAAiAZ5edEJ/AAADAfwb5zHGAh5QZN6Vo0z1qoSr/S1KQSqkGQAAABcBnkBqQn8AACaxzAlv17qkpxSmiKLjZgAAADVBmkVJqEFsmUwIV//94QAABHNbtGNtIPV8R9XYskbtgPHhn2nCb4AIL25ik5sNPRo3RzViQAAAAC5BnmNFFSwr/wAAGICHtw25GeObOjan3XsOB5TlcZoZPpEALOBuzbvnYRi3/gwFAAAAJAGegnRCfwAAJqv4W3btI/hNtuNJpAp70o78K1ZkeAj6PLMFtAAAAB4BnoRqQn8AACa/BCcSyWmauFZTHyo7fhlU/yg9ZUEAAABqQZqJSahBbJlMCFf//eEAAARzczW0jZQQ18VDMMX8usxJfrTL6r6AAJt6IUCeCfyxRgmFNuPuwWpHrWe/EvGA1ddJdT/SAPOh2d1CpFsgAyanecdTSpUnA6wqfBGA/2vn1coMvmXxiMViIQAAAC9BnqdFFSwr/wAAGIJrN2txdebzjHjm9i4bquNUQA3dWsJx3moZId7Lm50AtRNQIAAAACcBnsZ0Qn8AACbDF2ipsCnU4vsxMgAV90TSwWlG74b4D45iD/nRagUAAAAbAZ7IakJ/AAAFizTVsZMLz+vAFQ1fzZBFsOfAAAAAN0GazUmoQWyZTAhf//3xAAADAtT22GeK34uJKT4X7PWW+roLRG+MIVL1GnzACMSRckPXdaJyfJsAAAAqQZ7rRRUsK/8AABiAh7cNuRwv5dDc8AAsWG/Vh+jfIJHE5ZTXvjKouJ3BAAAAGQGfCnRCfwAAJqv4W3gSnWgjiQnG7n4HbOAAAAAmAZ8MakJ/AAAmscwJb6q99BDhAAWjU1dH4S8pQA3DOo/d1vKbocoAAAAoQZsRSahBbJlMCFf//eEAAARzc0Tnhqqos/Bid8kdJ0ooTM1fN0oEFQAAACdBny9FFSwr/wAAGImDzbcV5z5I+amwAcaTumiC6ci/ESLDMJGyPcAAAAAaAZ9OdEJ/AAADAgwz4ICJRO4NuBJfBj0W+4UAAAAkAZ9QakJ/AAAmscwJb8HCxKdvG8QY6/mNA/0Cn4GLvxtijce4AAAAZ0GbVUmoQWyZTAhX//3hAAAEc1v14HdhrkQVu9vNMfsklSgXGEe9YiE37QpS5JuRE5zpYAUgBdANbgTA3IcsB+rvzAv3xmCXJAPCbYH7zs134oHGsrBf6TBA+IfL1okJ39a40riFc8EAAAAoQZ9zRRUsK/8AABiAh7cNuRuTDHuQIYW3kcxSEY+IXtf34+FJsds14QAAACABn5J0Qn8AACar+Ft4F0/f9FZ0tmB/jwz+BV2YvWbKgQAAABcBn5RqQn8AACa/BCcSyWmauFZrOwC9gQAAAEBBm5hJqEFsmUwIV//94QAABHNzROeGqqiz8SYACMnTcRBJEDoOdHjywHeNoeg3fOGqwPbRexeEQLDVauVhvBjAAAAAI0GftkUVLCv/AAAX6ZCxnq1Z/aiw95w2nPWUzEBKGU/uDKVMAAAAHgGf12pCfwAAJrHMAzoDLGYQGvxZDtb2AYUIS8pDlQAAAGZBm9xJqEFsmUwIX//98QAAAwLU9tq0kxcuGDPPbxYMQVzRKo1YIAOuyx6lXi1AdFNe/8cGXJITMHl0akYV24AevvFA9YKXLgyQrKxPhFgD3Vx9HunttuJHv7BgTZ3G1m6TH3kvh20AAAAzQZ/6RRUsK/8AABiIyneNOAi0MpRiAAWzSAYqC7awijWT6kJ8WxXmAG43cwWjY1b2HXVMAAAAJwGeGXRCfwAAJsMXZlxpMQvnjoYQd8Yx5SFZ3q39DhgjRpqNkGVHuQAAACMBnhtqQn8AACa/BCcSzETW4LGHYD61Joe4anDK/207aM2lTQAAAIlBmgBJqEFsmUwIV//94QAABHN0EyA71eMtTLI+bXkaiPxviF0rvoKHhpZexVU4MiIcxQFSAsSdmgyQbmVCaUU8yEpQYNg7ppMzZ7Q0huL5bUas0OiDOU3PetOKm4S3zfQ1NRfFwB0vTR7mwbZSzFvN6Rh4OeJ6P2qOorwAPp1mHeZVuSw1nLxswQAAADRBnj5FFSwr/wAAGImDzbxFACtJMEHEY74F+xOIlzhIoZEuWfkK1tVpq3dx/D12UTlQcjnwAAAAGwGeXXRCfwAAAwIKw5Bavx9Z6yXaQRwHi0RPgAAAABYBnl9qQn8AACaxzAlvqW+yFUj784FTAAAAWkGaREmoQWyZTAhn//44QAABJPZEwSNbZB3aNOFQ9/hvdclF5MFoYwGBwJNcA59oADHI9r2oIPO2c7JybRopIiXLH3I1XRAjXodHszwVGX48fISOc9U/EEGCaAAAACZBnmJFFSwr/wAAGICHzqg328wLq7AENExHovkyFxwpPM09ieW+EAAAACIBnoF0Qn8AACbDPg2aL3c1zvmY3DlQB1T1abkTY8xSxrr3AAAAHAGeg2pCfwAAJr8aznveCbZisViEdkFfiyBzcLAAAAByQZqGSahBbJlMFEwv//3xAAADACbEnj4OyFa62i1pFOfQYRnjKGhF/u3bW3CAaN48cV/Q1a1B4PxR78ToXcZZTlgZHAfy2v3WibjqFiRw7vRN8kY87Iq6spacfR0VcofT0Ix54DPQFDou3a7S4cNfbHKBAAAAHQGepWpCfwAAAwIL8aznveIRBoAfVFR56ACmZNCBAAAANUGaqEnhClJlMFLCv/3hAAAEdk8wF9fTQAFkvAABwzBWxjtp4Pvc+jaoDtrLEKV+KkjT526AAAAAFAGex2pCfwAAJrIrBxM44agh04KLAAAAa0GazEnhDomUwIV//eEAAASS3fvHHWM/czEI+vNHLB0ZvPnUR4KMp2nwwKoXE11wIrB9XWvWM7ViRnBsP2KphZCM5a43yNtyqs1d85L9mjHflQwPb/dw9BmN8BM0vll7kIv6FC4N5skKUPogAAAAJUGe6kUVPCv/AAAZImsp7zwjgnn0ll/0goHYC91E4fdajThn4IEAAAAkAZ8JdEJ/AAAn3l9op0ARHDEEz/QqAoZDP3+2t/CYa8Scb5r3AAAAEAGfC2pCfwAADtv+q3UANmAAAABJQZsQSahBaJlMCF///fEAAAMC5vbYZ4sPHxUyNBAyKNZgbV7hX/oj7MgA1Or2FDjCxzdkFRbSEOxgE9tL6jiN53DZbHbohDRqIAAAADZBny5FESwr/wAAGSCHtw25G5MNG3pghHx2NiQE24UtwcjFgOSZAAcxd3v7kJq6fcIMFu2TO4EAAAArAZ9NdEJ/AAAnwpNNhBw85CSMeKcv+W0fmmFn5/zsdW01KSDnFNNTQTHbuAAAACcBn09qQn8AACfJgHDcoNdB3gCQArAdoB5aX/dHubMw+HqavqccYPcAAAA6QZtUSahBbJlMCFf//eEAAASTc2JNTXnlnXidiRkkePoNioA2q2GszJgPY1PSRcveYwo+gacPba9KwAAAACdBn3JFFSwr/wAAGSmDzbcV5z5JX9TNRz+z2BoEl0Aj4b8JEKZLg90AAAAbAZ+RdEJ/AAADAhrDkFq/H1nhWh4rX36rUD3BAAAAHQGfk2pCfwAAJ8mAcNyf9zvWkSiLrWM1VRTExbKhAAAAQUGbmEmoQWyZTAhf//3xAAADAue28mQZ6ZxAySzI4IhfFPYqT6jYMT/MH/ownKuiANCWeXIfvO0AmLZ9AjLf967jAAAAJUGftkUVLCv/AAAZIIe3DbkcMSQABMBwzKu1vEebaZNRMDLbBYsAAAAjAZ/VdEJ/AAAn3l9oqajgxH93vQHs4a+2DnDBYR6Gw0RZppwAAAAXAZ/XakJ/AAAn2YSz3ElpmrhWVSAgUEEAAAA6QZvcSahBbJlMCF///fEAAAMC5wKe2rp7yIerLQAj/oFGbXzJRFScgAzPF7XMi3/GteORVydVN8shgAAAACdBn/pFFSwr/wAAGSmDzYh1cK8nTmOrYzQrKST2tFD81gpmqtDem4AAAAAlAZ4ZdEJ/AAADAhwz3xWQBRv6mrV1VBJZOrNebhxJfsMfwXg9wQAAABsBnhtqQn8AACfJgHFN1ajggW4Jh7zgnbzu34EAAAA6QZoASahBbJlMCFf//eEAAASUuWypvvFJi45FQa/6YorYykALbnvmVhGeiMGRztLiITz5fRy3FpwL5QAAACtBnj5FFSwr/wAAGSmDzSKQMq/yAbumkr1mhIVEALOZLE2DgUfk0XXDphLgAAAAHAGeXXRCfwAADnxSmnbjsAfUc0rN/maQHvPTutgAAAAWAZ5fakJ/AAAnyYBw3KDXFx8VpRA8YQAAAEZBmkRJqEFsmUwIX//98QAAAwLm9t5NoQnji05I4hQpJa8rRVcBTIfIf6uX8YGAu0ALnu0NNZD9C1Z8As8XrTk+vfL3qvodAAAALUGeYkUVLCv/AAAZEDG4EhnF2vFe5rbrX5kpnQbKX4Yr42GZ4I2yRHbzMSrHWAAAACEBnoF0Qn8AACfeX2Kz/cG/h+DN7jLbUQSNgK2s0brmDbEAAAAdAZ6DakJ/AAAn2YSz3ElpmrhWUx8qO34vrY0EjrAAAAAtQZqISahBbJlMCF///fEAAAMC57p12w0ucQRaRFlEyadgNXCgWIEz+C+zh6DNAAAAN0GepkUVLCv/AAAZGnBBRvAi4HlZZ8xJgAG6ZMWTTLhBXpFRLSgUagROjbeK+SBGF67eGeaAo2kAAAAbAZ7FdEJ/AAAO1FIqqY3guRH4PFYg8nfs/jbAAAAAFwGex2pCfwAAJ8mAcNyg1xcfFaVKJ6KPAAACT2WIggAN//72rvzLK0cLlS4dWXuzUfLoSXL9iDB9aAP5CgAAAwAAAwMz2JyaJkJjnKAAAAMC5gCFhJQ8g8xExVioErxl8DncAQrOaMBBDs0Koe8seEotoae+B7BphY1Xzjx4AJKGtZITOjrXYdY11FCyxM/IbGtodAXkg4Y1ZFOfjw5Ymo0/6gWxSJzl1J43kAPj/5ZrgK0onXjljTtVvQ9Hy+mBhAR4+cs+NBYq4vEcZwCD/V/KK0nq+R38sA+S+Y/kooxoF0H2YTFt4D7SWk/eyTFgD9YAAJIJvg25OS9qpxbNoVBrcaXNN6YV1AAACJIwdG2uHxKVZffxFOiN/sh+/iD9M9nd7i+O4AAb19gvFRd3oVt3iJEDdgr+GAC3GkrhQYofAK0v6nslnQv1Xqa+I4crgY+imIGE6JuPIsn+euqCe50rImWdLZixRIFQ3WFMLGrr+Mz5uou0zeIbT3F9WMm7zG2AS8uAPvBu93K5e6oJOP3KKfJORJEWc2vr6wwnexLqkpxTRPy70931YTZLSb98dO1ks/xIXgVPnexJY6DnMebJpgZ0gCTFOYJ4OkY1qMIwdCNpg8H9ApYXqpsG7GXVPOsBAuMF3dV8+7Eso2znDVfNQJ0auTq54AzbzWE7FQEvlWDAtKqGnA/q2C6P7tqEx5uRTZpbaw9XRi9sF/0in7Q66lNm3AABGz7p0n5wuAZFE5hjnSCJvyfLWM6rBpx1oEzvl8MsvZ3zdNgfLb5JkipkrbuHlCqfJ5w9hzwoMRjboCZgAAADAAAGzAAAAIpBmiRsQr/94QAAAwGR1pZ72yFeYAFZVLVCAHyKsjtr/G82BecBaUR7cnI+hVmfOyveR09ZXG8emcU71Bisbht7M4BZ8bPAh9dYQTyS6ljDY7/fRuhYvUfu5QcKGM86GIohS2ero+r4DPadRSGf6HfDZEGz6WmUk0gAUX9QKybL5bUs4vtsFupJVkEAAAA4QZ5CeIV/AAAIbAFd18WhsowiAXY4Z2YMaLtWBFogCNO6301pGESesrIn0E/CUDVfuUgmcWmWDZkAAAAYAZ5hdEJ/AAANhe0zJ2bTka/BMBt373pgAAAAHwGeY2pCfwAADS/ZLJIG+YnIZfaVMdl57lbFavp8MWAAAAC9QZpoSahBaJlMCF///fEAAAMA+CXVhz1AINhINiac+RVCPCwpaBDhgcLZPopvVhJmF9vNNa3chjW7sTQxr2aW2VkIrTpCh0Oor+be0aMJpluyan3uSdvpejBzW9EfB5XBB0/rSj+nR27/RZ83dqLyeebu0WucChfympvtUXK/ocIw1RmaZW88y+WoL3WGM6tyuxpd4aXvZGehLi/qADqDPIj76JjbasQBl8TU3B2Mx5iKqY35C9tjNighYR9lAAAARkGehkURLCv/AAAIbXi4lui2JlHUSCdUmETLY4Y7JGuxtHalJtNW/YwBOworehLVcd+nI+DeKleSQAAAAwAAfmfJELwgcsAAAAAeAZ6ldEJ/AAANhe7x5X0iAUiSrzRUuGQAk1NYQvvRAAAAIQGep2pCfwAABR8vdUp/NRJxxsXWvBowbpozg6BQJO5p8AAAAGJBmqxJqEFsmUwIZ//+OEAAAGbnb2ShgsuRYHOjrmbvNQ3oJgoogvPDiLlRCjXFLBF5Kf8hMAS6ynVVrizf+1qXYwTErpDtbX4+PzR+cfDE4CNd9oj+7ZGyEdOarBCb7ys94wAAAEBBnspFFSwr/wAACG8h5tuK5ldHUF/Go6aBgtAo667flV2hj18QAco+TEbInzWr+Ids4AAAAwAAAwF+X7z4QGpBAAAAGgGe6XRCfwAAAwC1m/bQ+m3snAL5Nlk74afBAAAAIQGe62pCfwAADYSVLPcSWmaxjryg2EHymTvDbiYj+DeMoQAAABdBmvBJqEFsmUwIX//98QAAAwAAAwAekAAAAB1Bnw5FFSwr/wAAAwABWgmzwcjzfTyPmABoAUyxvQAAACsBny10Qn8AAAUgjEMNw7SJp1vp07zkRHMRinNL9n4tF6u9cJijoANrLAHXAAAADgGfL2pCfwAAAwAAAwGpAAAAdkGbNEmoQWyZTAhf//3xAAADAp8CugxFeJwSStRAAjIUs046YXdlFdl8eDfwxWrr+6xfHT/dl8WNAtdahwGb0Ju9/os5UYSKbM6NtzukM3U7nDUIiGsAsWB1THP2XJ1k6+7DF3kko4a26r0/LGagEAZHsX+PZFgAAAApQZ9SRRUsK/8AABa8Q823FcysmUk+B0CDt9TACcXCMwAAAwACoKtlgXkAAAAOAZ9xdEJ/AAADAAADAakAAAAgAZ9zakJ/AAAjscwNt7sDkInuFYyz4S7oJMx/OYasYTkAAAA0QZt4SahBbJlMCF///fEAAAMCn7p12w0ucQRaRFlEyadgNXCgV6Sx5PI7l1UKAyXLH1VyEAAAAC9Bn5ZFFSwr/wAAFrxDzR4m1rC0zPMIJqN9dglkhsJ5IZWmnAAAAwA4yys2WWCLgAAAACQBn7V0Qn8AAAT49g7scyJzg2sq7F+1yYa5daBdlJ9Byyp3BYEAAAAhAZ+3akJ/AAAjvwQnEslpmxcIbcogCf4U5e+ns1ISmZDBAAAAWkGbvEmoQWyZTAhX//3hAAADAZPyhwOrrQMu4LszELo0Sqx4Le7NbRVFXZJz25DdAmnAA2+84cjjJrbTrUta3jQ8eKWPxE9VezEec1ZMnwkq8QhcEvKGWRe+gAAAADlBn9pFFSwr/wAACCdsj4nXMkm6Qwyzzab8t7C/rzlUyDdRuaz4+iWdOgwZw8owAAADAAAzbfZlgVsAAAAdAZ/5dEJ/AAANh7BVcSDkcInrn/2Zh6MG11upbMAAAAAbAZ/7akJ/AAANf7aYuVJbKrQbfMK0Tty//yTBAAAAYUGb4EmoQWyZTAhf//3xAAADAp454/aGVEXZ4lKVS3foDtJGYj+kLMy4wBP8Li0oHdsQGBmPVZtL4ji37cbOnNnLmttrMnCBz4Gothr2JlgRlt7K/QB7JEPcIrTtiQaGrhsAAAAxQZ4eRRUsK/8AABazR7cNuRwv5dDXsZJv3FTE5jMLOEHOYIcWUwvOQAA98pROpVA6YAAAAB4Bnj10Qn8AACOr+Ft4Ep1oI4ggFHeT1txXaPFkckEAAAAwAZ4/akJ/AAAjvwQnEghZFdDl6vQ6K9RfxzhtFjN1gFyjJL/7roOY8c0CZ2Mj6rKjAAAAfkGaJEmoQWyZTAhX//3hAAAEE3Nj77ocVTZu2LzuGosS3ukeOqH1SAA1aX4Aclt/55RajQ2k/RUynsVfyiAgOaHJiN8+LRlKfPCC9xAmEwaaJRw2j/ze8hklii21f3q4Uj2rBX0T45l/8FbDqYxx/9KNTgBPSwvECOaya3b48QAAAEVBnkJFFSwr/wAAFrxDzbHhDKo07gFyT5Ipv92vjznhqq/rgCKJctiPJpvhjoqzQshfxsE1fRJYjw+AAAADAcB04JJlgh8AAAArAZ5hdEJ/AAAE9CXdXyR/ERvbG3yqQ9LVjtZBy2HRByYjLsgpdUORc9iIwAAAAC4BnmNqQn8AACOxzAlXF6K0wAK1dFqF3O9EFj5f4XAJOhG6KuHYwu62RiMvNNmAAAAANUGaZkmoQWyZTBRMK//94QAABBS5bKm9y1TPEGhhACooe1A6v5tLAB2S6DMDyCEr8i4qxYrZAAAALwGehWpCfwAAI78EJxLJaZp8Nm2fabcDbUdCpWznxFFwJTbChx12AAARZL68IFJAAAAAhEGaiknhClJlMCFf/eEAAAQWU5Cc/CBtqgkpsMg4aQu/C9n9I1FZq2VRzY9KbNhlgh3KK00shaXwEG7iTeoTEPT0v4Di3O5SjNKb2at2Nr4JnJJhrznjYfWfmCWBE2n9IDxwrI1vRpWTYqrr0kPmDvcFFTuwdHoTS3LyAsJnt5cQHPwwgQAAAD5BnqhFNEwr/wAAFrUrN4ec6oCAnDXNXHv7jm6Lr581e+ZuFXA+ISfMyl8+sxI+FoJY4QAAAwAAgLeMeEDugAAAACIBnsd0Qn8AACPC7OGCi/YnS9LXkX9qhnZjD4ZJjng7/YmBAAAAGwGeyWpCfwAADS/WNMXcbdik3a+qwjQUyyZswQAAAGJBms5JqEFomUwIV//94QAABBNbz8MDMUHEbCZUJ84dle8Okqv1cNv90QMnWNYDRCyfxDaLIf9zGR0bfDUfKJp30ANGd9Kn2Zkj8Kz/5s2nCd2I6c6PuJJRF+/ONpGLuOkTwQAAAC9BnuxFESwr/wAAFrNIi98q8Iy6TR4BB867ux81DFh4dtp76ibsz3UABC4/9QD5gQAAABsBnwt0Qn8AACOsOQWuTx8/Faab8xqdWImtT7YAAAAjAZ8NakJ/AAAjvxkkVIo0dSeb8Zw5d02FuUJ4UcuqVF13BgQAAACcQZsSSahBbJlMCFf//eEAAAQz+uQNsLlbbEofgghJtvsBqlMNtko2yTQHRmF+og4IXlmMUKX9ZvxlpLxUSlB31SD3kpNoUUfiV7OJVqZPqhw4Uzssj0TCmnPBo13SB4AOrKDqMaKXLzQVGe+DV4V+C2HVRE4Es9ctMaKPmvQZYrT3+AEtQidPMZfELmmabQu81vvn+GAwVjMGTKCXAAAANUGfMEUVLCv/AAAXTEMWqN1ZShvA2K5j0lirBF5nRY/20dGunCYBUAAAAwAAAwA2JVNn8IFBAAAAJAGfT3RCfwAAI6w5BW20/93tklgFFmolKmmsLUpQ/sdqepawlQAAAB0Bn1FqQn8AACS/BCcSzuZMEE+wNaICggAOFRtMVQAAAGdBm1ZJqEFsmUwIV//94QAABDIBdRubaxrkUzrKbCXDuU/vgR3pAkAZj+kUbnotsJE+pKdmqU2+n8E1A6qtMQFgZhumOaE/2S5UsoVPdoG5H+bkwj4fnqEzrQEowuco6PPuIU3AdMvPAAAAPUGfdEUVLCv/AAAXRSs+NJC3mEYeLfYBr0yg8ye1huggvQqPgE/+oMRyhs6Ng+kbywURxpuAAAIkBDTCBN0AAAAyAZ+TdEJ/AAAkwxdm2VOEFIWirHwruZqI3iYYaZnusYm1YQAAZ5ObJFg6eKyFS8v5pUAAAAAaAZ+VakJ/AAANz9Y0xMtbsv9dh1JbHGklhbAAAABMQZuaSahBbJlMCFf//eEAAAQzW7RjcOqJsSL3z+qi4x59k6IfJRwZLi/3nwE48yg2oVGsp7Frw2eToWTPnEGg+gmknIrmKuNNpRM4RwAAADBBn7hFFSwr/wAAF0UrN2tasvcUjpVB0JfojknBO0IcsRmy1s4EgAAAAwAMhd3wgqYAAAAcAZ/XdEJ/AAAkwJnd6C46yk3ib6wlf4rOUzgWUAAAABoBn9lqQn8AAAUdPmG3ZGdtFwnJvv7btWpFgQAAAEdBm95JqEFsmUwIV//94QAABDNbtGNtIPV8R9XYskZ0iwABt6a8a/DbAkWsSOg2iVgdqjvuv8TMpz1EvsqG0NLyfH77q2QbUAAAADhBn/xFFSwr/wAAF0NHtw22IplhHaeFh6WDbIzSU7jyOF28NRIhVFeAgt+jAB2XYRX4Ex5ar7EBlwAAABwBnht0Qn8AACSr+Ft4Ep1oI4gRnrkaA90L8ytTAAAAIAGeHWpCfwAAJL8EJxLMUKglKBd2cpP9vsCCNbueEkWAAAAAPkGaAkmoQWyZTAhX//3hAAAEM1u0Y20g9XxH1diyRu2A8egl25ANutlS3x8GJEapzcod7sJbQj6WUYeuD7vBAAAAMUGeIEUVLCv/AAAXQ0e3DbkcL+XQ/deceUMpKYYPE8tNUvJNrSofW6AAACWpVRosCRgAAAAgAZ5fdEJ/AAAkq/hbeBKdaPMHTTIvo7J5lQ7PXXaGHqUAAAAeAZ5BakJ/AAAkvwQnEslpmrhWUx8qO34vrhkUcu7hAAAAZEGaRkmoQWyZTAhX//3hAAAEMgF05cd34OMjtPB/YUwe4WO+lD5XLmjAUncZgamWj3b3F5MpbxHdDbjCa+jEwUzgJOLw9DjpHwxlYYIS5uSwLcSRPmHqorJF/lmuIeJplA9DuUAAAAA2QZ5kRRUsK/8AABdFKzXXhVwmhlZWEAOMcctSj0vrb7xLE9D1Gakcc04TIXK4oABS25+/CCXgAAAAJwGeg3RCfwAAJMMXZlLimN4DvICbaerJLFx6FvQ6EZ2WN7s72TKobQAAAB0BnoVqQn8AAAVBPhcQrDmr6rsAmF8j3/YooDkpsAAAAENBmopJqEFsmUwIV//94QAABDM5IXOXUSXNXdy0NWHNyMQnG3AA1ZCvPwzWyLtmRzMP7P7obthu9cLwdFgSYOQ1zTN9AAAAM0GeqEUVLCv/AAAXRSs3Z/AjAYHd5dZwXhmCD0Q81ZgqBsvFHFSZgAAAAwAAEk+wNkQETAAAACEBnsd0Qn8AACTAmd3n1RxZmaJIExasTYFDeeXMfKQ/9MEAAAAZAZ7JakJ/AAADALooEr1RJ5PxzRu5xZt2pQAAAKNBms5JqEFsmUwIV//94QAABDNbz86YSQW6r5MXPXJxeUyWpYATVUOhUXF2alVIRZ4ycF8hoFTPCrPUVJO0o03xg0HjnWphkfKu/URm+fU/Xt5H3TMbogV92f+XtmWFpFte5LnxhVkn4x6QjMpBKSQ8grvnfPmGnvxXPnMavhpUXjIR/W0QkQTRPjxEB1IgtzzceBBXNonlbOKFxIRUVJDLlfjhAAAAQkGe7EUVLCv/AAAXQ0e3DRZphgAIh/En91UyJL+OTRBqVF/cI+NZrxSoNBfQsza126WYgIbEEYEAAAMAFOs7xiA9IQAAAB4Bnwt0Qn8AACSr+Ft4Ep1oI4gRnrpQGSeX8ORJtl4AAAAkAZ8NakJ/AAAkvwQnEsnU939Nr/4FYLz399I/8fFOKQFHJMWpAAAAS0GbEkmoQWyZTAhn//44QAABFPZEwTcuyDuzVCX2SFUyTZu13ALIhCOch63l/1Bk7IfsEIY9uUOCcBZ5elWqEWK7N5Bb2OzSNpOU+QAAADZBnzBFFSwr/wAAF0NHzqhCKgBJcss06T4hMp1QkL8M901xtfTQhNDSbycAAAMAABPBAFr1AhYAAAAmAZ9PdEJ/AAAkwz4Bk725s2GQMTUdp2xXVp90aO5VmaF/iKTPcEAAAAAdAZ9RakJ/AAAkvxrOe94JtmKxWIR2SBWCSUdUz9MAAAA3QZtUSahBbJlMFEwv//3xAAADAA3NN3wQFMPtez6PYGAGg9W/PYXCJjAND5Tq553yAhMX3CNvMQAAACUBn3NqQn8AAAMAvv1jTIhOtetD+VsLQTEBVRehXeAGFvgMQKmBAAAAOkGbdUnhClJlMCFf/eEAAAQzc5LvwkACIlRGzEqAbb2d4dGDr8LsrodF1XzkEWqmXwB/QerQOM6LZ8AAAABxQZuZSeEOiZTAhX/94QAABFP2vDerGs7E9jqDmlCjs1MM5YyH1O/GB9qK4EgHV70c3z+8azJIer1Kr5K6k6a9J6Y8PUu5EX4kfFR/MkMlWMrXBgMx7gyewr3+DUg0T3fHDvLp2s7/vOkfBLquw54EbeoAAAA5QZ+3RRE8K/8AABfiaynvPCOCefRFOuqmcFJAJV7nD8bNYzHxEFtrCojdaSioPgh3AADYDBJKgLuBAAAAJgGf1nRCfwAAJav4W3gSnWXZCm7G0NVMc6uyRNkEC9ahmdVJFPpgAAAAHAGf2GpCfwAADiv+q2MmF5/Xe6Dos6My8KK2QYAAAABJQZvdSahBaJlMCFf//eEAAARTW7RjbbF2l2kMTFVQiHWIj1koJdwCLj14S2uQJkcV78qbG6NkMqB5vp7lGw/TaYjFqrB3ZC5kQQAAADFBn/tFESwr/wAAF+CHtw25HOTaF2kxyXSSumo6bjGKwtOfuJyTltzoAAADAYDV4gM+AAAAIQGeGnRCfwAAJav4W3gXT9/0VnQ1SbSYQsFAZc/6O6ZZtwAAABcBnhxqQn8AACWxzAlvqW+yB5CHbIPG9QAAAGVBmgFJqEFsmUwIV//94QAABFNbtGNrsUFZvWo8DhP2MwEIAfsKSiN6CYg2gFU2U3bRQhZGGyZ1ioSqNIboy7VAklMoMWHHKCXw6j7+QzeH7GrQojw24vFXI2s4j2WoGQEUToLUygAAAD1Bnj9FFSwr/wAAF+CHtw3/pQUXbGk/A3teQAzXnfKjnQr212TJt2+i9PUncL0vBPSWAAADAACiElv5iBHxAAAAHAGeXnRCfwAAJav4W3gSnWgjiBGeuRoD3QvzKz4AAAAmAZ5AakJ/AAAlvwQnEsnU+NuAgIIMUT2iUhrLXOKJQ/oDvapmFn0AAAA3QZpFSahBbJlMCFf//eEAAARTc0Tnhqqos+oIn77XRGEGtyXUDjYq3PtvoBvs6tY4ymF9j6SQhQAAAC5BnmNFFSwr/wAAF+JrNEF8HtmCnzYrb+or5HAU9TZ8cEqMMtAAAAMAEAfpqBFwAAAAGgGegnRCfwAAJcMXaFURFg1KnfOcA6VuPcLyAAAAGgGehGpCfwAAAwDESVLPcSWm3umfHpIG8C2fAAAASUGaiUmoQWyZTAhX//3hAAAEU1u0Y22xdpdpC/nq4Ni7jQqVgBSCLJfLLpDN4oYpeinxJAlmS55gpljErlmBHRrQs1ALQiIOZfAAAAA0QZ6nRRUsK/8AABfgh7cNuRuSbOOaQLfax5u2QwjFVVcxlNH6xsaSUfecAAADAFAn01Ai4QAAACQBnsZ0Qn8AACWr+FtdV6A1YlNxfJqm0vcrROA44uxnHQsTJBgAAAAYAZ7IakJ/AAAlvwQnC0jodR7+jh7N/CphAAAAUEGazUmoQWyZTAhf//3xAAADAsL23k2hCZ2cUwyh7rDoVFKF683eMMYBRzftx/E9ZTyR+f+aiULWVleLL8/UIMxwt0NcSdiLNe0vG3BaiJatAAAAPEGe60UVLCv/AAAX4Ie3DcOKAEtKtI14sRnaRf13qVGVrbz88HUepjPxtAEh3CoI7GDjeTiAAPLfuWCLgQAAACYBnwp0Qn8AACWr+Ft8ZTQOhNDKAAWGUnrcgChVQCXWgn6hytRz4QAAACQBnwxqQn8AACW/BCaNAiVt5DIHmrs6C2M7sZvCv7KLypsBy+YAAABqQZsRSahBbJlMCFf//eEAAARTa4zhiHY3EgBsSTr0wOcfjD8soTR4tU3NolAAslG8j1MCSE276qkhsweT0uqpYDm1QIBO2YGJu2smaAdfzZZTVhE+AS3xUpCVgmiJONTR36bcsb0IIoHmGgAAAC9Bny9FFSwr/wAAF+mDzYooCni5Y0zqTfssSYE9Xzf9TR1Hx43npIAAABEam5YIuQAAACIBn050Qn8AAAMAwejS9FCRzr51UurMf9Os1yGAKuE5ttacAAAAJAGfUGpCfwAAJbHMCW+pcXtakzLoA6RElt4mtj2z75OdAaJtwAAAAI1Bm1VJqEFsmUwIX//98QAAAwLC9v7ABOMrg6KoFFpJgTe5aqNZbJiICm+N7mK24PK9lPFiESqGA3dyhmnMbNBTF5iBwhn1Oa6tSdrCekGiJR04ZbTpjUP778KLpCRWaI0vfZnhNqFrLogBknPOmrWzg4imwJXPk/dm8vHlNBIkDvu1u3dgANodFf6VaWkAAAA6QZ9zRRUsK/8AABfgh7cOLQVoABbPDhigvkZ7ZtzUOd1lmiNbAfh0voq3EK6PYEPcAAADAApx5lUDUwAAAB4Bn5J0Qn8AACXDF2ippVU62vNG5/RZsmmbOWpQB7UAAAAhAZ+UakJ/AAAlvwQnEslpt9rDQo0/EXB0ESVDk+Hb2rPgAAAARUGbmUmoQWyZTAhX//3hAAAEU3NO4AOwUwVpI0/+SdL769Z2SyZZU8BF+YfVNKAtijkZLp1l/ucJfTK8dREbAlUBAX5roAAAADBBn7dFFSwr/wAAF+mDzbh4i9Zyg8eT//gNRQwJGLSomJ5DOZp0TAAAAwBMwHxAtoEAAAAfAZ/WdEJ/AAADAgrBj+cMnFW+H8U7GnQTgAEyBJ/9MAAAABgBn9hqQn8AACWxzAlvqW+yFUj/yjlEGhAAAABuQZvdSahBbJlMCFf//eEAAARTW9G2nU3pmbwuWq1H4SBbCndSXSbLV1FvqLVM/2i39jd1gFHn8Bw12EdjWxSe/sHdl4+Mvlssk+BKS81lxUTTn+HTXfbuy7mTdqwueN3INfcUH4iYgirAj+ORUREAAAAwQZ/7RRUsK/8AABfgiIvfKvCMuk0eAQaOvGs+j1Ba4Oq/P6aThMCcYwAUkAjv7ArYAAAAGwGeGnRCfwAAJaw5Ba5PHz8Vpqd5b8A4ZPuZbQAAACEBnhxqQn8AACW/Gs570PdD50on3zRYXUTsnbmiUeEtECEAAACBQZoBSahBbJlMCFf//eEAAARyt1Iy6xn7mYl2Bq3I120Ldh6lqsDxIUrJqvPd71uh4/bvArRbPWoOP+5gW7qg8M6JwlDHt/8jJCAFhpxY+5zj3AO/CB3K6uj5cwtdibkH1U3yIdHef2i3O9gP0+6umH9MPsrHwjY5jXhNAYgauA+wAAAAQEGeP0UVLCv/AAAYgmsp7zwjgnn0vZhZQgFAC/sa/JYstOKwTRrii+UlejqbAz92NMWdkEGAKvUAAAMBzOdrArcAAAAiAZ5edEJ/AAAmwxdonQXrcuLKb4NvENq8/eTDbISmoBOS4AAAABwBnkBqQn8AAA6D/qtjJhef13ug6LOgQcFWCa21AAAAREGaRUmoQWyZTAhX//3hAAAEc1u0Y22xdpdpC/nq4Ni7jQiAA2NEkm8t/qQ6mgErbNCcEUwJm/kOscVWr4Gkwiw2kNa1AAAAK0GeY0UVLCv/AAAYgIe3DbkcL+XQ18IZPjccuySQcdhXybYAAAMAqT48IccAAAAXAZ6CdEJ/AAAmq/hbeBKdaCOIJciWHLAAAAAkAZ6EakJ/AAAmscwJb6igkQEQL8iu06Kl575sgMixOUfhqlFhAAAAUkGaiUmoQWyZTAhX//3hAAAEc3Powa7mm40jn5ArKJ2kyQHA6ye4fAHU/MXc09Vm2Yv/K51L+bgKipP/pUeRkusAdNmCWq3LQezr/lKJ+Quxo7IAAAA3QZ6nRRUsK/8AABiCazdrWi8RmCBtQAjU3ta1u7ibZ5bRs+jYe8PbReOFeuAAAAMAAB+pnCD0gQAAABcBnsZ0Qn8AACbDF2ippVPU+8J5f+dxGwAAABoBnshqQn8AAAVlPmG3ZGdtFwnJvv7btWo9wQAAADhBms1JqEFsmUwIX//98QAAAwLW1Bas0QA1xMhSadKNTNIuOH8LVSbqjuSjjdlbQIAsH9TWJ0A0IQAAADNBnutFFSwr/wAAGICHtwyJTECe+8pdF5mZybZ12lYinX5OFXmfSpIHMMUDwAA/FxWWCPkAAAAoAZ8KdEJ/AAAmq/he0p1zP+PrsViLOwgRDXts4SzBtyvQwz1HPGaBBwAAABkBnwxqQn8AACa/BCcSyWmcpoDXQldlt1tAAAAAVkGbEUmoQWyZTAhX//3hAAAEc3NE54aqqLPwYnfJHSdKKwrqKwEVDp/IJwP0dkQyyqHXAT/rOBeNrnmppzs60h+eKkDFlFDpwk0WMvvF4/aO65gZsg2gAAAAL0GfL0UVLCv/AAAYiYPNikgkqXYi6hQxoc1tZp3NAyZsLfETmAAAAwGVa5k7whGxAAAAHwGfTnRCfwAAAwIMM+DnKlusb26ajGKyFxhs0yVoyoAAAAAYAZ9QakJ/AAAmscwJb6lvshWW21LLo/aAAAAAVkGbVUmoQWyZTAhX//3hAAAEdojEdjnLj7aefBUQExrVwgCJt3iyF+DWSQy07RzinfXjHf96UPdvFUfZgq7NYt3L6h3452lpAPi0ON1Y/r9lQTqH1OhhAAAAMEGfc0UVLCv/AAAYgIe3DbkcL+XQ17hcB4Z+Wq/nBK2tennTH9jwJHrH8ScY0WmBNwAAACMBn5J0Qn8AACar+Ft4Ep1o8m7kCIEC6xcnD19u+UBL2cQkgQAAAB0Bn5RqQn8AACa/BCcSyWmauFZTHypKIiXsr4kBygAAADxBm5hJqEFsmUwIX//98QAAAwLVAwmQL17CJfkMKD8k0qSYQkak94TqIS+uteFeZaxWjH01w6sw7PwwS4YAAAAvQZ+2RRUsK/8AABiJjmvDToDs+fEwOG8Nl+OjfxDisEKvWJolPuqZAAK1yLR4gekAAAAoAZ/XakJ/AAAmscwJb6lv0dWNoXp1ZLxJhrshOayfPWjtiS21EbVygAAAAERBm9xJqEFsmUwIV//94QAABHS5bu3mQO+a3gLGV7Ckf8pBUxKkOnuGIycGnFf6jVj9NoElMG4fbZfm/J6W13Udo5xWWwAAADVBn/pFFSwr/wAAGImDzbcV1eAAN0ei6CrHKUVsWWL67fPW71KUq6X7X6zMAAADAXSdW4CBbQAAAB0Bnhl0Qn8AAAMAyOE0NK4B6FsBzDaeINYtZcxZlQAAAB8BnhtqQn8AACaxzAjOPMfTE/XiW6Vy0OMFSbk7EFTBAAAAe0GaAEmoQWyZTAhX//3hAAAEc1vQhV39+WmXW/ez+E2etSbmV5ug8Wm6R8xzpcTsPTSZG+cgAnZRhEWSu8o8qsZnu8T+7a745YJlGG2YMNqZcIr+2Oeb7HcN8LkYOJWRRIm8Sqak6z3qeDOQh/uhh1Of97S/7Z0g3y6OWQAAAD1Bnj5FFSwr/wAAGICHvDoq+gBJcwtVOnYQyOjA4UfmxrXorE1MhRigSq3j/Ly9xPF8ae861QAJmfnz0IGrAAAAHgGeXXRCfwAAJqv4W3gSnWgjiBGeulAZJ5fwlbovuQAAACYBnl9qQn8AACa/BCcSyWmYEwxXkD6UB+Ks+02j7DxwUZ0fWQhZUAAAAFdBmkNJqEFsmUwIV//94QAABHS5gYADtysdFwEfqRUvHml4CHbLH2Rgl6LUQBJjdcvVqBI3LEMzOK72wzvOqYMQFEBtXqSJgRzWiCqWmy5Vzy/H29iV9KEAAAA5QZ5hRRUsK/8AABiJg0ZW4ua5t7EN62EAH6R4hGvWXC0PboITs/5bGQDqaMACJcAAAAMAC35EmoGVAAAALwGegmpCfwAAJrHMCYZJpkiQAsvSuibYhNixgQ0witXoeLDuAE7FCATpez2HS4WUAAAAdUGah0moQWyZTAhf//3xAAADAtUCxKjzqXButBmgNjOvD7TKsChQh0Cn5pSyL/dppGwAGjliz4esdPif9xEaur5CugZ7Bj83fjtijtccYlN/p1l7Braj8t9pIQG6ethpcXhZm7+XbJ2HO3ZqUds+MQ18zOzQZAAAADdBnqVFFSwr/wAAGIKYRVdP8318OsrgQtyjn5L+hMMDVqqgSJU//ePDcm5bjG2AAEEuWPe2wKCBAAAAJAGexHRCfwAAJsM+AqJm9bgPCRnJKDbiqMcPCOnHx5TwW3SygAAAACgBnsZqQn8AAA4r/qu8qPl5RIMV5Fp09WzgRCyLNdIWn8ElKtG1CllBAAAALEGayEmoQWyZTAhf//3xAAADAtXt3wUNeUf1PElC/PWBu49+ASKiigD9cg9tAAAAV0Ga7EnhClJlMCF//fEAAAMC5qN6kzefdmsoTSA5AnJOQazhbwsZ1r8cA+SXFl7aS0AFO+aFBjhJZwfQDHcvHj2x4D20KdFmSbielw+fXrn1MVjrXLgqgQAAADtBnwpFNEwr/wAAGSmDzzmH1lTD2AANars53YS2beQYq8hsYyUv/piTfAv/vYMWzHg0An1kQAEyfGFjZwAAAB4Bnyl0Qn8AAA4kUPPUJxcXApSpblwAojl3aNpxH4MAAAAbAZ8rakJ/AAAnyYBqYlsYeH0KFjpp9Tmm++FnAAAAS0GbMEmoQWiZTAhX//3hAAAEk3NE54aqzuf2JleRI8dU2auB0WIiAUr3RH1USXLxFP8i85i4W8RiB0uc3jaoWkk06/rDLo+wg2VSQAAAADlBn05FESwr/wAAGSmDzbcPgV+xEJLvvWNNI7QAOKauGbuSS9WW2Rg/BR49v4wWT12fwATL1JioQh4AAAAgAZ9tdEJ/AAAOJFPqgCAcWDWaGYO//QhaMGCkn/ZLfjkAAAAnAZ9vakJ/AAAnyYBw2i285f86Opwvq9/dCPcAj5sDLAqfaThCwWygAAAATUGbdEmoQWyZTAhf//3xAAADAub21Z0cqw4imREY/TE4MNW4sYJWEbBZNb9dQKvE0CbUAUA01QpjHxp0UHPZDd4UBWlx/5Iac6T5OPE9AAAANUGfkkUVLCv/AAAZIIf7cJ3IcboNVkBNwNZR6RNdKzrgSn7onefL4hLz4km4mQSAAAAkTgMXAAAALwGfsXRCfwAAJ8KTTYONphzL6Yar+7NJVOgBW+NerSxoe6Nv2cZJEEgcar7l2NapAAAAJQGfs2pCfwAAJ9mEsd/yMSgaBTv3pHCX6R8oYX65Zh8TWKiTsWEAAABAQZu4SahBbJlMCFf//eEAAASTc0Tnhqqos/Bid8kdJ0ooOcaQ+gDb1jaD9R2XVqARFRooGEjfFD3C3eQWTwM4IAAAADFBn9ZFFSwr/wAAGSmDzbcPgP9Y3IAoPAHZuWgp7INinZz0G39SnTxpQAAAG1XbhGFAAAAAHgGf9XRCfwAADiRQ8+GO9iHHs0Jye6WjDYFExax1gQAAABkBn/dqQn8AACfJgHDaLryaPckjRa5s3wyoAAAANUGb/EmoQWyZTAhX//3hAAAElLlsqb3LVQB+KNqRA/9oPq8FbiW6goyC3bJGFs5oe3FR0spAAAAAKUGeGkUVLCv/AAAZIms3avgaamW7TgrpN0vz8RAgXPcvktFPGJa+YhsxAAAAJAGeOXRCfwAAJ95faKk279I3rhkaJ1hPzZXfmtQMbZa6q6dqgAAAABMBnjtqQn8AAA4r/qtjWWBSaCbhAAAANkGaIEmoQWyZTAhf//3xAAADAub22GeK34jDtB7YcpY8+bGTxGgAANqkmsuutRT/mL6PkzkcYQAAADFBnl5FFSwr/wAAGSCHtw25FhWmTiN2DSvnGo60Ip0vDxLcyAAMawZY3tt+wnF2ohswAAAAKwGefXRCfwAAJ95faKk279I3rhi72lX98lLT3gHNTFN2l6pZ53Gr1bymxYEAAAAiAZ5/akJ/AAAn2YSz3CcqoVuNYJVNMXplmG19fqdeE4f9qgAAADlBmmRJqEFsmUwIX//98QAAAwLo1Ba3RIBrA6JXFa08OX2U1RJwqVCiGa5PO7w/bHKPu9djdItvXIEAAAApQZ6CRRUsK/8AABkpg823D4DQqam4d2XzMac4YrNE7QUisQAAJqIBBx0AAAATAZ6hdEJ/AAAOJFDzJY+P8lCzgAAAAB4BnqNqQn8AACfJgHDaLryaPckjPNfzQQMbI2f+2LAAAAApQZqoSahBbJlMCFf//eEAAASTc08haBZb3hWhCQ15yX7wTxv18ssKmUEAAAA3QZ7GRRUsK/8AABkpg823D4Cq+pFuWd4xL8zt+wA2vePM/0Pg2zsyK1ttauV8St3IABWKziDjgAAAACABnuV0Qn8AAA4kU+qAIjabgh4CXZ87zIGq+bHnV22xYQAAABkBnudqQn8AACfJgHDaLryaPckjwbWWbxZwAAACmmWIhAA3//72rvzLK0cLlS4dWXuzUfLoSXL9iDB9aAAApSFAAAADAjsutjQO/xCKPgAAAwFjADkB4hihgCJirFQJUTL4PDj4A0bGqzYbB2BRBUBM3bN+RIlV8P16/704RPEdxlVWsN7YZxpg9W2Ce3gfy79U3lpEgiR672mscmtCqIi2PbqJf8F/P0Rkovnp9EKY6p0QT86OBrtTOEyLbS8igHSB5dqmdiZatlacvStal1AVr7nKTS9uVJ01HsFdvyg1kx8de0+n7lWkHO1KaKcUFwD7sj3CiE4Z8ivtYeu6pb9wRVbddnI8o+MdzYXIJJZEQDttuBY/oOSIwhirYbDhkEpNuCoNk0pd+jYsC5E9wDlEdXd7KtH3Xhk5AvZQCqqRJfgzwzq/Rt+66eNPaGmofkehGq6vCs3xsqOJJLygGKcDB+87rgdUw7YPjr7JEGYvQxWVnfUTlavaAUDwopIF8JEq4nEf/YbDcHOPZZbOHaoCK18vYLShp8WE6lRzdFJUIeYYRnIA1Q7s/5JJ2pJhcCcBgC7YbPmPj5tcq4cxaTzT8OXW1fKvyq0ZG17hV94oFs3hY6J/CWzNKknPUdnD1z1YrzdiVX4Q35UNz6Wu38Qtse/mZtQOMV/btryFLWWWV91hGgtC/yzH5fYfzeuj4Cdlwr2qvLkE+muuIsysj05Vty9yHaIbyZU90zQNwHqxlOBhQ3ptbWsn21WPvPv0Wn1gLdRlCRXFof2bSlJBFF3pCEAqwhgDMTbzFCoi2plaZU9u/m5dJgAEvaeg640ilgzQxwldW2/K1yWA2iH2HDhzDYtyYB+Bs6nc16fHtaGMAE81Yem9tB9s21iH17dSDQ3pGvukt/nY9tbC5JwQAAADAAADAABswQAAAHVBmiRsQr/94QAAAwP10h6a8rQac6oSw+X7cWK6EMgPVw0b8AL7a7woqUB28ml1g0QpVoiS1bvuq7rg+w2cCtDn7lHYnpFe4z+C8WIvA7T/4nANUIAX6l4lKHCpcCghYL8hXlEHMalThZRyG8R6ehrfBu2P0LEAAAA/QZ5CeIV/AAAWLkuwQ85LOXS5zB+aqBORRxHkv92O6Vm+zBoMQic1UIAIelMTKt2QkaFm/PKGqXvGjp1OONPhAAAAHQGeYXRCfwAABPvL7RTL4phh7D4fxH1z6Pxpg/nxAAAAHwGeY2pCfwAAIrHMCW+o9h3DHfZt5k8qCJHPe7MAf4AAAACZQZpoSahBaJlMCF///fEAAAMCjQLDr2lIsIbiK8lm2RHwEX27aMuQr6v2aoqbXwGUV0NVahhtyL03t/6t0+uYGrNyF/lUwzzc2yGyNBRw9jzyaA+PqWqR2oeZeDVYG2r02VUo+BLOF2DloSzoktiEatWZpXu5B08Yk2LndycB3CoiaJz3T4UEprtSafDJlD79h5exr7obu9GWAAAALEGehkURLCv/AAAWJSs3a1peh6q6H74dpgswf7WZkSdhZMvW1gr9uPlgt/lBAAAAHgGepXRCfwAAIqv4W3gSnWssg4QUJ5I7//HCeszHwAAAABwBnqdqQn8AAAMB23/VbGss9JgoULLho5dVGobAAAAAh0GarEmoQWyZTAhn//44QAABBU8mbrM3UJMgAFR4bqvMFZs/SrSz+QXYk9yer23SXtvYhg8Oh/Q6Ydjl4Cuz+3lwRrW7ffRASzOhdINJpLlue2XVjUWJj5JEUsFgqxt/Azc7Pyuob/h8zl9ITG9c7EBieesuW+ybJeR6pXSiuxQobPe3B8fuxwAAACVBnspFFSwr/wAAFixObMLpz4zhia9NdXQNNqC7inTAhk7YrsYtAAAAEgGe6XRCfwAAAwAZHClG7fh/gQAAAB0BnutqQn8AACK/Gs58F3E2BiqrJK95qHckenm4LAAAABpBmvBJqEFsmUwIV//94QAAAwA42/7YEAB6QAAAABRBnw5FFSwr/wAAAwE1gXAc5kA7oQAAABABny10Qn8AAAMB5Yo9gH5AAAAADgGfL2pCfwAAAwAAAwGpAAAAl0GbNEmoQWyZTAhn//44QAABBPoltXin7wAZmUQzz1Cgr95hxvuxfUQsgf6XTgZ1lUcliJ0SQaVbn0yUTAXcJ49uaBjn+qGq6CqtXzH/WWH6Nq9cC8wAy7N2jfgzNMx4qKWi2nXi0EAgDnPWrUyNl4loetdWhgYmHckKoW69rcjUtymzJbJ4gH+ANMNUfRCwclVJXgrR3DEAAAAwQZ9SRRUsK/8AABYsULb01GNDzDcQIPvOQyBuXIpVw1FipyxsvHOfB4Z+NwYmYMWAAAAAHgGfcXRCfwAABPvHD+PLc4WpwmWgk+ERJg4Yo2C+CwAAABsBn3NqQn8AACKyPL90K2CYyzrpMOVC1xZRaZkAAAAeQZt4SahBbJlMCFf//eEAAAMD5b+/4S10jRMaegE3AAAAQUGflkUVLCv/AAAILXus2mNTQuVum1W+mK9HWHFLCvgHotxZrNADV7RdfqMqAGvXZ/+Ovfy/PDR5UrxhvGS7P8PBAAAAGgGftXRCfwAADTXvKbJc7gcd4qjOlCnOGKSAAAAAJAGft2pCfwAAIq4zBRakihFwHKLmq+PzS7pBxbp9yfap9msUnQAAAFJBm7xJqEFsmUwIV//94QAAAwP1XasdLCBy/DISEvS55Pj0B8QDL93HBvDM6cC8RUJ4oyO3dkgbnTQYpcplpCTS/Fop1tqx+cjsuLxZcJ866UNjAAAAH0Gf2kUVLCv/AAAWJVhVisu8ttHD9ij2WeMJtVvyMEAAAAAmAZ/5dEJ/AAAirDlb7B25t4in4lMpqvezn9ABbTZlQs7k08n4MEAAAAAOAZ/7akJ/AAADAAADAakAAABRQZvgSahBbJlMCFf//eEAAAQVGaCgAcK4OE9QKzCu8n5YUF5yb8wA6TmtsnSPcKHSeZveEl4utWUvwqKqV+qwtUc7mJD6WOPcX4hD13AcS76AAAAAH0GeHkUVLCv/AAAWJVhViLe2GbwUB4kKYURERzdqQwUAAAAcAZ49dEJ/AAAiwz4N2zvTCfkYuDbOZXrA9wtzHwAAABEBnj9qQn8AAATX44qzL8A7oQAAAItBmiRJqEFsmUwIX//98QAAAwKe9thnivc8DLWDqr+xGO1lPZg3+CtRg3+4AAKYSpY/BW6gvSsgNkc+Xb99RzS327v/kaEEBwfO0W6625PpTF9W/uxL9SDVBWydAE/4ydK+TdmIrMsCFPrnH7Kn2cJ+s+Fza1WzbMCd4GS7jR/p5E9sbefD7HxILcGZAAAAL0GeQkUVLCv/AAAWs0e3Df/HNwAAiILCFqo8HKpEgP8nemlSIlG29rjF5aNpT96BAAAAKwGeYXRCfwAAI6v4XVf5tbFU193SVgFnqCGxZ2RHrk/3Rbe9GrnOnX1JuLEAAAAgAZ5jakJ/AAAjvwQnEslpn56pzfhZ2x8xvhz9Fce/29AAAABfQZpoSahBbJlMCFf//eEAAAQTc0Tnhqqos/MMXaHtxDRKZ8dPy9PanzxX4fb77tbQAoPHPN0aG8rzUZU5W+ZJwrN9zEGahUuOO/PZ3Pf9nivfyRCEMWhzl1gcOp0MuhgAAAArQZ6GRRUsK/8AABa8Q834lvpL2xQ1dcmSchzz1V53FPnWvJsmBS4jd1pHLQAAABYBnqV0Qn8AAA2F64eK2jcay9bUkfPgAAAAHgGep2pCfwAAI7HMCW+pb7IVSSEojJwkUUFmz9Z83AAAAHtBmqxJqEFsmUwIX//98QAAAwKe9thnjF2eC2NJ07LKT6eY3hLO1d0fvXL1KGq3TSicbp7vHKSAgCBy1sXo9MNnu+DlkshOpA6pVHgVWLDdpbQ8wowIoDaVAPUjustCN73dwPDJOgMf72jolTFR2Qur0nCfqWg0bcVbf7kAAAAzQZ7KRRUsK/8AABazR7cORm8TWRcFLAAcnnMX5584SCYopzaXjnuyUTxPUHw4kq5wcemBAAAAHQGe6XRCfwAAI6v4W3gSnWgjiBGeuRoAj5hvCW9BAAAAKgGe62pCfwAAI78EJZIGcXa2hxakgBbWujAeAzU9vPJkHjqED1EC/D3FgAAAAFtBmvBJqEFsmUwIV//94QAABBNzY++6HFU2bp0yxoBftWqGrgv5XMOSlP6AUGUaQbAgKxIqkbA/ffN5QUqA/JSZTyjnpzbw9bJDeleivwMlEhfmD7HaDHtaQ7nwAAAAO0GfDkUVLCv/AAAWvEPNseEOOjPQALW0YHsDTimcZjtyBDS2Y5/e7EDpyjfa9vvpGsqrPN/1+YAe/yrFAAAAGgGfLXRCfwAABRxSabUlBcfQc5NYyJpSEAeDAAAAIwGfL2pCfwAAI7HMCW/nCGwY0w4eMADc5iUfibGm2XzuSICAAAAAdkGbNEmoQWyZTAhX//3hAAAEFmI2COyNUDFgaqmId6YKphJqWQh8k8YdoKWQw+hcnHdlgtOHNtj+m1r8L5IpRIDvygRnnM6nwSBbFPxIO17wV2J8dUqsH85eNoICLFlabU2WkDJtjgPqsv/Hg5AfuNxUfiqSI4EAAAA1QZ9SRRUsK/8AABazR7cNw4oAP6UzYkcga2ALFrC/scXKQFjlumvqjijctRuWWjuVmCmvByQAAAAeAZ9xdEJ/AAAjq/hbeBKdaCOIEaLeOeoANfl4sjkhAAAAMgGfc2pCfwAAI7HMCcE3YarvsCyDi7bfcoASweHhO6bYTTng601z6jxXt1jBt6HkCi5JAAAASEGbd0moQWyZTAhX//3hAAAEE1vAm/UVjwADWz7nm35p9pzOmR+T4m9xoaYsv+oE7e+pWxdLbBef9f5utu44arSb1i1o7aBq6wAAACxBn5VFFSwr/wAAFrNHtw25DyzpLtiCgK8AB0wPNT99YI6E9MYwW6wsKtu2zQAAABcBn7ZqQn8AACO/BCcSyWmauFZVICBZQAAAAJ1Bm7tJqEFsmUwIV//94QAABBNb0PA+ggchBKGq4+NOTUEGjxHJtMqygTggXzvEjW8ZnxknW9cPaxqP2vry4YSRYE/r6xxcJ7pRJ8ugvASrETINI9l7Jp12cCl5z86plFxWxEGrUdZgjYBvY1/4a6IW+v+B0lMwU79Y4mU/TfLEYlKbWgn7Idvbb07s1R0lFZ6mMMfqSqEIXy5QNJrRAAAASkGf2UUVLCv/AAAWs0fOnVyYT/SE5rElFiPuJJIDFcHKOpCrmRnL8yav4K40YJwAOETwVIBZl5Ld4JQy7jaOkLkOJ515zDV41oGzAAAAKwGf+HRCfwAAI6v4W4koOoC/Upi5N/ojJX70e4o0AwwHLd0lU7VTvQBCtmAAAAAcAZ/6akJ/AAAjvxrOe94JtmKxV5ZQlt8FeyoGzAAAAFdBm/9JqEFsmUwIV//94QAABBNbz8MDO3N+WPB8is73iz9rQz+EKw3Od7QklfXhif8R4OSRYhH58lrwArv4UoNaLVj8dyKLSJrHR4/jJQujQ7YvIY8xf2EAAAAjQZ4dRRUsK/8AABazSIvfKvCMuk0eAPfUpikpLuNDlnpnBgQAAAAlAZ48dEJ/AAAjwzlUC1k/m1g1dB6CBr82ODJ814ml6Q1RaBcbMQAAACwBnj5qQn8AACOyKwXAq1CBH6ZvAAlehVrq8xsYm6yX/sua1Vw450F80V4lQAAAAIlBmiNJqEFsmUwIV//94QAABDNBur9I/1XknhqBUABnzC/fsEPNv+1cSkzrrieNOWk/F3oqrA3GED6DwV74jOaTJmUs2WvMZ7SC7y9hy062Q7/ikzAjDNXEf5NToRxTR+R1/uv0RH2x1RO/UjloleTAM4AICDbt7Dhhaf1AfP+AqEKZeN15a/9/wQAAADRBnkFFFSwr/wAAF0w8w2AgW1VvsX5m9kwndaICKTvI5TI5RrBgj7BYjI3Dz/kLuMn0E3NnAAAAMQGeYHRCfwAAI6xCUG/fZf+O+K4UtOw7pcowljDCNQLmGiRBB7ODsBZqLgAr29go4BEAAAAjAZ5iakJ/AAAkvanT2VV4K1x0vYpFPouPqIOfPlEIcnQfx80AAABgQZpnSahBbJlMCFf//eEAAAQzc1I38Rivoi2IVKdVNue/Qlw/fOximxpoAITDEpF9Wh52Yw8AQYeQbYPcEdJ+qSCsqx6Ov+RIqtbkj1i9AGFyJGJVOaFpNLsdKDbdMZfgAAAAKEGehUUVLCv/AAAXRSs3a21Nb3OizUTRZj2PSNP9gsOsZBhxkSPfQGAAAAAhAZ6kdEJ/AAAkwxdoqaVT1QR4qERygCBWfFlOEc6eKbGzAAAAGgGepmpCfwAABUM01bGsommnzBCPCgT5xXa8AAAARUGaq0moQWyZTAhX//3hAAAENRPQNafloyIq39JMBdFJIf4cu6AgtnPY04a3qyQCb80lihhXHxwKXlLZCgFzSPUqm1eDcAAAACFBnslFFSwr/wAAF0NHtw25HC/l0Nexku5Sd0kVSIBTkWEAAAAlAZ7odEJ/AAAkwJnd6V63KAD98dUsyhzLBH5R5cgieLpxMubqXwAAAB0BnupqQn8AACS/BCcSyWmauFZTHyo7fi+tjQSRYQAAAFdBmu9JqEFsmUwIV//94QAABDNbs7mAQKgd1DI9artP+prvhwf3pjKMuONPGkXoWOBUD3ZNz6wObcZQuDo3vT5TKhPl6R0DAN7Fz6UiZsAp7vkL+vHCQxAAAAAjQZ8NRRUsK/8AABdDR/txYK63fW87HCBG81Hdrcah08UJCRYAAAAgAZ8sdEJ/AAAkwxdoqajo55LJUww09mrNUw+PTqZhE4MAAAAhAZ8uakJ/AAAkscwJb6lv0dpJkP+Quj8VP5udv/+hJxFgAAAAOkGbM0moQWyZTAhX//3hAAAEM1vAm/OcWL119AyYDdHeH8UWgIAgWjwKloUbJ+yWZGHpvKOBMncw7zgAAAArQZ9RRRUsK/8AABdDR7cNtyPrkPZ9HBmO3zt6sRdT08/DyKZgkxexFgT5gQAAACgBn3B0Qn8AACSr+Ft4GZs7CVVdpppjAnzU3a9adpqxTH6Yc3N722tSAAAAHQGfcmpCfwAAJLHMCcE3YQCBbgmSn1gkDFF/zg3pAAAAhEGbd0moQWyZTAhP//yEAAAQSzPGoDBJK9JEZxoK+YyRWO/s3FD/TwUY9AdADxxWY2K4hJxud2D5AwtN9KWZZyeLOIcCDoyy7PTmeUhVYsTu2A+cQtS/z/XY4oEs8idrH5KASKF74VdJcAJm3585d+QqiyP07MCOqY1RnHVb/ShiWb2XgQAAADBBn5VFFSwr/wAAF0Kr6LQ806hhF9GFvRwo/9/aEgBnEbzlPwz0iS9JK75nyIT143cAAAAqAZ+0dEJ/AAAkq/hbeBmbOwlVXaLXfyrP3AO3u1e1kwWTTUeLNMYrMXe5AAAAIgGftmpCfwAAJK5d4R2cQ3Y3MpkgBLHv7gzXCrjM3YuQoIAAAABpQZu4SahBbJlMCFf//eEAAAMBkRzku+dTv+IHtf61EuY81z4pnXaF5BK4IwpQugJ275vANFJclIrLCy+R/fAVfM3/jqYejBUJl60YlfLtztWVPL0jeJ6jCupLTZPvB3paXQMrLBd0Mh1nAAAAVUGb3EnhClJlMCFf/eEAAAQzW9G2nXdingiHny+4p+pf2rJnR9oFzxPb8A1Kn1sicFYR0QHyQ14+0ROasFx3IlG3eLjY0vsP+215ir6KgFMgbA4qV+EAAAA1QZ/6RTRMK/8AABdDSIYEJK6QR2qcpCoCL2qpFzTR7hY0AEOoYAF35FC/XllkbYhEoBg379MAAAAkAZ4ZdEJ/AAAkwzq/RvSDP/WO/lTzDEvPwlJli47GnkdfcGpAAAAAHAGeG2pCfwAAJLIobQQL3Rmx10iQ0f5tfLL+wW0AAABpQZoASahBaJlMCF///fEAAAMCwunsgDVg+Cs7YgyQCk+731CazmXJGEY4Hn2pPEpo7tBdXiGTONubhkPLNuH1xcfyTbz6Epy7gp/8udboIeDtnuk0XSIoVDi9kJRKPXRllQXpPpuhCLxWAAAANkGePkURLCv/AAAX6QTXTfbDiV1lQAfL911D8A6zBV3BS4ug7aLSmWa2UiQmO95Tv0y19QgorwAAADEBnl10Qn8AACSsOQdvqONr5A/6qAEly3GM1/4SaYlsE/xFNEdOuTu4WNBaEgtacEWAAAAAIwGeX2pCfwAAJa5eM4IvtBcDfbfM5+EJ9+kwy7+8oznfnJ2BAAAAXUGaREmoQWyZTAhX//3hAAAEVLJksP9IniaEARO01vC3tBKVztw6gh7jDSZEG9YlCx9BLcPg4WdmRA3zvb0C44+nQVqTWb0pKqkbDEThaLSC72lF+LsmlNwzVR1+qQAAACRBnmJFFSwr/wAAF+mDzbbcc9diY4IrE4UMpHNWaZwWx4tYIEEAAAAjAZ6BdEJ/AAAFZ9DAVErRIKkPt9ziFgPmt24MuwZor8q+JmEAAAAcAZ6DakJ/AAAlscwJb+cJ+KqHWlG+wOmXR8vh2gAAADpBmohJqEFsmUwIV//94QAABFNb9eB3P2olHgAiyP0kNmK2G7Ro3wn+xsOtYmK3TAgdr7DwUjKygyVgAAAAKUGepkUVLCv/AAAX4ms3az45zSvaFxzh5+65mLCcOKvfK1gZU/+wTyz5AAAAIAGexXRCfwAAJanpxxOFdDbkrX+qjMCdiHVj+D+aYPCAAAAAHAGex2pCfwAAAwH8PyhVMtgJIQLKRXELpYi2TIMAAABIQZrMSahBbJlMCFf//eEAAARTP5p4Ziovek4bjmnPCIptsZzZyQIBmH636sXHU3+oOYLxlkRo0Dvr8f0z5RGwMcHK+X8EYVUdAAAALUGe6kUVLCv/AAAX4Ie3CrYPkCQSFR0saLEOcr4x095kvdw+wvrEhsPVRCDbgQAAACEBnwl0Qn8AACXAmd3pXpHcrrd2iOW3PlMR+Mid1E5CUnEAAAAgAZ8LakJ/AAAlvwQnEsnU+hWCLRGceY/ZRvhV3F/yB2gAAAA2QZsQSahBbJlMCFf//eEAAARTW8Cb85xdEQA0v2L8qgKnw79hnDqcPZw5dj6ztGrGt15+Von0AAAAI0GfLkUVLCv/AAAX4Ie3DbkcKD9rO6HYbEla7si6MXN5NNkHAAAAHwGfTXRCfwAAJcMXaKmlrERdVOJGO7f+E54CrF5/IMAAAAAhAZ9PakJ/AAAlvwQnEsxQqCUuAAEiUWcIb88C/vVnLECAAAAAhkGbVEmoQWyZTAhX//3hAAAEU1vPzphJBbquP0ffsCRMFZa/KAme2q+fOJugvGEhy/OhD7q5c/X7Sir38F0SXB8m+PmHx0KPN/iBLCLi3r3xHwE8oQtNo5aTQOpmIq0G3AOdY6JLvwAQ3fqT4dno/l2KW+aWftQuE6YGoRcRyHj03KwcNsr5AAAAMkGfckUVLCv/AAAX4Ie8OzNtddgchkQBRTsWwWFZf0p41fxAqV4Smkxg8rqL6zgIHByQAAAAIgGfkXRCfwAAJcMXaLA6aA1MBqrr5kcAi/shGGwvt5nH9CEAAAAmAZ+TakJ/AAAlvwQlkjupAqbxofO9wib7ckY+xXs31WgD4PX1I28AAABUQZuYSahBbJlMCFf//eEAAARTOSufUqxzG0d0CJifWDIOW6IKdm/gCHeNJl3jUwHzJlYJs29JWawUIorPXQHfqzko8txD485S6Bw3C3CE2Lozi8PYAAAAJ0GftkUVLCv/AAAX4IfOtG5kCc86jXusT6n1v8P3uQyHA7XlHNpnyQAAACoBn9V0Qn8AACXDF2ippeGS/v5jAALYYzp3YSEStXvdSLqsCmBWTtyiX58AAAApAZ/XakJ/AAAlvxkkU5aPoLbc+5KIACu+v7366dVABK77Owo7l4o0FAcAAAB/QZvcSahBbJlMCFf//eEAAAR1IIvQ4o0xgPgiUo7GHvyNs36GaQgMtQ7sPqdnLN+dnxArTgR6hZGynTe3Avskr6FUqAwPPquF1nprjrKOqZD2vLZXiYKgvp4ccl5lNBMj0sEhfhedxG063bfxKizGiaeDK+LEghlTCVWlQy/qRwAAACdBn/pFFSwr/wAAGIl9LmNSMmMUl+xaDnHn2qV88o6LoeU6J30YVAYAAAAiAZ4ZdEJ/AAAlrDkFbbUj+UaJr7wbatJps4Q0CrD86c9HzAAAACQBnhtqQn8AACa/BCcSz3a8ITX1nekAaj79lWdnQ0tarnlAPyUAAABHQZoASahBbJlMCFf//eEAAARzW7RjbSD1fEfV2LJG7YDx4Z9pwS2AIFrLG0oetK/h1TXD0AvMYhDjt7BEaO76PEKhGpI369AAAAAhQZ4+RRUsK/8AABiAh7cNuRwv5dDXsZLuUndI2wHhgy+TAAAAJQGeXXRCfwAAJqv4W3gSrKAEO98D0854yQpjjo2v0fkOQhGfz4AAAAAmAZ5fakJ/AAAmvwQnEsnU+ha+v29mwAiriCkPd/csiWdI5r87iPcAAABIQZpESahBbJlMCFf//eEAAARzW7RjbSD1fEf6qAgL6hxtR2cpU2kS5ZV43Uyn51PCxUsw4jdG8Y3ZNoVXtbyFx2MPIhGszqxtAAAAIUGeYkUVLCv/AAAYgIe3DbkcL+XQ17GS7lJ3SRVIgFOPcQAAACoBnoF0Qn8AACar+Ft4Epg9w/OTJQADSJA+pF7mLYRV1YaNXWo6cwgCx7kAAAAfAZ6DakJ/AAAmvwQnEsnU+hUpOVvq2vzici5pMC6mvAAAAHtBmohJqEFsmUwIV//94QAABHNbtGNrsUFZvXX6SSJXAAGumsTFkE7GZxD/zk86A+cTPRkGjMvDuNSLqRa66L6PGcXyjjEO5PTyku1bX7NdAeZ3UBeQen1z1RS1/1axKoc+DYVXirdI+jI3y/oTAWSd9luWDNdL7PIEk1AAAAAoQZ6mRRUsK/8AABiAh0gtk0+tpb4+eQkgbY+fHmjjpYrzwEczifHcIQAAACEBnsV0Qn8AACar+Ft4Ep1o8wdNMi+jsnZ5/UK8ZasyPcAAAAAiAZ7HakJ/AAAmvwQlkjuy2rQ/xgDfXCa0zD4Dk1gZc5HDnwAAAExBmsxJqEFsmUwIV//94QAABHNbwJv5WmdqXWuPtC9Kg+mvlvj9gE11jToHjP8pU1ATOLuj1BN7FyXcxbTWhHox39OhujXL16Qi0rqBAAAAKkGe6kUVLCv/AAAYgIe3DbkdCWy1Or5C/+qAVVnOCKYwFO3Rj2z1tnos+QAAABwBnwl0Qn8AACar+Ft4Ep1oI4lxzC+CAJQ/PDlBAAAAIwGfC2pCfwAAJr8EJxLImsHr/FYEOia0vkfw0WbW8OmVxHuAAAAAQ0GbEEmoQWyZTAhX//3hAAAEc1vAqskBT3k2I+hArpES7giboOqd26RZv7z/crbYxbFn4nyAPr6nG8PNIKP5OHswjfAAAAAtQZ8uRRUsK/8AABiAh7cNsTsi5M8eWKyxj5lg0nsCVeQzCsGRZ2Fd7kj3iVGvAAAAHQGfTXRCfwAAJsMXaJ0F63LipxNklCmp+6xcXC2gAAAAJQGfT2pCfwAAJr8EJxLMRNa+jVQpQ8D8xGS5Xc6M06RZjGAE6pgAAACbQZtUSahBbJlMCFf//eEAAARzXAYADzU7hwqkptFPO8QDaP5ObzT4X0DQV+xLIXM/a7iylTL6dzCytR/CYgm+WditVWsSiN9RkEAkT2QveSQxhmpik5asyx5OLuBxSgJ7uLGRVz+K8PITrY4HyrwphsHpk8is6epeYKq4+rLv3SC2Q86X1cvsRKY3ilbw0rZEAPcxgIpu8Z6MPaEAAAAjQZ9yRRUsK/8AABiAh7cNuRwv5dDYff+WQhkTn1Pa9A7JvhAAAAAfAZ+RdEJ/AAAmwxdoVREWDUqd85oyF7r8kcacQKZn+QAAACYBn5NqQn8AACaxzAlvl3iEZNK0VN/oi4hLUgE/02UZ9oDwyIL3wwAAAFhBm5hJqEFsmUwIX//98QAAAwLU9uW/61DvZMfrbeXyV++DGjDT4b8gwQ0baycX7dsR/qtv9ABC24el30hewruvVZaPdqAwRGVr5YNx6ZIkrt+v129KFitQAAAAJ0GftkUVLCv/AAAYgIfOqDfbzAursAQ1EGIRJK5ON/49xtOuRsLDZQAAACcBn9V0Qn8AACbDPgW5tT9kpcmsoFRtJQxhrV7RzgngBU6Qs7b2H7gAAAAcAZ/XakJ/AAAmvxrOe94JtmKxWIR2QWbkBQ/jgQAAAH1Bm9lJqEFsmUwIX//98QAAAwAn/sRa7Fbs1bSPf/5gBYav9Hs45eGnlKmpPp1iaNk+u+I506qUwvstji/C+AohUbkRgjVaIdYF5QHgaERnD41rVb77dcCRbUGqI1ZTEELshOg7iOD8wLa+m0KlQF6Ife9nDHsmaR/1QAx2YQAAAFRBm/1J4QpSZTAhX/3hAAAEmVmXlHN/lcjj2XdUBrLSN8KfeZMGUOgrkwzXBQmwLDWgrm6Y+v8DiMvKO5+XG2vxOEkzdlbKrf0yhVWGL5tLOzE1RqYAAAAlQZ4bRTRMK/8AABkpfS5jWnKpI4QSaxLPlAKtRsgSK8uGkA+PggAAABQBnjp0Qn8AACasOQWuTx8/FX+FnQAAACUBnjxqQn8AACayPLneCu/lZ+OU+t1usKxFcBaM8q4DkeftyObuAAAAZkGaIUmoQWiZTAhX//3hAAAEk1u0Y3Dqh5PNUqY5LQp8Wd4d7M+y/K5mgW0h4CFHw84Ekw50xxMf2UPbT7dxo/kNkex+94JMw3W4y69gw71vYLGh/wSPVnwLOYDN1wLw5R4gTFAlvwAAAC1Bnl9FESwr/wAAGSCHtw0WJu1DkfJ9ndBdtx8SmiI0vaxQzb2Qqm7SVxPXHWAAAAAaAZ5+dEJ/AAAn3l9onQXsMgWkgJG4DaQNZUEAAAAgAZ5gakJ/AAAnyYBw3Ox5+6CKFxono4A/fvZa6IQtR1kAAABAQZplSahBbJlMCFf//eEAAASTW7RjbSD1fEfV2LJG72TwBawuMvSGpIqg8F82IJO/+jNr9b+r/TBRmeULpK+0wQAAAC5BnoNFFSwr/wAAGSCHR+4525XCHAFAAmlkM1WOr3keolYa0tb3mIf0MLhPdjThAAAAIwGeonRCfwAAJ8KTTaHKydI3A9nhTNlm2t9a64+ZnEddO9qjAAAAIAGepGpCfwAAJ9mEs9xJ1PoVOSaz/hCEPmzF4nS3BFNoAAAAQ0GaqUmoQWyZTAhX//3hAAAEk1u5Zv9BilfQVJwPZVCdU08svMah2O7nMZ0SDsb82diADa/QF9HmEjDPBsZ74JlF29EAAAAhQZ7HRRUsK/8AABkgh7cNuRwv5dDXsZLuUndJFUiAU46wAAAAJwGe5nRCfwAAJ95faJ0LdQAllPy7CczHshPyeNPv2G0Oir8efTWygAAAAB8BnuhqQn8AACfZhLPcSdT6FR53rZIVWEnEB7Ch42mnAAAAV0Ga7UmoQWyZTAhX//3hAAAEk3Nj77oizh2JAfF/33lGAI60Z3YeyIDzjkHIDG1LZ4xB4KFN+6JAZX7AYr5eAKVo88lHmq2znX7BCVt9wwpoD7S9vvEagwAAACRBnwtFFSwr/wAAGSJrN2ttTW9zosPYhaScc8WAMJGZGpcRo20AAAAhAZ8qdEJ/AAAn3l9oqaB1SO2WhsgW/p+pE1oEKzthqY6wAAAAHAGfLGpCfwAABa801bGTC8/rwBUNX82RQZ4TWXAAAAA6QZswSahBbJlMCF///fEAAAMC5vbeTaEJqJ+nXgSpADVqev4slPqc24au6+EHf2JSskENuGOxGnrUgQAAAChBn05FFSwr/wAAGRAxuBIaR6uUVUT3RumKUegtvJzRNEHmb94CjKoMAAAAGAGfb2pCfwAAJ9mEs9xJaZq5DpxeIgVDgAAAAHBBm3RJqEFsmUwIV//94QAABJfqJ4MpQ6qUfuERvYm/RoHqiL5ay/6TXJ41jWdiY6h6BrUbwID6o8lspKBGegrckLBevN1eAAGVrgSuMEZd7on9Pk54VX8772qDWj2nR6UInqjZF68F8IJVLqgvQEALAAAALkGfkkUVLCv/AAAZKYPNikiN/bAAleoijozj4RL2HBxx7aKklfTaykBW9DWoy9UAAAAlAZ+xdEJ/AAAFi9DBxOyKfmTQ7irA5RIBEtlvUPlYwuwGdMFXTQAAABgBn7NqQn8AACfJgHDcoNcXJIams8JQTcEAAAB2QZu4SahBbJlMCFf//eEAAASTW9DwPtpXf2iguYL3rnXxMtPd8zSDQ+62V141vtfaxqNdXXmdVRkm6COssIHz3tKqMgYIkKh7A8s1pBPECROR1SDA3y+TyvOY02j+G+5ng1IFM3k24Pyi5rTDjsDbZp3jf5tSqAAAADZBn9ZFFSwr/wAAGSCH+qFMiUAAmpucCYYtUU4tVEC6iJ3nypxx4QnqEBPM/4y1Tbe6QVEP8YsAAAAuAZ/1dEJ/AAAnwpNNhDFNlaAEl3uAfyw49Y6t1GsFNMoGa6c60MOvbfDbvnd1gAAAAB0Bn/dqQn8AACfJgHESrvDoQehrjOtewIeCzlDFgQAAAFNBm/xJqEFsmUwIV//94QAABJNb0baZOnHz6uPAI3eoPme2Stnc34ot7KTdL1hLDev8PdHxY5NtJoGv721hHxt3yUCea6MynXFjA9gx9sH25DuDUQAAACFBnhpFFSwr/wAAGSCIklBiW1wpel49SVaTJHBUA+h2vtwAAAAnAZ45dEJ/AAAnwtvMFjkljpr8agG4Xx6xuEP5IFLx6FOmBz7A92LAAAAAGQGeO2pCfwAAJ8n1Nj3icszfJ/arKQCl8Z8AAABIQZo+SahBbJlMFEwv//3xAAADAucCxKjzshZ8aHZLNPPMIcJ4NtiWyzl2QX/Us9nxc4HqGECzp7O7Q34SPX77GVl0UnuEUiQ6AAAAKAGeXWpCfwAAJ8nzBcCrDjEhXYKqaegbAFedaNu34yxD1Q6AWUIJMuEAAABPQZpCSeEKUmUwIV/94QAABLOjetM3NKBAOX5ntjSQHUitVyCm9qzD4WWGa/iEjKyyL6dS4qY+GJ0UaFgGB9Gwt5MGTTI/g3BTy3vyHDgUoAAAADRBnmBFNEwr/wAAGSmQtvARQSvJsLEfaAFi7DKvk1vB36U4A8Sy1ayVOcLCzRnPIjUtAtG5AAAAGwGen3RCfwAABdBSabCFOXkUgTTU0CU+0gpFbQAAACYBnoFqQn8AACfKBMigwXyucU71PoLZxsXJjL8clm8rEZI0JKHIcQAAADpBmoZJqEFomUwIV//94QAABLNbyLrscUJLBhTkeYEl1rGwFlKU1aWC3uZOhMwAtP6VA6AQI+waFQJRAAAAKEGepEURLCv/AAAZwIe3Dbkbkw19tghkUqMJwb1+GQoTD977f8uAlgQAAAAfAZ7DdEJ/AAAo4pNNhDFM32Ds6W2zr5eu7vQhk9JDPgAAABYBnsVqQn8AACjpgHDcoNcXHxWlEDrhAAAAMUGayEmoQWyZTBRMJ//8hAAAEkwD1ZlhQIEe8q+0344pgATJENdv4KC+YRu1DhWPFIAAAAAjAZ7nakJ/AAAo+YSz3EnU+BQrwB1Ngmw2xuAJNH8w7T1XhpgAADHdbW9vdgAAAGxtdmhkAAAAAAAAAAAAAAAAAAAD6AAAgtwAAQAAAQAAAAAAAAAAAAAAAAEAAAAAAAAAAAAAAAAAAAABAAAAAAAAAAAAAAAAAABAAAAAAAAAAAAAAAAAAAAAAAAAAAAAAAAAAAAAAAAAAgAAMQd0cmFrAAAAXHRraGQAAAADAAAAAAAAAAAAAAABAAAAAAAAgtwAAAAAAAAAAAAAAAAAAAAAAAEAAAAAAAAAAAAAAAAAAAABAAAAAAAAAAAAAAAAAABAAAAAAmAAAAGQAAAAAAAkZWR0cwAAABxlbHN0AAAAAAAAAAEAAILcAAAEAAABAAAAADB/bWRpYQAAACBtZGhkAAAAAAAAAAAAAAAAAAA8AAAH2gBVxAAAAAAALWhkbHIAAAAAAAAAAHZpZGUAAAAAAAAAAAAAAABWaWRlb0hhbmRsZXIAAAAwKm1pbmYAAAAUdm1oZAAAAAEAAAAAAAAAAAAAACRkaW5mAAAAHGRyZWYAAAAAAAAAAQAAAAx1cmwgAAAAAQAAL+pzdGJsAAAAlnN0c2QAAAAAAAAAAQAAAIZhdmMxAAAAAAAAAAEAAAAAAAAAAAAAAAAAAAAAAmABkABIAAAASAAAAAAAAAABAAAAAAAAAAAAAAAAAAAAAAAAAAAAAAAAAAAAAAAAAAAAGP//AAAAMGF2Y0MBZAAe/+EAGGdkAB6s2UCYM6EAAAMAAQAAAwA8DxYtlgEABWjr5yyLAAAAGHN0dHMAAAAAAAAAAQAAA+0AAAIAAAAAJHN0c3MAAAAAAAAABQAAAAEAAADKAAABkwAAAlwAAAMlAAAfGGN0dHMAAAAAAAAD4QAAAAEAAAQAAAAAAQAACgAAAAABAAAEAAAAAAEAAAAAAAAAAQAAAgAAAAABAAAKAAAAAAEAAAQAAAAAAQAAAAAAAAABAAACAAAAAAEAAAoAAAAAAQAABAAAAAABAAAAAAAAAAEAAAIAAAAAAQAACgAAAAABAAAEAAAAAAEAAAAAAAAAAQAAAgAAAAABAAAKAAAAAAEAAAQAAAAAAQAAAAAAAAABAAACAAAAAAEAAAgAAAAAAgAAAgAAAAABAAAKAAAAAAEAAAQAAAAAAQAAAAAAAAABAAACAAAAAAEAAAoAAAAAAQAABAAAAAABAAAAAAAAAAEAAAIAAAAAAQAACgAAAAABAAAEAAAAAAEAAAAAAAAAAQAAAgAAAAABAAAKAAAAAAEAAAQAAAAAAQAAAAAAAAABAAACAAAAAAEAAAoAAAAAAQAABAAAAAABAAAAAAAAAAEAAAIAAAAAAQAACgAAAAABAAAEAAAAAAEAAAAAAAAAAQAAAgAAAAABAAAKAAAAAAEAAAQAAAAAAQAAAAAAAAABAAACAAAAAAEAAAoAAAAAAQAABAAAAAABAAAAAAAAAAEAAAIAAAAAAQAACgAAAAABAAAEAAAAAAEAAAAAAAAAAQAAAgAAAAABAAAKAAAAAAEAAAQAAAAAAQAAAAAAAAABAAACAAAAAAEAAAoAAAAAAQAABAAAAAABAAAAAAAAAAEAAAIAAAAAAQAACgAAAAABAAAEAAAAAAEAAAAAAAAAAQAAAgAAAAABAAAKAAAAAAEAAAQAAAAAAQAAAAAAAAABAAACAAAAAAEAAAoAAAAAAQAABAAAAAABAAAAAAAAAAEAAAIAAAAAAQAACgAAAAABAAAEAAAAAAEAAAAAAAAAAQAAAgAAAAABAAAKAAAAAAEAAAQAAAAAAQAAAAAAAAABAAACAAAAAAEAAAoAAAAAAQAABAAAAAABAAAAAAAAAAEAAAIAAAAAAQAACAAAAAACAAACAAAAAAEAAAoAAAAAAQAABAAAAAABAAAAAAAAAAEAAAIAAAAAAQAACgAAAAABAAAEAAAAAAEAAAAAAAAAAQAAAgAAAAABAAAKAAAAAAEAAAQAAAAAAQAAAAAAAAABAAACAAAAAAEAAAoAAAAAAQAABAAAAAABAAAAAAAAAAEAAAIAAAAAAQAACgAAAAABAAAEAAAAAAEAAAAAAAAAAQAAAgAAAAABAAAKAAAAAAEAAAQAAAAAAQAAAAAAAAABAAACAAAAAAEAAAoAAAAAAQAABAAAAAABAAAAAAAAAAEAAAIAAAAAAQAACgAAAAABAAAEAAAAAAEAAAAAAAAAAQAAAgAAAAABAAAKAAAAAAEAAAQAAAAAAQAAAAAAAAABAAACAAAAAAEAAAoAAAAAAQAABAAAAAABAAAAAAAAAAEAAAIAAAAAAQAACgAAAAABAAAEAAAAAAEAAAAAAAAAAQAAAgAAAAABAAAKAAAAAAEAAAQAAAAAAQAAAAAAAAABAAACAAAAAAEAAAoAAAAAAQAABAAAAAABAAAAAAAAAAEAAAIAAAAAAQAACgAAAAABAAAEAAAAAAEAAAAAAAAAAQAAAgAAAAABAAAKAAAAAAEAAAQAAAAAAQAAAAAAAAABAAACAAAAAAEAAAoAAAAAAQAABAAAAAABAAAAAAAAAAEAAAIAAAAAAQAACAAAAAACAAACAAAAAAEAAAoAAAAAAQAABAAAAAABAAAAAAAAAAEAAAIAAAAAAQAACgAAAAABAAAEAAAAAAEAAAAAAAAAAQAAAgAAAAABAAAIAAAAAAIAAAIAAAAAAQAACgAAAAABAAAEAAAAAAEAAAAAAAAAAQAAAgAAAAABAAAKAAAAAAEAAAQAAAAAAQAAAAAAAAABAAACAAAAAAEAAAoAAAAAAQAABAAAAAABAAAAAAAAAAEAAAIAAAAAAQAACgAAAAABAAAEAAAAAAEAAAAAAAAAAQAAAgAAAAABAAAKAAAAAAEAAAQAAAAAAQAAAAAAAAABAAACAAAAAAEAAAoAAAAAAQAABAAAAAABAAAAAAAAAAEAAAIAAAAAAQAACgAAAAABAAAEAAAAAAEAAAAAAAAAAQAAAgAAAAABAAAEAAAAAAEAAAoAAAAAAQAABAAAAAABAAAAAAAAAAEAAAIAAAAAAQAACgAAAAABAAAEAAAAAAEAAAAAAAAAAQAAAgAAAAABAAAKAAAAAAEAAAQAAAAAAQAAAAAAAAABAAACAAAAAAEAAAoAAAAAAQAABAAAAAABAAAAAAAAAAEAAAIAAAAAAQAACgAAAAABAAAEAAAAAAEAAAAAAAAAAQAAAgAAAAABAAAKAAAAAAEAAAQAAAAAAQAAAAAAAAABAAACAAAAAAEAAAoAAAAAAQAABAAAAAABAAAAAAAAAAEAAAIAAAAAAQAACgAAAAABAAAEAAAAAAEAAAAAAAAAAQAAAgAAAAABAAAKAAAAAAEAAAQAAAAAAQAAAAAAAAABAAACAAAAAAEAAAYAAAAAAQAAAgAAAAABAAAKAAAAAAEAAAQAAAAAAQAAAAAAAAABAAACAAAAAAEAAAoAAAAAAQAABAAAAAABAAAAAAAAAAEAAAIAAAAAAQAACgAAAAABAAAEAAAAAAEAAAAAAAAAAQAAAgAAAAABAAAKAAAAAAEAAAQAAAAAAQAAAAAAAAABAAACAAAAAAEAAAoAAAAAAQAABAAAAAABAAAAAAAAAAEAAAIAAAAAAQAACgAAAAABAAAEAAAAAAEAAAAAAAAAAQAAAgAAAAABAAAKAAAAAAEAAAQAAAAAAQAAAAAAAAABAAACAAAAAAEAAAoAAAAAAQAABAAAAAABAAAAAAAAAAEAAAIAAAAAAQAACgAAAAABAAAEAAAAAAEAAAAAAAAAAQAAAgAAAAABAAAKAAAAAAEAAAQAAAAAAQAAAAAAAAABAAACAAAAAAEAAAoAAAAAAQAABAAAAAABAAAAAAAAAAEAAAIAAAAAAQAACgAAAAABAAAEAAAAAAEAAAAAAAAAAQAAAgAAAAABAAAKAAAAAAEAAAQAAAAAAQAAAAAAAAABAAACAAAAAAEAAAoAAAAAAQAABAAAAAABAAAAAAAAAAEAAAIAAAAAAQAACgAAAAABAAAEAAAAAAEAAAAAAAAAAQAAAgAAAAABAAAKAAAAAAEAAAQAAAAAAQAAAAAAAAABAAACAAAAAAEAAAoAAAAAAQAABAAAAAABAAAAAAAAAAEAAAIAAAAAAQAACgAAAAABAAAEAAAAAAEAAAAAAAAAAQAAAgAAAAABAAAKAAAAAAEAAAQAAAAAAQAAAAAAAAABAAACAAAAAAEAAAoAAAAAAQAABAAAAAABAAAAAAAAAAEAAAIAAAAAAQAACgAAAAABAAAEAAAAAAEAAAAAAAAAAQAAAgAAAAABAAAKAAAAAAEAAAQAAAAAAQAAAAAAAAABAAACAAAAAAEAAAoAAAAAAQAABAAAAAABAAAAAAAAAAEAAAIAAAAAAQAACgAAAAABAAAEAAAAAAEAAAAAAAAAAQAAAgAAAAABAAAGAAAAAAEAAAIAAAAAAQAACgAAAAABAAAEAAAAAAEAAAAAAAAAAQAAAgAAAAABAAAKAAAAAAEAAAQAAAAAAQAAAAAAAAABAAACAAAAAAEAAAoAAAAAAQAABAAAAAABAAAAAAAAAAEAAAIAAAAAAQAABgAAAAABAAACAAAAAAEAAAoAAAAAAQAABAAAAAABAAAAAAAAAAEAAAIAAAAAAQAACgAAAAABAAAEAAAAAAEAAAAAAAAAAQAAAgAAAAABAAAKAAAAAAEAAAQAAAAAAQAAAAAAAAABAAACAAAAAAEAAAoAAAAAAQAABAAAAAABAAAAAAAAAAEAAAIAAAAAAQAACgAAAAABAAAEAAAAAAEAAAAAAAAAAQAAAgAAAAABAAAKAAAAAAEAAAQAAAAAAQAAAAAAAAABAAACAAAAAAEAAAgAAAAAAgAAAgAAAAABAAAKAAAAAAEAAAQAAAAAAQAAAAAAAAABAAACAAAAAAEAAAoAAAAAAQAABAAAAAABAAAAAAAAAAEAAAIAAAAAAQAACgAAAAABAAAEAAAAAAEAAAAAAAAAAQAAAgAAAAABAAAKAAAAAAEAAAQAAAAAAQAAAAAAAAABAAACAAAAAAEAAAgAAAAAAgAAAgAAAAABAAAKAAAAAAEAAAQAAAAAAQAAAAAAAAABAAACAAAAAAEAAAQAAAAAAQAACgAAAAABAAAEAAAAAAEAAAAAAAAAAQAAAgAAAAABAAAKAAAAAAEAAAQAAAAAAQAAAAAAAAABAAACAAAAAAEAAAoAAAAAAQAABAAAAAABAAAAAAAAAAEAAAIAAAAAAQAACgAAAAABAAAEAAAAAAEAAAAAAAAAAQAAAgAAAAABAAAKAAAAAAEAAAQAAAAAAQAAAAAAAAABAAACAAAAAAEAAAoAAAAAAQAABAAAAAABAAAAAAAAAAEAAAIAAAAAAQAACgAAAAABAAAEAAAAAAEAAAAAAAAAAQAAAgAAAAABAAAKAAAAAAEAAAQAAAAAAQAAAAAAAAABAAACAAAAAAEAAAoAAAAAAQAABAAAAAABAAAAAAAAAAEAAAIAAAAAAQAACgAAAAABAAAEAAAAAAEAAAAAAAAAAQAAAgAAAAABAAAKAAAAAAEAAAQAAAAAAQAAAAAAAAABAAACAAAAAAEAAAoAAAAAAQAABAAAAAABAAAAAAAAAAEAAAIAAAAAAQAACgAAAAABAAAEAAAAAAEAAAAAAAAAAQAAAgAAAAABAAAKAAAAAAEAAAQAAAAAAQAAAAAAAAABAAACAAAAAAEAAAoAAAAAAQAABAAAAAABAAAAAAAAAAEAAAIAAAAAAQAACgAAAAABAAAEAAAAAAEAAAAAAAAAAQAAAgAAAAABAAAKAAAAAAEAAAQAAAAAAQAAAAAAAAABAAACAAAAAAEAAAoAAAAAAQAABAAAAAABAAAAAAAAAAEAAAIAAAAAAQAACgAAAAABAAAEAAAAAAEAAAAAAAAAAQAAAgAAAAABAAAKAAAAAAEAAAQAAAAAAQAAAAAAAAABAAACAAAAAAEAAAoAAAAAAQAABAAAAAABAAAAAAAAAAEAAAIAAAAAAQAABgAAAAABAAACAAAAAAEAAAoAAAAAAQAABAAAAAABAAAAAAAAAAEAAAIAAAAAAQAACgAAAAABAAAEAAAAAAEAAAAAAAAAAQAAAgAAAAABAAAKAAAAAAEAAAQAAAAAAQAAAAAAAAABAAACAAAAAAEAAAoAAAAAAQAABAAAAAABAAAAAAAAAAEAAAIAAAAAAQAACgAAAAABAAAEAAAAAAEAAAAAAAAAAQAAAgAAAAABAAAKAAAAAAEAAAQAAAAAAQAAAAAAAAABAAACAAAAAAEAAAoAAAAAAQAABAAAAAABAAAAAAAAAAEAAAIAAAAAAQAACgAAAAABAAAEAAAAAAEAAAAAAAAAAQAAAgAAAAABAAAIAAAAAAIAAAIAAAAAAQAACgAAAAABAAAEAAAAAAEAAAAAAAAAAQAAAgAAAAABAAAKAAAAAAEAAAQAAAAAAQAAAAAAAAABAAACAAAAAAEAAAoAAAAAAQAABAAAAAABAAAAAAAAAAEAAAIAAAAAAQAACgAAAAABAAAEAAAAAAEAAAAAAAAAAQAAAgAAAAABAAAKAAAAAAEAAAQAAAAAAQAAAAAAAAABAAACAAAAAAEAAAoAAAAAAQAABAAAAAABAAAAAAAAAAEAAAIAAAAAAQAACgAAAAABAAAEAAAAAAEAAAAAAAAAAQAAAgAAAAABAAAIAAAAAAIAAAIAAAAAAQAACgAAAAABAAAEAAAAAAEAAAAAAAAAAQAAAgAAAAABAAAKAAAAAAEAAAQAAAAAAQAAAAAAAAABAAACAAAAAAEAAAoAAAAAAQAABAAAAAABAAAAAAAAAAEAAAIAAAAAAQAABgAAAAABAAACAAAAAAEAAAYAAAAAAQAAAgAAAAABAAAKAAAAAAEAAAQAAAAAAQAAAAAAAAABAAACAAAAAAEAAAoAAAAAAQAABAAAAAABAAAAAAAAAAEAAAIAAAAAAQAACgAAAAABAAAEAAAAAAEAAAAAAAAAAQAAAgAAAAABAAAKAAAAAAEAAAQAAAAAAQAAAAAAAAABAAACAAAAAAEAAAoAAAAAAQAABAAAAAABAAAAAAAAAAEAAAIAAAAAAQAACgAAAAABAAAEAAAAAAEAAAAAAAAAAQAAAgAAAAABAAAKAAAAAAEAAAQAAAAAAQAAAAAAAAABAAACAAAAAAEAAAoAAAAAAQAABAAAAAABAAAAAAAAAAEAAAIAAAAAAQAABAAAAAABAAAKAAAAAAEAAAQAAAAAAQAAAAAAAAABAAACAAAAAAEAAAoAAAAAAQAABAAAAAABAAAAAAAAAAEAAAIAAAAAAQAACgAAAAABAAAEAAAAAAEAAAAAAAAAAQAAAgAAAAABAAAKAAAAAAEAAAQAAAAAAQAAAAAAAAABAAACAAAAAAEAAAoAAAAAAQAABAAAAAABAAAAAAAAAAEAAAIAAAAAAQAACgAAAAABAAAEAAAAAAEAAAAAAAAAAQAAAgAAAAABAAAKAAAAAAEAAAQAAAAAAQAAAAAAAAABAAACAAAAAAEAAAoAAAAAAQAABAAAAAABAAAAAAAAAAEAAAIAAAAAAQAACgAAAAABAAAEAAAAAAEAAAAAAAAAAQAAAgAAAAABAAAGAAAAAAEAAAIAAAAAAQAACgAAAAABAAAEAAAAAAEAAAAAAAAAAQAAAgAAAAABAAAKAAAAAAEAAAQAAAAAAQAAAAAAAAABAAACAAAAAAEAAAoAAAAAAQAABAAAAAABAAAAAAAAAAEAAAIAAAAAAQAACgAAAAABAAAEAAAAAAEAAAAAAAAAAQAAAgAAAAABAAAKAAAAAAEAAAQAAAAAAQAAAAAAAAABAAACAAAAAAEAAAoAAAAAAQAABAAAAAABAAAAAAAAAAEAAAIAAAAAAQAACgAAAAABAAAEAAAAAAEAAAAAAAAAAQAAAgAAAAABAAAKAAAAAAEAAAQAAAAAAQAAAAAAAAABAAACAAAAAAEAAAoAAAAAAQAABAAAAAABAAAAAAAAAAEAAAIAAAAAAQAACgAAAAABAAAEAAAAAAEAAAAAAAAAAQAAAgAAAAABAAAKAAAAAAEAAAQAAAAAAQAAAAAAAAABAAACAAAAAAEAAAYAAAAAAQAAAgAAAAABAAAEAAAAAAEAAAoAAAAAAQAABAAAAAABAAAAAAAAAAEAAAIAAAAAAQAACgAAAAABAAAEAAAAAAEAAAAAAAAAAQAAAgAAAAABAAAKAAAAAAEAAAQAAAAAAQAAAAAAAAABAAACAAAAAAEAAAoAAAAAAQAABAAAAAABAAAAAAAAAAEAAAIAAAAAAQAACgAAAAABAAAEAAAAAAEAAAAAAAAAAQAAAgAAAAABAAAKAAAAAAEAAAQAAAAAAQAAAAAAAAABAAACAAAAAAEAAAoAAAAAAQAABAAAAAABAAAAAAAAAAEAAAIAAAAAAQAACgAAAAABAAAEAAAAAAEAAAAAAAAAAQAAAgAAAAABAAAKAAAAAAEAAAQAAAAAAQAAAAAAAAABAAACAAAAAAEAAAoAAAAAAQAABAAAAAABAAAAAAAAAAEAAAIAAAAAAQAACgAAAAABAAAEAAAAAAEAAAAAAAAAAQAAAgAAAAABAAAKAAAAAAEAAAQAAAAAAQAAAAAAAAABAAACAAAAAAEAAAoAAAAAAQAABAAAAAABAAAAAAAAAAEAAAIAAAAAAQAACgAAAAABAAAEAAAAAAEAAAAAAAAAAQAAAgAAAAABAAAKAAAAAAEAAAQAAAAAAQAAAAAAAAABAAACAAAAAAEAAAoAAAAAAQAABAAAAAABAAAAAAAAAAEAAAIAAAAAAQAACAAAAAACAAACAAAAAAEAAAoAAAAAAQAABAAAAAABAAAAAAAAAAEAAAIAAAAAAQAACgAAAAABAAAEAAAAAAEAAAAAAAAAAQAAAgAAAAABAAAIAAAAAAIAAAIAAAAAAQAACgAAAAABAAAEAAAAAAEAAAAAAAAAAQAAAgAAAAABAAAEAAAAAAEAAAoAAAAAAQAABAAAAAABAAAAAAAAAAEAAAIAAAAAAQAACgAAAAABAAAEAAAAAAEAAAAAAAAAAQAAAgAAAAABAAAKAAAAAAEAAAQAAAAAAQAAAAAAAAABAAACAAAAAAEAAAoAAAAAAQAABAAAAAABAAAAAAAAAAEAAAIAAAAAAQAACgAAAAABAAAEAAAAAAEAAAAAAAAAAQAAAgAAAAABAAAKAAAAAAEAAAQAAAAAAQAAAAAAAAABAAACAAAAAAEAAAoAAAAAAQAABAAAAAABAAAAAAAAAAEAAAIAAAAAAQAACgAAAAABAAAEAAAAAAEAAAAAAAAAAQAAAgAAAAABAAAEAAAAAAEAAAoAAAAAAQAABAAAAAABAAAAAAAAAAEAAAIAAAAAAQAACgAAAAABAAAEAAAAAAEAAAAAAAAAAQAAAgAAAAABAAAKAAAAAAEAAAQAAAAAAQAAAAAAAAABAAACAAAAAAEAAAoAAAAAAQAABAAAAAABAAAAAAAAAAEAAAIAAAAAAQAACgAAAAABAAAEAAAAAAEAAAAAAAAAAQAAAgAAAAABAAAKAAAAAAEAAAQAAAAAAQAAAAAAAAABAAACAAAAAAEAAAoAAAAAAQAABAAAAAABAAAAAAAAAAEAAAIAAAAAAQAACgAAAAABAAAEAAAAAAEAAAAAAAAAAQAAAgAAAAABAAAKAAAAAAEAAAQAAAAAAQAAAAAAAAABAAACAAAAAAEAAAoAAAAAAQAABAAAAAABAAAAAAAAAAEAAAIAAAAAAQAACgAAAAABAAAEAAAAAAEAAAAAAAAAAQAAAgAAAAABAAAKAAAAAAEAAAQAAAAAAQAAAAAAAAABAAACAAAAAAEAAAoAAAAAAQAABAAAAAABAAAAAAAAAAEAAAIAAAAAAQAACAAAAAACAAACAAAAAAEAAAoAAAAAAQAABAAAAAABAAAAAAAAAAEAAAIAAAAAAQAACgAAAAABAAAEAAAAAAEAAAAAAAAAAQAAAgAAAAABAAAKAAAAAAEAAAQAAAAAAQAAAAAAAAABAAACAAAAAAEAAAoAAAAAAQAABAAAAAABAAAAAAAAAAEAAAIAAAAAAQAACgAAAAABAAAEAAAAAAEAAAAAAAAAAQAAAgAAAAABAAAKAAAAAAEAAAQAAAAAAQAAAAAAAAABAAACAAAAAAEAAAoAAAAAAQAABAAAAAABAAAAAAAAAAEAAAIAAAAAAQAACgAAAAABAAAEAAAAAAEAAAAAAAAAAQAAAgAAAAABAAAEAAAAAAEAAAoAAAAAAQAABAAAAAABAAAAAAAAAAEAAAIAAAAAAQAACgAAAAABAAAEAAAAAAEAAAAAAAAAAQAAAgAAAAABAAAKAAAAAAEAAAQAAAAAAQAAAAAAAAABAAACAAAAAAEAAAoAAAAAAQAABAAAAAABAAAAAAAAAAEAAAIAAAAAAQAACgAAAAABAAAEAAAAAAEAAAAAAAAAAQAAAgAAAAABAAAKAAAAAAEAAAQAAAAAAQAAAAAAAAABAAACAAAAAAEAAAoAAAAAAQAABAAAAAABAAAAAAAAAAEAAAIAAAAAAQAACgAAAAABAAAEAAAAAAEAAAAAAAAAAQAAAgAAAAABAAAKAAAAAAEAAAQAAAAAAQAAAAAAAAABAAACAAAAAAEAAAoAAAAAAQAABAAAAAABAAAAAAAAAAEAAAIAAAAAAQAACgAAAAABAAAEAAAAAAEAAAAAAAAAAQAAAgAAAAABAAAKAAAAAAEAAAQAAAAAAQAAAAAAAAABAAACAAAAAAEAAAoAAAAAAQAABAAAAAABAAAAAAAAAAEAAAIAAAAAAQAACgAAAAABAAAEAAAAAAEAAAAAAAAAAQAAAgAAAAABAAAKAAAAAAEAAAQAAAAAAQAAAAAAAAABAAACAAAAAAEAAAoAAAAAAQAABAAAAAABAAAAAAAAAAEAAAIAAAAAAQAABAAAAAABAAAKAAAAAAEAAAQAAAAAAQAAAAAAAAABAAACAAAAAAEAAAoAAAAAAQAABAAAAAABAAAAAAAAAAEAAAIAAAAAAQAACgAAAAABAAAEAAAAAAEAAAAAAAAAAQAAAgAAAAABAAAKAAAAAAEAAAQAAAAAAQAAAAAAAAABAAACAAAAAAEAAAoAAAAAAQAABAAAAAABAAAAAAAAAAEAAAIAAAAAAQAACAAAAAACAAACAAAAAAEAAAoAAAAAAQAABAAAAAABAAAAAAAAAAEAAAIAAAAAAQAACgAAAAABAAAEAAAAAAEAAAAAAAAAAQAAAgAAAAABAAAKAAAAAAEAAAQAAAAAAQAAAAAAAAABAAACAAAAAAEAAAYAAAAAAQAAAgAAAAABAAAKAAAAAAEAAAQAAAAAAQAAAAAAAAABAAACAAAAAAEAAAoAAAAAAQAABAAAAAABAAAAAAAAAAEAAAIAAAAAAQAABgAAAAABAAACAAAAABxzdHNjAAAAAAAAAAEAAAABAAAD7QAAAAEAAA/Ic3RzegAAAAAAAAAAAAAD7QAABJgAAACaAAAAPQAAACcAAAAxAAAAgwAAACsAAAAYAAAAIgAAAIAAAAA3AAAAHQAAAB4AAACpAAAANQAAACIAAAAbAAAAZwAAAB0AAAAbAAAAEgAAABsAAAAUAAAAKgAAAG4AAAAhAAAAIAAAABIAAABdAAAAJgAAABsAAAAaAAAAOwAAAB4AAAAnAAAAEgAAAI4AAAAwAAAALgAAACsAAACbAAAAOgAAACwAAAAgAAAASgAAACgAAAAxAAAAOQAAAIQAAAAvAAAAJQAAACMAAABCAAAAKwAAACQAAAAiAAAAmgAAADMAAAAfAAAALQAAAGsAAAAqAAAALAAAACgAAADAAAAANgAAACsAAAAxAAAAYwAAADAAAAAjAAAAKgAAAFsAAAArAAAAJQAAACcAAABnAAAAJwAAACkAAAAqAAAAWAAAACUAAAAaAAAAJQAAADcAAABIAAAAJgAAACMAAACGAAAANQAAACoAAAAlAAAAcwAAADYAAAAzAAAAYAAAACoAAAAnAAAAJgAAAJYAAAA1AAAAIwAAACkAAABLAAAAMQAAAC8AAAAbAAAAXgAAAC0AAAAjAAAAKgAAAEgAAAAlAAAAMQAAACMAAABJAAAAMgAAABwAAAAfAAAATAAAAC8AAAAyAAAAGwAAAFYAAAArAAAAJAAAAB0AAACWAAAANAAAACkAAAA1AAAAYgAAACkAAAAiAAAAJwAAAJgAAAA3AAAAJgAAACUAAABAAAAAPQAAACIAAAAaAAAATAAAACYAAAAkAAAAIQAAAFAAAAAmAAAAJAAAABsAAABfAAAAMQAAAB8AAAAoAAAASAAAACsAAAAnAAAAHgAAAEAAAAAlAAAAIQAAAGMAAAAxAAAAJQAAACUAAAB7AAAAJgAAAB0AAAArAAAAQwAAAC8AAAAuAAAAYQAAACkAAAAnAAAAGQAAAIcAAAAuAAAAHwAAAC4AAABAAAAALgAAAC4AAAAfAAAAUwAAAC8AAAAdAAAAJQAAADUAAAA0AAAAJwAAACIAAAA6AAAAKAAAABoAAAAkAAAAOQAAADAAAAAjAAAAHAAAAcwAAAB+AAAALQAAACAAAAAiAAAAngAAACgAAAAVAAAAIQAAAEgAAAAzAAAAIQAAACUAAABBAAAAKgAAABwAAAAhAAAAQwAAACAAAAASAAAAGwAAADgAAAAoAAAAHwAAABwAAABFAAAAQQAAACEAAAAmAAAATQAAADMAAAAhAAAAOAAAAIcAAAAtAAAALQAAAC8AAABNAAAALgAAAKYAAABZAAAAKAAAACMAAABYAAAAKAAAACAAAAAmAAAAlwAAACgAAAAgAAAAIgAAAEMAAAAoAAAAMAAAADUAAABbAAAANgAAACEAAAAqAAAAVQAAACsAAAAoAAAAJAAAAFwAAAAtAAAAKwAAAC4AAAA+AAAAJwAAAB4AAAAmAAAAfgAAADEAAAAqAAAAKAAAAFYAAAAoAAAAKAAAACAAAAB/AAAAMAAAACoAAAAnAAAAMwAAACUAAAAgAAAAIQAAAFMAAAAqAAAAHgAAAB4AAABVAAAAKQAAACcAAAAfAAAAUAAAACoAAAAaAAAALgAAAEQAAAAwAAAAGQAAACMAAACEAAAAJwAAACcAAAAnAAAAWAAAAC8AAAAbAAAAJwAAAHoAAAAuAAAAIQAAABgAAABiAAAALgAAACsAAAAdAAAAYgAAAC0AAAAmAAAAJgAAAD0AAAAtAAAALQAAAB0AAABIAAAALAAAACQAAAAmAAAAfQAAADIAAAAgAAAAKwAAAEkAAAAuAAAAWAAAACwAAAAeAAAAJQAAAJIAAAA3AAAAKwAAACEAAABaAAAAKgAAACkAAAAgAAAAZQAAAB0AAACGAAAALAAAABkAAAAsAAAATAAAACsAAAAdAAAAHAAAAGIAAAApAAAAIQAAABoAAAA3AAAAKQAAACAAAAAkAAAAPAAAACcAAAAfAAAAGgAAAHQAAAAxAAAAJwAAAB0AAAA3AAAAKQAAAB0AAAByAAAANAAAACgAAAAfAAAAbgAAAC8AAAAeAAAAIwAAAEIAAAAlAAAAIwAAABIAAABQAAAALgAAACcAAAAZAAAASQAAACgAAAArAAAANQAAADgAAAAgAAAAGgAAAhAAAABVAAAALQAAAB4AAAAfAAAAXwAAACgAAAAYAAAAIQAAAGIAAAAhAAAAKgAAABIAAACcAAAANQAAAC8AAAAhAAAAGgAAAD0AAAAdAAAAJwAAABsAAAAUAAAAEgAAABIAAABeAAAAMQAAABoAAAAjAAAAQwAAAB4AAAAdAAAAEgAAAD4AAAA/AAAAIAAAACIAAABFAAAAKwAAADkAAAAfAAAAegAAACoAAAAnAAAAJAAAAKcAAABQAAAAMQAAACMAAABuAAAALQAAACEAAAAnAAAAbgAAADUAAAAhAAAAJAAAAFIAAAAzAAAAHgAAACIAAABZAAAAMAAAACgAAAAdAAAAZQAAAC8AAAAmAAAAJAAAAFMAAAAtAAAALgAAAC4AAABIAAAALAAAAB8AAAAhAAAAfwAAADYAAAAqAAAAMwAAAGEAAAAoAAAAKwAAACoAAABQAAAAHQAAAHYAAAAxAAAAGwAAADYAAABOAAAALAAAAC4AAAAfAAAARwAAADEAAAAkAAAAHQAAAGEAAAApAAAAKAAAACcAAABYAAAAKAAAADEAAAAaAAAATwAAAC4AAAAlAAAAHAAAAHEAAAArAAAAJgAAACcAAACGAAAALQAAAB0AAAA1AAAAYwAAACwAAAA3AAAAhAAAAC0AAAAuAAAAKQAAAIsAAAArAAAAJgAAABsAAAA5AAAAMgAAACgAAAAiAAAAbgAAADMAAAArAAAAHwAAADsAAAAuAAAAHQAAACoAAAAsAAAAKwAAAB4AAAAoAAAAawAAACwAAAAkAAAAGwAAAEQAAAAnAAAAIgAAAGoAAAA3AAAAKwAAACcAAACNAAAAOAAAAB8AAAAaAAAAXgAAACoAAAAmAAAAIAAAAHYAAAAhAAAAOQAAABgAAABvAAAAKQAAACgAAAAUAAAATQAAADoAAAAvAAAAKwAAAD4AAAArAAAAHwAAACEAAABFAAAAKQAAACcAAAAbAAAAPgAAACsAAAApAAAAHwAAAD4AAAAvAAAAIAAAABoAAABKAAAAMQAAACUAAAAhAAAAMQAAADsAAAAfAAAAGwAAAlMAAACOAAAAPAAAABwAAAAjAAAAwQAAAEoAAAAiAAAAJQAAAGYAAABEAAAAHgAAACUAAAAbAAAAIQAAAC8AAAASAAAAegAAAC0AAAASAAAAJAAAADgAAAAzAAAAKAAAACUAAABeAAAAPQAAACEAAAAfAAAAZQAAADUAAAAiAAAANAAAAIIAAABJAAAALwAAADIAAAA5AAAAMwAAAIgAAABCAAAAJgAAAB8AAABmAAAAMwAAAB8AAAAnAAAAoAAAADkAAAAoAAAAIQAAAGsAAABBAAAANgAAAB4AAABQAAAANAAAACAAAAAeAAAASwAAADwAAAAgAAAAJAAAAEIAAAA1AAAAJAAAACIAAABoAAAAOgAAACsAAAAhAAAARwAAADcAAAAlAAAAHQAAAKcAAABGAAAAIgAAACgAAABPAAAAOgAAACoAAAAhAAAAOwAAACkAAAA+AAAAdQAAAD0AAAAqAAAAIAAAAE0AAAA1AAAAJQAAABsAAABpAAAAQQAAACAAAAAqAAAAOwAAADIAAAAeAAAAHgAAAE0AAAA4AAAAKAAAABwAAABUAAAAQAAAACoAAAAoAAAAbgAAADMAAAAmAAAAKAAAAJEAAAA+AAAAIgAAACUAAABJAAAANAAAACMAAAAcAAAAcgAAADQAAAAfAAAAJQAAAIUAAABEAAAAJgAAACAAAABIAAAALwAAABsAAAAoAAAAVgAAADsAAAAbAAAAHgAAADwAAAA3AAAALAAAAB0AAABaAAAAMwAAACMAAAAcAAAAWgAAADQAAAAnAAAAIQAAAEAAAAAzAAAALAAAAEgAAAA5AAAAIQAAACMAAAB/AAAAQQAAACIAAAAqAAAAWwAAAD0AAAAzAAAAeQAAADsAAAAoAAAALAAAADAAAABbAAAAPwAAACIAAAAfAAAATwAAAD0AAAAkAAAAKwAAAFEAAAA5AAAAMwAAACkAAABEAAAANQAAACIAAAAdAAAAOQAAAC0AAAAoAAAAFwAAADoAAAA1AAAALwAAACYAAAA9AAAALQAAABcAAAAiAAAALQAAADsAAAAkAAAAHQAAAp4AAAB5AAAAQwAAACEAAAAjAAAAnQAAADAAAAAiAAAAIAAAAIsAAAApAAAAFgAAACEAAAAeAAAAGAAAABQAAAASAAAAmwAAADQAAAAiAAAAHwAAACIAAABFAAAAHgAAACgAAABWAAAAIwAAACoAAAASAAAAVQAAACMAAAAgAAAAFQAAAI8AAAAzAAAALwAAACQAAABjAAAALwAAABoAAAAiAAAAfwAAADcAAAAhAAAALgAAAF8AAAA/AAAAHgAAACcAAAB6AAAAOQAAACIAAAA2AAAATAAAADAAAAAbAAAAoQAAAE4AAAAvAAAAIAAAAFsAAAAnAAAAKQAAADAAAACNAAAAOAAAADUAAAAnAAAAZAAAACwAAAAlAAAAHgAAAEkAAAAlAAAAKQAAACEAAABbAAAAJwAAACQAAAAlAAAAPgAAAC8AAAAsAAAAIQAAAIgAAAA0AAAALgAAACYAAABtAAAAWQAAADkAAAAoAAAAIAAAAG0AAAA6AAAANQAAACcAAABhAAAAKAAAACcAAAAgAAAAPgAAAC0AAAAkAAAAIAAAAEwAAAAxAAAAJQAAACQAAAA6AAAAJwAAACMAAAAlAAAAigAAADYAAAAmAAAAKgAAAFgAAAArAAAALgAAAC0AAACDAAAAKwAAACYAAAAoAAAASwAAACUAAAApAAAAKgAAAEwAAAAlAAAALgAAACMAAAB/AAAALAAAACUAAAAmAAAAUAAAAC4AAAAgAAAAJwAAAEcAAAAxAAAAIQAAACkAAACfAAAAJwAAACMAAAAqAAAAXAAAACsAAAArAAAAIAAAAIEAAABYAAAAKQAAABgAAAApAAAAagAAADEAAAAeAAAAJAAAAEQAAAAyAAAAJwAAACQAAABHAAAAJQAAACsAAAAjAAAAWwAAACgAAAAlAAAAIAAAAD4AAAAsAAAAHAAAAHQAAAAyAAAAKQAAABwAAAB6AAAAOgAAADIAAAAhAAAAVwAAACUAAAArAAAAHQAAAEwAAAAsAAAAUwAAADgAAAAfAAAAKgAAAD4AAAAsAAAAIwAAABoAAAA1AAAAJwAAABRzdGNvAAAAAAAAAAEAAAAwAAAAYnVkdGEAAABabWV0YQAAAAAAAAAhaGRscgAAAAAAAAAAbWRpcmFwcGwAAAAAAAAAAAAAAAAtaWxzdAAAACWpdG9vAAAAHWRhdGEAAAABAAAAAExhdmY1OC4yOS4xMDA=\" type=\"video/mp4\">\n",
       "  Your browser does not support the video tag.\n",
       "  </video>"
      ],
      "text/plain": [
       "<IPython.core.display.HTML object>"
      ]
     },
     "execution_count": 36,
     "metadata": {},
     "output_type": "execute_result"
    }
   ],
   "source": [
    "def create_policy_eval_video(policy, filename, num_episodes=5, fps=30):\n",
    "  filename = filename + \".mp4\"\n",
    "  with imageio.get_writer(filename, fps=fps) as video:\n",
    "    for _ in range(num_episodes):\n",
    "      time_step = eval_env.reset()\n",
    "      video.append_data(eval_py_env.render())\n",
    "      while not time_step.is_last():\n",
    "        action_step = policy.action(time_step)\n",
    "        time_step = eval_env.step(action_step.action)\n",
    "        video.append_data(eval_py_env.render())\n",
    "  return embed_mp4(filename)\n",
    "\n",
    "create_policy_eval_video(agent.policy, \"trained-agent\")"
   ]
  },
  {
   "cell_type": "markdown",
   "metadata": {
    "id": "povaAOcZygLw"
   },
   "source": [
    "For fun, compare the trained agent (above) to an agent moving randomly. (It does not do as well.)"
   ]
  },
  {
   "cell_type": "code",
   "execution_count": null,
   "metadata": {
    "execution": {
     "iopub.execute_input": "2023-12-22T14:02:55.966374Z",
     "iopub.status.busy": "2023-12-22T14:02:55.966121Z",
     "iopub.status.idle": "2023-12-22T14:02:57.039849Z",
     "shell.execute_reply": "2023-12-22T14:02:57.038874Z"
    },
    "id": "pJZIdC37yNH4"
   },
   "outputs": [
    {
     "name": "stderr",
     "output_type": "stream",
     "text": [
      "WARNING:root:IMAGEIO FFMPEG_WRITER WARNING: input image is not divisible by macro_block_size=16, resizing from (400, 600) to (400, 608) to ensure video compatibility with most codecs and players. To prevent resizing, make your input image divisible by the macro_block_size or set the macro_block_size to None (risking incompatibility). You may also see a FFMPEG warning concerning speedloss due to data not being aligned.\n"
     ]
    },
    {
     "name": "stderr",
     "output_type": "stream",
     "text": [
      "[swscaler @ 0x55f466934880] Warning: data is not aligned! This can lead to a speed loss\n"
     ]
    },
    {
     "data": {
      "text/html": [
       "\n",
       "  <video width=\"640\" height=\"480\" controls>\n",
       "    <source src=\"data:video/mp4;base64,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\" type=\"video/mp4\">\n",
       "  Your browser does not support the video tag.\n",
       "  </video>"
      ],
      "text/plain": [
       "<IPython.core.display.HTML object>"
      ]
     },
     "execution_count": 37,
     "metadata": {},
     "output_type": "execute_result"
    }
   ],
   "source": [
    "create_policy_eval_video(random_policy, \"random-agent\")"
   ]
  }
 ],
 "metadata": {
  "colab": {
   "name": "DQN Tutorial.ipynb",
   "private_outputs": true,
   "provenance": [],
   "toc_visible": true
  },
  "kernelspec": {
   "display_name": "tuto_env",
   "language": "python",
   "name": "tuto_env"
  },
  "language_info": {
   "codemirror_mode": {
    "name": "ipython",
    "version": 3
   },
   "file_extension": ".py",
   "mimetype": "text/x-python",
   "name": "python",
   "nbconvert_exporter": "python",
   "pygments_lexer": "ipython3",
   "version": "3.10.12"
  },
  "pycharm": {
   "stem_cell": {
    "cell_type": "raw",
    "metadata": {
     "collapsed": false
    },
    "source": []
   }
  }
 },
 "nbformat": 4,
 "nbformat_minor": 0
}
